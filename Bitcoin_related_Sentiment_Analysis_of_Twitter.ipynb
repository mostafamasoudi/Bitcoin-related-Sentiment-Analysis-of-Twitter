{
  "cells": [
    {
      "cell_type": "code",
      "execution_count": null,
      "metadata": {
        "colab": {
          "base_uri": "https://localhost:8080/"
        },
        "id": "2qN6LS9mJvsV",
        "outputId": "39980172-cafa-46c1-e718-df5a3da5f717"
      },
      "outputs": [
        {
          "name": "stdout",
          "output_type": "stream",
          "text": [
            "Mounted at /content/drive\n"
          ]
        }
      ],
      "source": [
        "from google.colab import drive\n",
        "drive.mount('/content/drive')"
      ]
    },
    {
      "cell_type": "code",
      "execution_count": null,
      "metadata": {
        "colab": {
          "base_uri": "https://localhost:8080/"
        },
        "id": "ohU59Kx4L1gy",
        "outputId": "795f1910-1001-4f8d-d6e1-8209ddf89682"
      },
      "outputs": [
        {
          "name": "stdout",
          "output_type": "stream",
          "text": [
            "/content/drive/.shortcut-targets-by-id/1-IfXUhqCn_8KZDK0QhhHZTsgOCSfVHKY/CryptoSentimentAnalysis\n"
          ]
        }
      ],
      "source": [
        "project_directory = \"/content/drive/MyDrive/CryptoSentimentAnalysis\"\n",
        "!mkdir -p {project_directory}\n",
        "%cd {project_directory}"
      ]
    },
    {
      "cell_type": "markdown",
      "metadata": {
        "id": "xddaaa_OVcIH"
      },
      "source": [
        "# Standard Imports"
      ]
    },
    {
      "cell_type": "code",
      "execution_count": null,
      "metadata": {
        "id": "hkFX59vBV9Pu"
      },
      "outputs": [],
      "source": [
        "import pandas as pd\n",
        "import numpy as np\n",
        "from matplotlib import pyplot as plt\n",
        "import tensorflow as tf"
      ]
    },
    {
      "cell_type": "markdown",
      "metadata": {
        "id": "n9RJXdqstV_L"
      },
      "source": [
        "# Preparation of crawled data"
      ]
    },
    {
      "cell_type": "code",
      "execution_count": null,
      "metadata": {
        "colab": {
          "base_uri": "https://localhost:8080/",
          "height": 818
        },
        "id": "rrsIh7L-toAK",
        "outputId": "878e8d70-f84c-40e3-aa20-eafcf02d6cce"
      },
      "outputs": [
        {
          "data": {
            "text/html": [
              "\n",
              "  <div id=\"df-c8804e88-29ef-45c2-9d20-26a5c7800dc0\">\n",
              "    <div class=\"colab-df-container\">\n",
              "      <div>\n",
              "<style scoped>\n",
              "    .dataframe tbody tr th:only-of-type {\n",
              "        vertical-align: middle;\n",
              "    }\n",
              "\n",
              "    .dataframe tbody tr th {\n",
              "        vertical-align: top;\n",
              "    }\n",
              "\n",
              "    .dataframe thead th {\n",
              "        text-align: right;\n",
              "    }\n",
              "</style>\n",
              "<table border=\"1\" class=\"dataframe\">\n",
              "  <thead>\n",
              "    <tr style=\"text-align: right;\">\n",
              "      <th></th>\n",
              "      <th>date</th>\n",
              "      <th>decoded_tweet</th>\n",
              "      <th>id</th>\n",
              "      <th>replyCount</th>\n",
              "      <th>retweetCount</th>\n",
              "      <th>likeCount</th>\n",
              "      <th>quoteCount</th>\n",
              "      <th>conversationId</th>\n",
              "      <th>media</th>\n",
              "      <th>retweetedTweet</th>\n",
              "      <th>quotedTweet</th>\n",
              "      <th>inReplyToTweetId</th>\n",
              "      <th>hashtags</th>\n",
              "      <th>cashtags</th>\n",
              "      <th>user.username</th>\n",
              "      <th>user.verified</th>\n",
              "      <th>user.followersCount</th>\n",
              "      <th>user.friendsCount</th>\n",
              "    </tr>\n",
              "  </thead>\n",
              "  <tbody>\n",
              "    <tr>\n",
              "      <th>0</th>\n",
              "      <td>2021-02-21T23:59:39+00:00</td>\n",
              "      <td>@BTC_JackSparrow @trader1sz punch him again :'D</td>\n",
              "      <td>1363639553949540355</td>\n",
              "      <td>4</td>\n",
              "      <td>0</td>\n",
              "      <td>17</td>\n",
              "      <td>0</td>\n",
              "      <td>1363638621480357894</td>\n",
              "      <td>NaN</td>\n",
              "      <td>NaN</td>\n",
              "      <td>NaN</td>\n",
              "      <td>1.363639e+18</td>\n",
              "      <td>NaN</td>\n",
              "      <td>NaN</td>\n",
              "      <td>inversebrah</td>\n",
              "      <td>False</td>\n",
              "      <td>199431</td>\n",
              "      <td>3043</td>\n",
              "    </tr>\n",
              "    <tr>\n",
              "      <th>1</th>\n",
              "      <td>2021-02-21T23:58:17+00:00</td>\n",
              "      <td>ETH performing poorly against btc and fees are...</td>\n",
              "      <td>1363639208011849730</td>\n",
              "      <td>8</td>\n",
              "      <td>1</td>\n",
              "      <td>52</td>\n",
              "      <td>0</td>\n",
              "      <td>1363639208011849730</td>\n",
              "      <td>NaN</td>\n",
              "      <td>NaN</td>\n",
              "      <td>NaN</td>\n",
              "      <td>NaN</td>\n",
              "      <td>NaN</td>\n",
              "      <td>NaN</td>\n",
              "      <td>joshnomics</td>\n",
              "      <td>False</td>\n",
              "      <td>17480</td>\n",
              "      <td>441</td>\n",
              "    </tr>\n",
              "    <tr>\n",
              "      <th>2</th>\n",
              "      <td>2021-02-21T23:57:20+00:00</td>\n",
              "      <td>#Bitcoin price at the end of the month?</td>\n",
              "      <td>1363638969414668292</td>\n",
              "      <td>22</td>\n",
              "      <td>0</td>\n",
              "      <td>41</td>\n",
              "      <td>0</td>\n",
              "      <td>1363638969414668292</td>\n",
              "      <td>NaN</td>\n",
              "      <td>NaN</td>\n",
              "      <td>NaN</td>\n",
              "      <td>NaN</td>\n",
              "      <td>['Bitcoin']</td>\n",
              "      <td>NaN</td>\n",
              "      <td>cryptonary</td>\n",
              "      <td>False</td>\n",
              "      <td>80143</td>\n",
              "      <td>199</td>\n",
              "    </tr>\n",
              "    <tr>\n",
              "      <th>3</th>\n",
              "      <td>2021-02-21T23:57:14+00:00</td>\n",
              "      <td>Some people believe without Elon $BTC would ha...</td>\n",
              "      <td>1363638944022155264</td>\n",
              "      <td>9</td>\n",
              "      <td>22</td>\n",
              "      <td>242</td>\n",
              "      <td>1</td>\n",
              "      <td>1363638944022155264</td>\n",
              "      <td>NaN</td>\n",
              "      <td>NaN</td>\n",
              "      <td>NaN</td>\n",
              "      <td>NaN</td>\n",
              "      <td>NaN</td>\n",
              "      <td>['BTC']</td>\n",
              "      <td>krugermacro</td>\n",
              "      <td>False</td>\n",
              "      <td>145371</td>\n",
              "      <td>1510</td>\n",
              "    </tr>\n",
              "    <tr>\n",
              "      <th>4</th>\n",
              "      <td>2021-02-21T23:50:15+00:00</td>\n",
              "      <td>FYI at current Hex price, I am getting $100.57...</td>\n",
              "      <td>1363637189834395650</td>\n",
              "      <td>8</td>\n",
              "      <td>6</td>\n",
              "      <td>60</td>\n",
              "      <td>1</td>\n",
              "      <td>1363637189834395650</td>\n",
              "      <td>[{'_type': 'snscrape.modules.twitter.Gif', 'th...</td>\n",
              "      <td>NaN</td>\n",
              "      <td>NaN</td>\n",
              "      <td>NaN</td>\n",
              "      <td>NaN</td>\n",
              "      <td>NaN</td>\n",
              "      <td>cryptonewbiekid</td>\n",
              "      <td>False</td>\n",
              "      <td>237</td>\n",
              "      <td>179</td>\n",
              "    </tr>\n",
              "    <tr>\n",
              "      <th>...</th>\n",
              "      <td>...</td>\n",
              "      <td>...</td>\n",
              "      <td>...</td>\n",
              "      <td>...</td>\n",
              "      <td>...</td>\n",
              "      <td>...</td>\n",
              "      <td>...</td>\n",
              "      <td>...</td>\n",
              "      <td>...</td>\n",
              "      <td>...</td>\n",
              "      <td>...</td>\n",
              "      <td>...</td>\n",
              "      <td>...</td>\n",
              "      <td>...</td>\n",
              "      <td>...</td>\n",
              "      <td>...</td>\n",
              "      <td>...</td>\n",
              "      <td>...</td>\n",
              "    </tr>\n",
              "    <tr>\n",
              "      <th>29152</th>\n",
              "      <td>2021-03-16T00:09:00+00:00</td>\n",
              "      <td>Yep \\n\\n#Bitcoin has been signaling this for s...</td>\n",
              "      <td>1371614438869065731</td>\n",
              "      <td>11</td>\n",
              "      <td>41</td>\n",
              "      <td>292</td>\n",
              "      <td>0</td>\n",
              "      <td>1371614438869065731</td>\n",
              "      <td>NaN</td>\n",
              "      <td>NaN</td>\n",
              "      <td>NaN</td>\n",
              "      <td>NaN</td>\n",
              "      <td>['Bitcoin']</td>\n",
              "      <td>NaN</td>\n",
              "      <td>maxkeiser</td>\n",
              "      <td>False</td>\n",
              "      <td>484694</td>\n",
              "      <td>902</td>\n",
              "    </tr>\n",
              "    <tr>\n",
              "      <th>29153</th>\n",
              "      <td>2021-03-16T00:06:18+00:00</td>\n",
              "      <td>Cannot wait for Xi Jinping to send me $BTC for...</td>\n",
              "      <td>1371613758934634500</td>\n",
              "      <td>4</td>\n",
              "      <td>0</td>\n",
              "      <td>6</td>\n",
              "      <td>0</td>\n",
              "      <td>1371613758934634500</td>\n",
              "      <td>NaN</td>\n",
              "      <td>NaN</td>\n",
              "      <td>NaN</td>\n",
              "      <td>NaN</td>\n",
              "      <td>NaN</td>\n",
              "      <td>['BTC']</td>\n",
              "      <td>BonifaceOption</td>\n",
              "      <td>False</td>\n",
              "      <td>8275</td>\n",
              "      <td>410</td>\n",
              "    </tr>\n",
              "    <tr>\n",
              "      <th>29154</th>\n",
              "      <td>2021-03-16T00:04:43+00:00</td>\n",
              "      <td>Bitcoin mining wastes electricity you need to ...</td>\n",
              "      <td>1371613360521904128</td>\n",
              "      <td>3</td>\n",
              "      <td>6</td>\n",
              "      <td>65</td>\n",
              "      <td>1</td>\n",
              "      <td>1371613360521904128</td>\n",
              "      <td>[{'_type': 'snscrape.modules.twitter.Photo', '...</td>\n",
              "      <td>NaN</td>\n",
              "      <td>NaN</td>\n",
              "      <td>NaN</td>\n",
              "      <td>NaN</td>\n",
              "      <td>NaN</td>\n",
              "      <td>btcfkyou</td>\n",
              "      <td>False</td>\n",
              "      <td>3377</td>\n",
              "      <td>2784</td>\n",
              "    </tr>\n",
              "    <tr>\n",
              "      <th>29155</th>\n",
              "      <td>2021-03-16T00:04:01+00:00</td>\n",
              "      <td>@enchiridion47 The fundamental difference betw...</td>\n",
              "      <td>1371613183945932801</td>\n",
              "      <td>3</td>\n",
              "      <td>0</td>\n",
              "      <td>6</td>\n",
              "      <td>1</td>\n",
              "      <td>1371612725353193473</td>\n",
              "      <td>NaN</td>\n",
              "      <td>NaN</td>\n",
              "      <td>NaN</td>\n",
              "      <td>1.371613e+18</td>\n",
              "      <td>NaN</td>\n",
              "      <td>NaN</td>\n",
              "      <td>RokoMijic</td>\n",
              "      <td>False</td>\n",
              "      <td>9188</td>\n",
              "      <td>418</td>\n",
              "    </tr>\n",
              "    <tr>\n",
              "      <th>29156</th>\n",
              "      <td>2021-03-16T00:00:01+00:00</td>\n",
              "      <td>If BTC is sound money...\\n\\nThen ETH is ultra ...</td>\n",
              "      <td>1371612178663497731</td>\n",
              "      <td>19</td>\n",
              "      <td>30</td>\n",
              "      <td>150</td>\n",
              "      <td>1</td>\n",
              "      <td>1371612178663497731</td>\n",
              "      <td>NaN</td>\n",
              "      <td>NaN</td>\n",
              "      <td>NaN</td>\n",
              "      <td>NaN</td>\n",
              "      <td>NaN</td>\n",
              "      <td>NaN</td>\n",
              "      <td>RyanSAdams</td>\n",
              "      <td>False</td>\n",
              "      <td>202053</td>\n",
              "      <td>2402</td>\n",
              "    </tr>\n",
              "  </tbody>\n",
              "</table>\n",
              "<p>29157 rows × 18 columns</p>\n",
              "</div>\n",
              "      <button class=\"colab-df-convert\" onclick=\"convertToInteractive('df-c8804e88-29ef-45c2-9d20-26a5c7800dc0')\"\n",
              "              title=\"Convert this dataframe to an interactive table.\"\n",
              "              style=\"display:none;\">\n",
              "        \n",
              "  <svg xmlns=\"http://www.w3.org/2000/svg\" height=\"24px\"viewBox=\"0 0 24 24\"\n",
              "       width=\"24px\">\n",
              "    <path d=\"M0 0h24v24H0V0z\" fill=\"none\"/>\n",
              "    <path d=\"M18.56 5.44l.94 2.06.94-2.06 2.06-.94-2.06-.94-.94-2.06-.94 2.06-2.06.94zm-11 1L8.5 8.5l.94-2.06 2.06-.94-2.06-.94L8.5 2.5l-.94 2.06-2.06.94zm10 10l.94 2.06.94-2.06 2.06-.94-2.06-.94-.94-2.06-.94 2.06-2.06.94z\"/><path d=\"M17.41 7.96l-1.37-1.37c-.4-.4-.92-.59-1.43-.59-.52 0-1.04.2-1.43.59L10.3 9.45l-7.72 7.72c-.78.78-.78 2.05 0 2.83L4 21.41c.39.39.9.59 1.41.59.51 0 1.02-.2 1.41-.59l7.78-7.78 2.81-2.81c.8-.78.8-2.07 0-2.86zM5.41 20L4 18.59l7.72-7.72 1.47 1.35L5.41 20z\"/>\n",
              "  </svg>\n",
              "      </button>\n",
              "      \n",
              "  <style>\n",
              "    .colab-df-container {\n",
              "      display:flex;\n",
              "      flex-wrap:wrap;\n",
              "      gap: 12px;\n",
              "    }\n",
              "\n",
              "    .colab-df-convert {\n",
              "      background-color: #E8F0FE;\n",
              "      border: none;\n",
              "      border-radius: 50%;\n",
              "      cursor: pointer;\n",
              "      display: none;\n",
              "      fill: #1967D2;\n",
              "      height: 32px;\n",
              "      padding: 0 0 0 0;\n",
              "      width: 32px;\n",
              "    }\n",
              "\n",
              "    .colab-df-convert:hover {\n",
              "      background-color: #E2EBFA;\n",
              "      box-shadow: 0px 1px 2px rgba(60, 64, 67, 0.3), 0px 1px 3px 1px rgba(60, 64, 67, 0.15);\n",
              "      fill: #174EA6;\n",
              "    }\n",
              "\n",
              "    [theme=dark] .colab-df-convert {\n",
              "      background-color: #3B4455;\n",
              "      fill: #D2E3FC;\n",
              "    }\n",
              "\n",
              "    [theme=dark] .colab-df-convert:hover {\n",
              "      background-color: #434B5C;\n",
              "      box-shadow: 0px 1px 3px 1px rgba(0, 0, 0, 0.15);\n",
              "      filter: drop-shadow(0px 1px 2px rgba(0, 0, 0, 0.3));\n",
              "      fill: #FFFFFF;\n",
              "    }\n",
              "  </style>\n",
              "\n",
              "      <script>\n",
              "        const buttonEl =\n",
              "          document.querySelector('#df-c8804e88-29ef-45c2-9d20-26a5c7800dc0 button.colab-df-convert');\n",
              "        buttonEl.style.display =\n",
              "          google.colab.kernel.accessAllowed ? 'block' : 'none';\n",
              "\n",
              "        async function convertToInteractive(key) {\n",
              "          const element = document.querySelector('#df-c8804e88-29ef-45c2-9d20-26a5c7800dc0');\n",
              "          const dataTable =\n",
              "            await google.colab.kernel.invokeFunction('convertToInteractive',\n",
              "                                                     [key], {});\n",
              "          if (!dataTable) return;\n",
              "\n",
              "          const docLinkHtml = 'Like what you see? Visit the ' +\n",
              "            '<a target=\"_blank\" href=https://colab.research.google.com/notebooks/data_table.ipynb>data table notebook</a>'\n",
              "            + ' to learn more about interactive tables.';\n",
              "          element.innerHTML = '';\n",
              "          dataTable['output_type'] = 'display_data';\n",
              "          await google.colab.output.renderOutput(dataTable, element);\n",
              "          const docLink = document.createElement('div');\n",
              "          docLink.innerHTML = docLinkHtml;\n",
              "          element.appendChild(docLink);\n",
              "        }\n",
              "      </script>\n",
              "    </div>\n",
              "  </div>\n",
              "  "
            ],
            "text/plain": [
              "                            date  \\\n",
              "0      2021-02-21T23:59:39+00:00   \n",
              "1      2021-02-21T23:58:17+00:00   \n",
              "2      2021-02-21T23:57:20+00:00   \n",
              "3      2021-02-21T23:57:14+00:00   \n",
              "4      2021-02-21T23:50:15+00:00   \n",
              "...                          ...   \n",
              "29152  2021-03-16T00:09:00+00:00   \n",
              "29153  2021-03-16T00:06:18+00:00   \n",
              "29154  2021-03-16T00:04:43+00:00   \n",
              "29155  2021-03-16T00:04:01+00:00   \n",
              "29156  2021-03-16T00:00:01+00:00   \n",
              "\n",
              "                                           decoded_tweet                   id  \\\n",
              "0        @BTC_JackSparrow @trader1sz punch him again :'D  1363639553949540355   \n",
              "1      ETH performing poorly against btc and fees are...  1363639208011849730   \n",
              "2                #Bitcoin price at the end of the month?  1363638969414668292   \n",
              "3      Some people believe without Elon $BTC would ha...  1363638944022155264   \n",
              "4      FYI at current Hex price, I am getting $100.57...  1363637189834395650   \n",
              "...                                                  ...                  ...   \n",
              "29152  Yep \\n\\n#Bitcoin has been signaling this for s...  1371614438869065731   \n",
              "29153  Cannot wait for Xi Jinping to send me $BTC for...  1371613758934634500   \n",
              "29154  Bitcoin mining wastes electricity you need to ...  1371613360521904128   \n",
              "29155  @enchiridion47 The fundamental difference betw...  1371613183945932801   \n",
              "29156  If BTC is sound money...\\n\\nThen ETH is ultra ...  1371612178663497731   \n",
              "\n",
              "       replyCount  retweetCount  likeCount  quoteCount       conversationId  \\\n",
              "0               4             0         17           0  1363638621480357894   \n",
              "1               8             1         52           0  1363639208011849730   \n",
              "2              22             0         41           0  1363638969414668292   \n",
              "3               9            22        242           1  1363638944022155264   \n",
              "4               8             6         60           1  1363637189834395650   \n",
              "...           ...           ...        ...         ...                  ...   \n",
              "29152          11            41        292           0  1371614438869065731   \n",
              "29153           4             0          6           0  1371613758934634500   \n",
              "29154           3             6         65           1  1371613360521904128   \n",
              "29155           3             0          6           1  1371612725353193473   \n",
              "29156          19            30        150           1  1371612178663497731   \n",
              "\n",
              "                                                   media  retweetedTweet  \\\n",
              "0                                                    NaN             NaN   \n",
              "1                                                    NaN             NaN   \n",
              "2                                                    NaN             NaN   \n",
              "3                                                    NaN             NaN   \n",
              "4      [{'_type': 'snscrape.modules.twitter.Gif', 'th...             NaN   \n",
              "...                                                  ...             ...   \n",
              "29152                                                NaN             NaN   \n",
              "29153                                                NaN             NaN   \n",
              "29154  [{'_type': 'snscrape.modules.twitter.Photo', '...             NaN   \n",
              "29155                                                NaN             NaN   \n",
              "29156                                                NaN             NaN   \n",
              "\n",
              "       quotedTweet  inReplyToTweetId     hashtags cashtags    user.username  \\\n",
              "0              NaN      1.363639e+18          NaN      NaN      inversebrah   \n",
              "1              NaN               NaN          NaN      NaN       joshnomics   \n",
              "2              NaN               NaN  ['Bitcoin']      NaN       cryptonary   \n",
              "3              NaN               NaN          NaN  ['BTC']      krugermacro   \n",
              "4              NaN               NaN          NaN      NaN  cryptonewbiekid   \n",
              "...            ...               ...          ...      ...              ...   \n",
              "29152          NaN               NaN  ['Bitcoin']      NaN        maxkeiser   \n",
              "29153          NaN               NaN          NaN  ['BTC']   BonifaceOption   \n",
              "29154          NaN               NaN          NaN      NaN         btcfkyou   \n",
              "29155          NaN      1.371613e+18          NaN      NaN        RokoMijic   \n",
              "29156          NaN               NaN          NaN      NaN       RyanSAdams   \n",
              "\n",
              "       user.verified  user.followersCount  user.friendsCount  \n",
              "0              False               199431               3043  \n",
              "1              False                17480                441  \n",
              "2              False                80143                199  \n",
              "3              False               145371               1510  \n",
              "4              False                  237                179  \n",
              "...              ...                  ...                ...  \n",
              "29152          False               484694                902  \n",
              "29153          False                 8275                410  \n",
              "29154          False                 3377               2784  \n",
              "29155          False                 9188                418  \n",
              "29156          False               202053               2402  \n",
              "\n",
              "[29157 rows x 18 columns]"
            ]
          },
          "execution_count": 9,
          "metadata": {},
          "output_type": "execute_result"
        }
      ],
      "source": [
        "btc_data = pd.read_csv(f'{project_directory}/btc_tweets.csv')\n",
        "btc_data"
      ]
    },
    {
      "cell_type": "code",
      "execution_count": null,
      "metadata": {
        "id": "VQ8TiNb0v8G3"
      },
      "outputs": [],
      "source": [
        "btc_data.drop_duplicates(subset=['decoded_tweet'], inplace=True)"
      ]
    },
    {
      "cell_type": "markdown",
      "metadata": {
        "id": "2ljQuMw9V83P"
      },
      "source": [
        "## Vader labeling"
      ]
    },
    {
      "cell_type": "code",
      "execution_count": null,
      "metadata": {
        "colab": {
          "base_uri": "https://localhost:8080/"
        },
        "id": "KB2AC9jQWBIz",
        "outputId": "69056d59-6075-4711-f97c-300b8eb0dc91"
      },
      "outputs": [
        {
          "name": "stdout",
          "output_type": "stream",
          "text": [
            "Looking in indexes: https://pypi.org/simple, https://us-python.pkg.dev/colab-wheels/public/simple/\n",
            "Collecting vaderSentiment\n",
            "  Downloading vaderSentiment-3.3.2-py2.py3-none-any.whl (125 kB)\n",
            "\u001b[K     |████████████████████████████████| 125 kB 37.2 MB/s \n",
            "\u001b[?25hRequirement already satisfied: requests in /usr/local/lib/python3.7/dist-packages (from vaderSentiment) (2.23.0)\n",
            "Requirement already satisfied: chardet<4,>=3.0.2 in /usr/local/lib/python3.7/dist-packages (from requests->vaderSentiment) (3.0.4)\n",
            "Requirement already satisfied: idna<3,>=2.5 in /usr/local/lib/python3.7/dist-packages (from requests->vaderSentiment) (2.10)\n",
            "Requirement already satisfied: certifi>=2017.4.17 in /usr/local/lib/python3.7/dist-packages (from requests->vaderSentiment) (2022.6.15)\n",
            "Requirement already satisfied: urllib3!=1.25.0,!=1.25.1,<1.26,>=1.21.1 in /usr/local/lib/python3.7/dist-packages (from requests->vaderSentiment) (1.24.3)\n",
            "Installing collected packages: vaderSentiment\n",
            "Successfully installed vaderSentiment-3.3.2\n"
          ]
        }
      ],
      "source": [
        "!pip install vaderSentiment"
      ]
    },
    {
      "cell_type": "code",
      "execution_count": null,
      "metadata": {
        "id": "PWLBCswjWD4y"
      },
      "outputs": [],
      "source": [
        "from vaderSentiment.vaderSentiment import SentimentIntensityAnalyzer\n",
        "\n",
        "vader = SentimentIntensityAnalyzer()\n",
        "\n",
        "def apply_vader_on_dataset(dataset_df):\n",
        "    vader_output = dataset_df.apply(lambda x: pd.Series(vader.polarity_scores(x.decoded_tweet)), axis=1)\n",
        "    dataset_with_vader = pd.concat([dataset_df, vader_output], axis=1)\n",
        "    return dataset_with_vader"
      ]
    },
    {
      "cell_type": "code",
      "execution_count": null,
      "metadata": {
        "id": "Q41KeGRcf9gE"
      },
      "outputs": [],
      "source": [
        "btc_data_with_vader = apply_vader_on_dataset(btc_data)"
      ]
    },
    {
      "cell_type": "code",
      "execution_count": null,
      "metadata": {
        "colab": {
          "base_uri": "https://localhost:8080/"
        },
        "id": "c05QU_JSgoJY",
        "outputId": "1de86806-1bb6-4b52-a84b-9fe1137642a7"
      },
      "outputs": [
        {
          "name": "stdout",
          "output_type": "stream",
          "text": [
            "neg total num:  2664\n",
            "neu total num:  18872\n",
            "pos total num:  7556\n",
            "small df size result= (8664, 22)\n"
          ]
        }
      ],
      "source": [
        "def undersample_data(df, neg_num, neu_num, pos_num):\n",
        "    small_df = pd.DataFrame(columns=df.columns)\n",
        "    df_by_label = {\n",
        "        \"neg\": df[df['compound'] <= -0.5],\n",
        "        \"neu\": df[(df['compound'] < 0.5) & (df['compound'] > -0.5)],\n",
        "        \"pos\": df[df['compound'] >= 0.5]\n",
        "    }\n",
        "    print('neg total num: ', df_by_label['neg'].shape[0])\n",
        "    print('neu total num: ', df_by_label['neu'].shape[0])\n",
        "    print('pos total num: ', df_by_label['pos'].shape[0])\n",
        "    small_df = pd.concat([small_df, df_by_label['neg'].iloc[:neg_num]])\n",
        "    small_df = pd.concat([small_df, df_by_label['neu'].iloc[:neu_num]])\n",
        "    small_df = pd.concat([small_df, df_by_label['pos'].iloc[:pos_num]])\n",
        "\n",
        "    print(f\"small df size result= {small_df.shape}\")\n",
        "    return small_df\n",
        "\n",
        "data = undersample_data(btc_data_with_vader, 3000, 3000, 3000)"
      ]
    },
    {
      "cell_type": "code",
      "execution_count": null,
      "metadata": {
        "colab": {
          "base_uri": "https://localhost:8080/",
          "height": 974
        },
        "id": "0bqKguu9iWjz",
        "outputId": "50debc73-414e-4b2b-c4d9-7d2b86564470"
      },
      "outputs": [
        {
          "data": {
            "text/html": [
              "\n",
              "  <div id=\"df-a6720db2-ccc0-4789-8cbd-e73b56ba8485\">\n",
              "    <div class=\"colab-df-container\">\n",
              "      <div>\n",
              "<style scoped>\n",
              "    .dataframe tbody tr th:only-of-type {\n",
              "        vertical-align: middle;\n",
              "    }\n",
              "\n",
              "    .dataframe tbody tr th {\n",
              "        vertical-align: top;\n",
              "    }\n",
              "\n",
              "    .dataframe thead th {\n",
              "        text-align: right;\n",
              "    }\n",
              "</style>\n",
              "<table border=\"1\" class=\"dataframe\">\n",
              "  <thead>\n",
              "    <tr style=\"text-align: right;\">\n",
              "      <th></th>\n",
              "      <th>date</th>\n",
              "      <th>decoded_tweet</th>\n",
              "      <th>id</th>\n",
              "      <th>replyCount</th>\n",
              "      <th>retweetCount</th>\n",
              "      <th>likeCount</th>\n",
              "      <th>quoteCount</th>\n",
              "      <th>conversationId</th>\n",
              "      <th>media</th>\n",
              "      <th>retweetedTweet</th>\n",
              "      <th>...</th>\n",
              "      <th>hashtags</th>\n",
              "      <th>cashtags</th>\n",
              "      <th>user.username</th>\n",
              "      <th>user.verified</th>\n",
              "      <th>user.followersCount</th>\n",
              "      <th>user.friendsCount</th>\n",
              "      <th>neg</th>\n",
              "      <th>neu</th>\n",
              "      <th>pos</th>\n",
              "      <th>compound</th>\n",
              "    </tr>\n",
              "  </thead>\n",
              "  <tbody>\n",
              "    <tr>\n",
              "      <th>28</th>\n",
              "      <td>2021-02-21T23:20:35+00:00</td>\n",
              "      <td>@VSoien @michaeljburry He's warning about infl...</td>\n",
              "      <td>1363629721733455874</td>\n",
              "      <td>7</td>\n",
              "      <td>1</td>\n",
              "      <td>30</td>\n",
              "      <td>0</td>\n",
              "      <td>1363627735583629312</td>\n",
              "      <td>NaN</td>\n",
              "      <td>NaN</td>\n",
              "      <td>...</td>\n",
              "      <td>NaN</td>\n",
              "      <td>NaN</td>\n",
              "      <td>Kinvert_Ed</td>\n",
              "      <td>False</td>\n",
              "      <td>96</td>\n",
              "      <td>139</td>\n",
              "      <td>0.142</td>\n",
              "      <td>0.797</td>\n",
              "      <td>0.061</td>\n",
              "      <td>-0.5428</td>\n",
              "    </tr>\n",
              "    <tr>\n",
              "      <th>31</th>\n",
              "      <td>2021-02-21T23:18:15+00:00</td>\n",
              "      <td>When Tether blows up this month with their cou...</td>\n",
              "      <td>1363629133801152514</td>\n",
              "      <td>7</td>\n",
              "      <td>4</td>\n",
              "      <td>31</td>\n",
              "      <td>1</td>\n",
              "      <td>1363629133801152514</td>\n",
              "      <td>NaN</td>\n",
              "      <td>NaN</td>\n",
              "      <td>...</td>\n",
              "      <td>NaN</td>\n",
              "      <td>NaN</td>\n",
              "      <td>FinanceLancelot</td>\n",
              "      <td>False</td>\n",
              "      <td>23258</td>\n",
              "      <td>305</td>\n",
              "      <td>0.193</td>\n",
              "      <td>0.766</td>\n",
              "      <td>0.041</td>\n",
              "      <td>-0.8176</td>\n",
              "    </tr>\n",
              "    <tr>\n",
              "      <th>33</th>\n",
              "      <td>2021-02-21T23:17:00+00:00</td>\n",
              "      <td>@michaeljburry He warned stocks and bitcoin co...</td>\n",
              "      <td>1363628820058812422</td>\n",
              "      <td>19</td>\n",
              "      <td>3</td>\n",
              "      <td>128</td>\n",
              "      <td>0</td>\n",
              "      <td>1363627735583629312</td>\n",
              "      <td>NaN</td>\n",
              "      <td>NaN</td>\n",
              "      <td>...</td>\n",
              "      <td>NaN</td>\n",
              "      <td>NaN</td>\n",
              "      <td>BeanieBabyTrade</td>\n",
              "      <td>False</td>\n",
              "      <td>330</td>\n",
              "      <td>471</td>\n",
              "      <td>0.121</td>\n",
              "      <td>0.840</td>\n",
              "      <td>0.040</td>\n",
              "      <td>-0.5661</td>\n",
              "    </tr>\n",
              "    <tr>\n",
              "      <th>43</th>\n",
              "      <td>2021-02-21T23:11:31+00:00</td>\n",
              "      <td>The real max pain will be crypto OGS selling $...</td>\n",
              "      <td>1363627440518520835</td>\n",
              "      <td>60</td>\n",
              "      <td>96</td>\n",
              "      <td>1628</td>\n",
              "      <td>9</td>\n",
              "      <td>1363627440518520835</td>\n",
              "      <td>NaN</td>\n",
              "      <td>NaN</td>\n",
              "      <td>...</td>\n",
              "      <td>NaN</td>\n",
              "      <td>['BTC']</td>\n",
              "      <td>pythianism</td>\n",
              "      <td>False</td>\n",
              "      <td>61095</td>\n",
              "      <td>3072</td>\n",
              "      <td>0.142</td>\n",
              "      <td>0.858</td>\n",
              "      <td>0.000</td>\n",
              "      <td>-0.5106</td>\n",
              "    </tr>\n",
              "    <tr>\n",
              "      <th>80</th>\n",
              "      <td>2021-02-21T22:46:18+00:00</td>\n",
              "      <td>@pierre_rochard A word on Square’s Cash app po...</td>\n",
              "      <td>1363621092984688641</td>\n",
              "      <td>13</td>\n",
              "      <td>1</td>\n",
              "      <td>60</td>\n",
              "      <td>2</td>\n",
              "      <td>1363618847949869057</td>\n",
              "      <td>NaN</td>\n",
              "      <td>NaN</td>\n",
              "      <td>...</td>\n",
              "      <td>NaN</td>\n",
              "      <td>NaN</td>\n",
              "      <td>anurag201320</td>\n",
              "      <td>False</td>\n",
              "      <td>46</td>\n",
              "      <td>585</td>\n",
              "      <td>0.154</td>\n",
              "      <td>0.846</td>\n",
              "      <td>0.000</td>\n",
              "      <td>-0.7476</td>\n",
              "    </tr>\n",
              "    <tr>\n",
              "      <th>...</th>\n",
              "      <td>...</td>\n",
              "      <td>...</td>\n",
              "      <td>...</td>\n",
              "      <td>...</td>\n",
              "      <td>...</td>\n",
              "      <td>...</td>\n",
              "      <td>...</td>\n",
              "      <td>...</td>\n",
              "      <td>...</td>\n",
              "      <td>...</td>\n",
              "      <td>...</td>\n",
              "      <td>...</td>\n",
              "      <td>...</td>\n",
              "      <td>...</td>\n",
              "      <td>...</td>\n",
              "      <td>...</td>\n",
              "      <td>...</td>\n",
              "      <td>...</td>\n",
              "      <td>...</td>\n",
              "      <td>...</td>\n",
              "      <td>...</td>\n",
              "    </tr>\n",
              "    <tr>\n",
              "      <th>12119</th>\n",
              "      <td>2021-03-01T11:46:22+00:00</td>\n",
              "      <td>\"If Gamestop were to turn itself into a 5,000-...</td>\n",
              "      <td>1366354118093250561</td>\n",
              "      <td>18</td>\n",
              "      <td>33</td>\n",
              "      <td>162</td>\n",
              "      <td>5</td>\n",
              "      <td>1366354118093250561</td>\n",
              "      <td>NaN</td>\n",
              "      <td>NaN</td>\n",
              "      <td>...</td>\n",
              "      <td>NaN</td>\n",
              "      <td>NaN</td>\n",
              "      <td>BTCTN</td>\n",
              "      <td>True</td>\n",
              "      <td>2666125</td>\n",
              "      <td>916</td>\n",
              "      <td>0.000</td>\n",
              "      <td>0.881</td>\n",
              "      <td>0.119</td>\n",
              "      <td>0.5859</td>\n",
              "    </tr>\n",
              "    <tr>\n",
              "      <th>12121</th>\n",
              "      <td>2021-03-01T11:45:41+00:00</td>\n",
              "      <td>Welcome @kevinolearytv - u in fact did it. 3% ...</td>\n",
              "      <td>1366353947838078989</td>\n",
              "      <td>16</td>\n",
              "      <td>12</td>\n",
              "      <td>181</td>\n",
              "      <td>1</td>\n",
              "      <td>1366353947838078989</td>\n",
              "      <td>NaN</td>\n",
              "      <td>NaN</td>\n",
              "      <td>...</td>\n",
              "      <td>['Bitcoin']</td>\n",
              "      <td>NaN</td>\n",
              "      <td>GoingParabolic</td>\n",
              "      <td>False</td>\n",
              "      <td>204999</td>\n",
              "      <td>422</td>\n",
              "      <td>0.000</td>\n",
              "      <td>0.786</td>\n",
              "      <td>0.214</td>\n",
              "      <td>0.5994</td>\n",
              "    </tr>\n",
              "    <tr>\n",
              "      <th>12124</th>\n",
              "      <td>2021-03-01T11:43:22+00:00</td>\n",
              "      <td>Fascinating part is banks are starting to flex...</td>\n",
              "      <td>1366353365098106883</td>\n",
              "      <td>29</td>\n",
              "      <td>39</td>\n",
              "      <td>649</td>\n",
              "      <td>1</td>\n",
              "      <td>1366352878504353794</td>\n",
              "      <td>NaN</td>\n",
              "      <td>NaN</td>\n",
              "      <td>...</td>\n",
              "      <td>NaN</td>\n",
              "      <td>NaN</td>\n",
              "      <td>zhusu</td>\n",
              "      <td>True</td>\n",
              "      <td>568783</td>\n",
              "      <td>1697</td>\n",
              "      <td>0.000</td>\n",
              "      <td>0.857</td>\n",
              "      <td>0.143</td>\n",
              "      <td>0.5423</td>\n",
              "    </tr>\n",
              "    <tr>\n",
              "      <th>12126</th>\n",
              "      <td>2021-03-01T11:40:03+00:00</td>\n",
              "      <td>Indians are accustomed to savings and investin...</td>\n",
              "      <td>1366352530574344193</td>\n",
              "      <td>9</td>\n",
              "      <td>31</td>\n",
              "      <td>115</td>\n",
              "      <td>0</td>\n",
              "      <td>1366352530574344193</td>\n",
              "      <td>NaN</td>\n",
              "      <td>NaN</td>\n",
              "      <td>...</td>\n",
              "      <td>NaN</td>\n",
              "      <td>NaN</td>\n",
              "      <td>smtgpt</td>\n",
              "      <td>True</td>\n",
              "      <td>126663</td>\n",
              "      <td>717</td>\n",
              "      <td>0.000</td>\n",
              "      <td>0.812</td>\n",
              "      <td>0.188</td>\n",
              "      <td>0.7506</td>\n",
              "    </tr>\n",
              "    <tr>\n",
              "      <th>12128</th>\n",
              "      <td>2021-03-01T11:33:00+00:00</td>\n",
              "      <td>New month.. new ATH?\\n\\n#Bitcoin 🥰</td>\n",
              "      <td>1366350754458574851</td>\n",
              "      <td>21</td>\n",
              "      <td>17</td>\n",
              "      <td>226</td>\n",
              "      <td>3</td>\n",
              "      <td>1366350754458574851</td>\n",
              "      <td>NaN</td>\n",
              "      <td>NaN</td>\n",
              "      <td>...</td>\n",
              "      <td>['Bitcoin']</td>\n",
              "      <td>NaN</td>\n",
              "      <td>ScottLEOWarrior</td>\n",
              "      <td>False</td>\n",
              "      <td>438702</td>\n",
              "      <td>1206</td>\n",
              "      <td>0.000</td>\n",
              "      <td>0.523</td>\n",
              "      <td>0.477</td>\n",
              "      <td>0.8074</td>\n",
              "    </tr>\n",
              "  </tbody>\n",
              "</table>\n",
              "<p>8664 rows × 22 columns</p>\n",
              "</div>\n",
              "      <button class=\"colab-df-convert\" onclick=\"convertToInteractive('df-a6720db2-ccc0-4789-8cbd-e73b56ba8485')\"\n",
              "              title=\"Convert this dataframe to an interactive table.\"\n",
              "              style=\"display:none;\">\n",
              "        \n",
              "  <svg xmlns=\"http://www.w3.org/2000/svg\" height=\"24px\"viewBox=\"0 0 24 24\"\n",
              "       width=\"24px\">\n",
              "    <path d=\"M0 0h24v24H0V0z\" fill=\"none\"/>\n",
              "    <path d=\"M18.56 5.44l.94 2.06.94-2.06 2.06-.94-2.06-.94-.94-2.06-.94 2.06-2.06.94zm-11 1L8.5 8.5l.94-2.06 2.06-.94-2.06-.94L8.5 2.5l-.94 2.06-2.06.94zm10 10l.94 2.06.94-2.06 2.06-.94-2.06-.94-.94-2.06-.94 2.06-2.06.94z\"/><path d=\"M17.41 7.96l-1.37-1.37c-.4-.4-.92-.59-1.43-.59-.52 0-1.04.2-1.43.59L10.3 9.45l-7.72 7.72c-.78.78-.78 2.05 0 2.83L4 21.41c.39.39.9.59 1.41.59.51 0 1.02-.2 1.41-.59l7.78-7.78 2.81-2.81c.8-.78.8-2.07 0-2.86zM5.41 20L4 18.59l7.72-7.72 1.47 1.35L5.41 20z\"/>\n",
              "  </svg>\n",
              "      </button>\n",
              "      \n",
              "  <style>\n",
              "    .colab-df-container {\n",
              "      display:flex;\n",
              "      flex-wrap:wrap;\n",
              "      gap: 12px;\n",
              "    }\n",
              "\n",
              "    .colab-df-convert {\n",
              "      background-color: #E8F0FE;\n",
              "      border: none;\n",
              "      border-radius: 50%;\n",
              "      cursor: pointer;\n",
              "      display: none;\n",
              "      fill: #1967D2;\n",
              "      height: 32px;\n",
              "      padding: 0 0 0 0;\n",
              "      width: 32px;\n",
              "    }\n",
              "\n",
              "    .colab-df-convert:hover {\n",
              "      background-color: #E2EBFA;\n",
              "      box-shadow: 0px 1px 2px rgba(60, 64, 67, 0.3), 0px 1px 3px 1px rgba(60, 64, 67, 0.15);\n",
              "      fill: #174EA6;\n",
              "    }\n",
              "\n",
              "    [theme=dark] .colab-df-convert {\n",
              "      background-color: #3B4455;\n",
              "      fill: #D2E3FC;\n",
              "    }\n",
              "\n",
              "    [theme=dark] .colab-df-convert:hover {\n",
              "      background-color: #434B5C;\n",
              "      box-shadow: 0px 1px 3px 1px rgba(0, 0, 0, 0.15);\n",
              "      filter: drop-shadow(0px 1px 2px rgba(0, 0, 0, 0.3));\n",
              "      fill: #FFFFFF;\n",
              "    }\n",
              "  </style>\n",
              "\n",
              "      <script>\n",
              "        const buttonEl =\n",
              "          document.querySelector('#df-a6720db2-ccc0-4789-8cbd-e73b56ba8485 button.colab-df-convert');\n",
              "        buttonEl.style.display =\n",
              "          google.colab.kernel.accessAllowed ? 'block' : 'none';\n",
              "\n",
              "        async function convertToInteractive(key) {\n",
              "          const element = document.querySelector('#df-a6720db2-ccc0-4789-8cbd-e73b56ba8485');\n",
              "          const dataTable =\n",
              "            await google.colab.kernel.invokeFunction('convertToInteractive',\n",
              "                                                     [key], {});\n",
              "          if (!dataTable) return;\n",
              "\n",
              "          const docLinkHtml = 'Like what you see? Visit the ' +\n",
              "            '<a target=\"_blank\" href=https://colab.research.google.com/notebooks/data_table.ipynb>data table notebook</a>'\n",
              "            + ' to learn more about interactive tables.';\n",
              "          element.innerHTML = '';\n",
              "          dataTable['output_type'] = 'display_data';\n",
              "          await google.colab.output.renderOutput(dataTable, element);\n",
              "          const docLink = document.createElement('div');\n",
              "          docLink.innerHTML = docLinkHtml;\n",
              "          element.appendChild(docLink);\n",
              "        }\n",
              "      </script>\n",
              "    </div>\n",
              "  </div>\n",
              "  "
            ],
            "text/plain": [
              "                            date  \\\n",
              "28     2021-02-21T23:20:35+00:00   \n",
              "31     2021-02-21T23:18:15+00:00   \n",
              "33     2021-02-21T23:17:00+00:00   \n",
              "43     2021-02-21T23:11:31+00:00   \n",
              "80     2021-02-21T22:46:18+00:00   \n",
              "...                          ...   \n",
              "12119  2021-03-01T11:46:22+00:00   \n",
              "12121  2021-03-01T11:45:41+00:00   \n",
              "12124  2021-03-01T11:43:22+00:00   \n",
              "12126  2021-03-01T11:40:03+00:00   \n",
              "12128  2021-03-01T11:33:00+00:00   \n",
              "\n",
              "                                           decoded_tweet                   id  \\\n",
              "28     @VSoien @michaeljburry He's warning about infl...  1363629721733455874   \n",
              "31     When Tether blows up this month with their cou...  1363629133801152514   \n",
              "33     @michaeljburry He warned stocks and bitcoin co...  1363628820058812422   \n",
              "43     The real max pain will be crypto OGS selling $...  1363627440518520835   \n",
              "80     @pierre_rochard A word on Square’s Cash app po...  1363621092984688641   \n",
              "...                                                  ...                  ...   \n",
              "12119  \"If Gamestop were to turn itself into a 5,000-...  1366354118093250561   \n",
              "12121  Welcome @kevinolearytv - u in fact did it. 3% ...  1366353947838078989   \n",
              "12124  Fascinating part is banks are starting to flex...  1366353365098106883   \n",
              "12126  Indians are accustomed to savings and investin...  1366352530574344193   \n",
              "12128                 New month.. new ATH?\\n\\n#Bitcoin 🥰  1366350754458574851   \n",
              "\n",
              "      replyCount retweetCount likeCount quoteCount       conversationId media  \\\n",
              "28             7            1        30          0  1363627735583629312   NaN   \n",
              "31             7            4        31          1  1363629133801152514   NaN   \n",
              "33            19            3       128          0  1363627735583629312   NaN   \n",
              "43            60           96      1628          9  1363627440518520835   NaN   \n",
              "80            13            1        60          2  1363618847949869057   NaN   \n",
              "...          ...          ...       ...        ...                  ...   ...   \n",
              "12119         18           33       162          5  1366354118093250561   NaN   \n",
              "12121         16           12       181          1  1366353947838078989   NaN   \n",
              "12124         29           39       649          1  1366352878504353794   NaN   \n",
              "12126          9           31       115          0  1366352530574344193   NaN   \n",
              "12128         21           17       226          3  1366350754458574851   NaN   \n",
              "\n",
              "       retweetedTweet  ...     hashtags  cashtags    user.username  \\\n",
              "28                NaN  ...          NaN       NaN       Kinvert_Ed   \n",
              "31                NaN  ...          NaN       NaN  FinanceLancelot   \n",
              "33                NaN  ...          NaN       NaN  BeanieBabyTrade   \n",
              "43                NaN  ...          NaN   ['BTC']       pythianism   \n",
              "80                NaN  ...          NaN       NaN     anurag201320   \n",
              "...               ...  ...          ...       ...              ...   \n",
              "12119             NaN  ...          NaN       NaN            BTCTN   \n",
              "12121             NaN  ...  ['Bitcoin']       NaN   GoingParabolic   \n",
              "12124             NaN  ...          NaN       NaN            zhusu   \n",
              "12126             NaN  ...          NaN       NaN           smtgpt   \n",
              "12128             NaN  ...  ['Bitcoin']       NaN  ScottLEOWarrior   \n",
              "\n",
              "      user.verified user.followersCount user.friendsCount    neg    neu  \\\n",
              "28            False                  96               139  0.142  0.797   \n",
              "31            False               23258               305  0.193  0.766   \n",
              "33            False                 330               471  0.121  0.840   \n",
              "43            False               61095              3072  0.142  0.858   \n",
              "80            False                  46               585  0.154  0.846   \n",
              "...             ...                 ...               ...    ...    ...   \n",
              "12119          True             2666125               916  0.000  0.881   \n",
              "12121         False              204999               422  0.000  0.786   \n",
              "12124          True              568783              1697  0.000  0.857   \n",
              "12126          True              126663               717  0.000  0.812   \n",
              "12128         False              438702              1206  0.000  0.523   \n",
              "\n",
              "         pos  compound  \n",
              "28     0.061   -0.5428  \n",
              "31     0.041   -0.8176  \n",
              "33     0.040   -0.5661  \n",
              "43     0.000   -0.5106  \n",
              "80     0.000   -0.7476  \n",
              "...      ...       ...  \n",
              "12119  0.119    0.5859  \n",
              "12121  0.214    0.5994  \n",
              "12124  0.143    0.5423  \n",
              "12126  0.188    0.7506  \n",
              "12128  0.477    0.8074  \n",
              "\n",
              "[8664 rows x 22 columns]"
            ]
          },
          "execution_count": 15,
          "metadata": {},
          "output_type": "execute_result"
        }
      ],
      "source": [
        "data"
      ]
    },
    {
      "cell_type": "code",
      "execution_count": null,
      "metadata": {
        "id": "mgiSOvMDic5o"
      },
      "outputs": [],
      "source": [
        "\n",
        "def report_data_distribution(data):\n",
        "    result = {\"max\": None, \"compound\": None}\n",
        "    result['max'] = np.array(np.unique(data[['neg', 'neu', 'pos']].to_numpy().argmax(axis=1), return_counts=True))\n",
        "    result['compound'] = {\n",
        "        'neg0': data[data['compound'] <= -0.5].shape[0],\n",
        "        'neu1': data[(data['compound'] < 0.5) & (data['compound'] > -0.5)].shape[0],\n",
        "        'pos2': data[data['compound'] >= 0.5].shape[0]\n",
        "    }\n",
        "    \n",
        "    return result"
      ]
    },
    {
      "cell_type": "code",
      "execution_count": null,
      "metadata": {
        "colab": {
          "base_uri": "https://localhost:8080/"
        },
        "id": "h5FipoRYyCpy",
        "outputId": "3f34ec45-9580-4918-dbd2-f435e011b842"
      },
      "outputs": [
        {
          "data": {
            "text/plain": [
              "{'max': array([[    0,     1,     2],\n",
              "        [   80, 28879,   133]]),\n",
              " 'compound': {'neg0': 2664, 'neu1': 18872, 'pos2': 7556}}"
            ]
          },
          "execution_count": 12,
          "metadata": {},
          "output_type": "execute_result"
        }
      ],
      "source": [
        "report_data_distribution(btc_data_with_vader)"
      ]
    },
    {
      "cell_type": "markdown",
      "metadata": {
        "id": "koOE0H1WJwOE"
      },
      "source": [
        "# Load raw dataset"
      ]
    },
    {
      "cell_type": "markdown",
      "metadata": {
        "id": "myrdWYTWOgFs"
      },
      "source": [
        "## download datasets to drive (run this just once)"
      ]
    },
    {
      "cell_type": "markdown",
      "metadata": {
        "id": "8GMXuiqIICRX"
      },
      "source": [
        "upload kaggle config file to kaggle directory in drive"
      ]
    },
    {
      "cell_type": "code",
      "execution_count": null,
      "metadata": {
        "id": "vmMrYh2eHrrE"
      },
      "outputs": [],
      "source": [
        "from google.colab import files\n",
        "files.upload()\n",
        "!pip install -q kaggle\n",
        "!mkdir -p /content/drive/MyDrive/Kaggle\n",
        "!cp kaggle.json /content/drive/MyDrive/Kaggle/\n",
        "!chmod 600 /content/drive/MyDrive/Kaggle/kaggle.json"
      ]
    },
    {
      "cell_type": "code",
      "execution_count": null,
      "metadata": {
        "id": "d8moV1ZBNRuL"
      },
      "outputs": [],
      "source": [
        "import os\n",
        "os.environ['KAGGLE_CONFIG_DIR'] = \"/content/drive/MyDrive/Kaggle\"\n",
        "\n",
        "!cd /content/drive/MyDrive/Kaggle/\n",
        "!kaggle datasets download -d fabioturazzi/cryptocurrency-tweets-with-sentiment-analysis -p /content/drive/MyDrive/Kaggle --unzip"
      ]
    },
    {
      "cell_type": "markdown",
      "metadata": {
        "id": "IHHkL7THG34c"
      },
      "source": [
        "## read raw data"
      ]
    },
    {
      "cell_type": "code",
      "execution_count": null,
      "metadata": {
        "id": "IiLFzD_ROxuY"
      },
      "outputs": [],
      "source": [
        "def read_raw_data():\n",
        "    # load dataset from drive\n",
        "    tweets_sentiment_df = pd.read_csv('/content/drive/MyDrive/Kaggle/tweets_sentiment.csv',index_col=0, low_memory=False)\n",
        "    # filter just english tweets\n",
        "    tweets_sentiment_df = tweets_sentiment_df[tweets_sentiment_df['language']=='en']\n",
        "    tweets_sentiment_df = tweets_sentiment_df[tweets_sentiment_df['search']=='bitcoin']\n",
        "    # keep columns that need\n",
        "    tweets_sentiment_df = tweets_sentiment_df[['date', 'time', 'decoded_tweet', 'neg', 'neu', 'pos', 'compound']]\n",
        "    # merge data and time column to new date_time column\n",
        "    tweets_sentiment_df.loc[:,'date_time'] = pd.to_datetime(tweets_sentiment_df.date.astype(str)+' '+tweets_sentiment_df.time.astype(str))\n",
        "    tweets_sentiment_df.drop(columns=['date', 'time'], inplace=True)\n",
        "    # change datetime from Pacific Standard Time (PST) to UTC (pst is UTC-8:00)\n",
        "    tweets_sentiment_df['date_time'] = tweets_sentiment_df['date_time'] + pd.Timedelta(hours=8)\n",
        "    \n",
        "    return tweets_sentiment_df"
      ]
    },
    {
      "cell_type": "code",
      "execution_count": null,
      "metadata": {
        "id": "-kH28UOhzcK6"
      },
      "outputs": [],
      "source": [
        "from tensorflow.keras.utils import to_categorical\n",
        "\n",
        "\n",
        "def convert_labels_to_one_hot(df, from_compound=False):\n",
        "    \"\"\"\n",
        "    helper function to convert regression labels to one-hot form\n",
        "  \"\"\"\n",
        "    if from_compound:\n",
        "        df.loc[df['compound'] <= -0.5, 'label'] = 0\n",
        "        df.loc[(df['compound']<0.5) & (df['compound']>-0.5), 'label'] = 1\n",
        "        df.loc[df['compound'] >= 0.5, 'label'] = 2\n",
        "        labels = df['label'].to_numpy()\n",
        "        df.drop(columns=['label'], inplace=True)\n",
        "    else:\n",
        "        labels = df[['neg', 'neu', 'pos']].to_numpy()\n",
        "        labels = np.argmax(labels, axis=1)\n",
        "    \n",
        "    labels = np.array(to_categorical(labels, num_classes=3))\n",
        "    df.loc[:, ['neg', 'neu', 'pos']] = labels\n",
        "    \n",
        "    return df"
      ]
    },
    {
      "cell_type": "code",
      "execution_count": null,
      "metadata": {
        "id": "vYJR6uqAxlcY"
      },
      "outputs": [],
      "source": [
        "def make_dataframe_small(df, neg_num, neu_num, pos_num):\n",
        "    small_df = pd.DataFrame(columns=df.columns)\n",
        "    df_by_label = {\n",
        "        \"neg\": df[(df['neg'] > df['neu']) & (df['neg'] > df['pos'])],\n",
        "        \"neu\": df[(df['neu'] > df['neg']) & (df['neu'] > df['pos'])],\n",
        "        \"pos\": df[(df['pos'] > df['neg']) & (df['pos'] > df['neu'])]\n",
        "    }\n",
        "    print('neg total num: ', df_by_label['neg'].shape[0])\n",
        "    print('neu total num: ', df_by_label['neu'].shape[0])\n",
        "    print('pos total num: ', df_by_label['pos'].shape[0])\n",
        "    small_df = pd.concat([small_df, df_by_label['neg'].iloc[:neg_num]])\n",
        "    small_df = pd.concat([small_df, df_by_label['neu'].iloc[:neu_num]])\n",
        "    small_df = pd.concat([small_df, df_by_label['pos'].iloc[:pos_num]])\n",
        "\n",
        "    print(f\"small df size result= {small_df.shape}\")\n",
        "    return small_df"
      ]
    },
    {
      "cell_type": "code",
      "execution_count": null,
      "metadata": {
        "id": "108hog5IGKXh"
      },
      "outputs": [],
      "source": [
        "def normalize_label_columns(df):\n",
        "    x = df[['neg', 'neu', 'pos']].to_numpy()\n",
        "    col_sum = x.sum(axis=1)\n",
        "    y = np.divide(x, col_sum.reshape((-1, 1)))\n",
        "    df.loc[:, ['neg', 'neu', 'pos']] = y\n",
        "    return df\n",
        "\n",
        "\n",
        "def change_labels_to_balance_dataset_1(raw_data):\n",
        "    # negative data\n",
        "    neg_data = raw_data[(raw_data['pos']+0.1 < raw_data['neg']) & (raw_data['neu'] < 2*raw_data['neg'])]  # 3500\n",
        "    raw_data = pd.concat([raw_data, neg_data]).drop_duplicates(keep=False)\n",
        "    neg_data.loc[:, ['neg']] = neg_data['neg']*2\n",
        "    neg_data = normalize_label_columns(neg_data)\n",
        "    \n",
        "    # positive data\n",
        "    pos_data = raw_data[(raw_data['pos'] > raw_data['neg']+0.1) & (raw_data['neu'] <2*raw_data['pos'])].sample(n=4000, random_state=2)\n",
        "    raw_data = pd.concat([raw_data, pos_data]).drop_duplicates(keep=False)\n",
        "    pos_data.loc[:, ['pos']] = pos_data['pos']*2\n",
        "    pos_data = normalize_label_columns(pos_data)\n",
        "    \n",
        "    # neutral data\n",
        "    neu_data = raw_data.sample(n=4000, random_state=42)\n",
        "    \n",
        "    small_data = pd.concat([neu_data, pos_data, neg_data])\n",
        "    return small_data"
      ]
    },
    {
      "cell_type": "code",
      "execution_count": null,
      "metadata": {
        "id": "jnK4cSsQ9c3B"
      },
      "outputs": [],
      "source": [
        "def get_data_without_neu_data(raw_data):\n",
        "    neg_data = raw_data[(raw_data['neg'] > raw_data['pos']) & (raw_data['neg'] > raw_data['neu'])]\n",
        "    pos_data = raw_data[(raw_data['pos'] > raw_data['neg']) & (raw_data['pos'] > raw_data['neu'])]\n",
        "    data = pd.concat([neg_data, pos_data])\n",
        "    return data"
      ]
    },
    {
      "cell_type": "code",
      "execution_count": null,
      "metadata": {
        "id": "L86kN3P97bxW"
      },
      "outputs": [],
      "source": [
        "def create_regression_label(raw_data):\n",
        "    regression_label = raw_data['pos'] - raw_data['neg']\n",
        "    raw_data['regression_label'] = regression_label\n",
        "    return raw_data"
      ]
    },
    {
      "cell_type": "code",
      "execution_count": null,
      "metadata": {
        "colab": {
          "background_save": true,
          "base_uri": "https://localhost:8080/",
          "height": 632
        },
        "id": "b7f8Fshay05P",
        "outputId": "e4cde48c-ff7c-4d15-d281-ef886fddec14"
      },
      "outputs": [
        {
          "ename": "NameError",
          "evalue": "ignored",
          "output_type": "error",
          "traceback": [
            "\u001b[0;31m---------------------------------------------------------------------------\u001b[0m",
            "\u001b[0;31mNameError\u001b[0m                                 Traceback (most recent call last)",
            "\u001b[0;32m<ipython-input-10-0969ebbb488d>\u001b[0m in \u001b[0;36m<module>\u001b[0;34m\u001b[0m\n\u001b[1;32m      3\u001b[0m \u001b[0;31m# raw_data = create_regression_label(raw_data)\u001b[0m\u001b[0;34m\u001b[0m\u001b[0;34m\u001b[0m\u001b[0;34m\u001b[0m\u001b[0m\n\u001b[1;32m      4\u001b[0m \u001b[0;31m# raw_data = change_labels_to_balance_dataset_1(raw_data)\u001b[0m\u001b[0;34m\u001b[0m\u001b[0;34m\u001b[0m\u001b[0;34m\u001b[0m\u001b[0m\n\u001b[0;32m----> 5\u001b[0;31m \u001b[0mraw_data\u001b[0m \u001b[0;34m=\u001b[0m \u001b[0mget_data_without_neu_data\u001b[0m\u001b[0;34m(\u001b[0m\u001b[0mraw_data\u001b[0m\u001b[0;34m)\u001b[0m\u001b[0;34m\u001b[0m\u001b[0;34m\u001b[0m\u001b[0m\n\u001b[0m\u001b[1;32m      6\u001b[0m \u001b[0mraw_data\u001b[0m\u001b[0;34m\u001b[0m\u001b[0;34m\u001b[0m\u001b[0m\n",
            "\u001b[0;31mNameError\u001b[0m: name 'get_data_without_neu_data' is not defined"
          ]
        }
      ],
      "source": [
        "raw_data = read_raw_data()\n",
        "# raw_data = make_dataframe_small(raw_data, 500, 500, 500)\n",
        "# raw_data = create_regression_label(raw_data)\n",
        "raw_data = change_labels_to_balance_dataset_1(raw_data)\n",
        "# raw_data = get_data_without_neu_data(raw_data)\n",
        "raw_data"
      ]
    },
    {
      "cell_type": "code",
      "execution_count": null,
      "metadata": {
        "colab": {
          "background_save": true
        },
        "id": "ra31_t_8YSbA"
      },
      "outputs": [],
      "source": [
        "df_by_label = {\n",
        "    \"neg\": raw_data[(raw_data['neg'] > raw_data['neu']) & (raw_data['neg'] > raw_data['pos'])],\n",
        "    \"neu\": raw_data[(raw_data['neu'] > raw_data['neg']) & (raw_data['neu'] > raw_data['pos'])],\n",
        "    \"pos\": raw_data[(raw_data['pos'] > raw_data['neg']) & (raw_data['pos'] > raw_data['neu'])]\n",
        "}\n",
        "print('neg total num: ', df_by_label['neg'].shape[0])\n",
        "print('neu total num: ', df_by_label['neu'].shape[0])\n",
        "print('pos total num: ', df_by_label['pos'].shape[0])"
      ]
    },
    {
      "cell_type": "markdown",
      "metadata": {
        "id": "_NWZW2uMFlHU"
      },
      "source": [
        "# Preprocess"
      ]
    },
    {
      "cell_type": "markdown",
      "metadata": {
        "id": "5EORbDDBWtum"
      },
      "source": [
        "install packages requirements"
      ]
    },
    {
      "cell_type": "code",
      "execution_count": null,
      "metadata": {
        "colab": {
          "base_uri": "https://localhost:8080/"
        },
        "id": "tGvrkrCA5rMa",
        "outputId": "98ddcaa6-c077-4bda-f57a-a7c0a8519550"
      },
      "outputs": [
        {
          "name": "stdout",
          "output_type": "stream",
          "text": [
            "Looking in indexes: https://pypi.org/simple, https://us-python.pkg.dev/colab-wheels/public/simple/\n",
            "Collecting pyspellchecker\n",
            "  Downloading pyspellchecker-0.7.0-py3-none-any.whl (2.5 MB)\n",
            "\u001b[K     |████████████████████████████████| 2.5 MB 21.8 MB/s \n",
            "\u001b[?25hInstalling collected packages: pyspellchecker\n",
            "Successfully installed pyspellchecker-0.7.0\n"
          ]
        }
      ],
      "source": [
        "!pip install pyspellchecker"
      ]
    },
    {
      "cell_type": "markdown",
      "metadata": {
        "id": "8jFZ3rIF-eqR"
      },
      "source": [
        "definition of preprocess functions on text"
      ]
    },
    {
      "cell_type": "code",
      "execution_count": null,
      "metadata": {
        "colab": {
          "base_uri": "https://localhost:8080/"
        },
        "id": "Sj8VRuYB-eRq",
        "outputId": "60782f45-3385-423f-9c7f-09d59c87291b"
      },
      "outputs": [
        {
          "name": "stderr",
          "output_type": "stream",
          "text": [
            "[nltk_data] Downloading package omw-1.4 to /root/nltk_data...\n",
            "[nltk_data] Downloading package stopwords to /root/nltk_data...\n",
            "[nltk_data]   Unzipping corpora/stopwords.zip.\n",
            "[nltk_data] Downloading package wordnet to /root/nltk_data...\n"
          ]
        }
      ],
      "source": [
        "import string\n",
        "import re\n",
        "import nltk\n",
        "import spacy\n",
        "\n",
        "nltk.download('omw-1.4')\n",
        "nltk.download('stopwords')\n",
        "nltk.download('wordnet')\n",
        "\n",
        "\n",
        "# Removal of URLs\n",
        "def remove_urls(text):\n",
        "    url_pattern = re.compile(r'https?://\\S+|www\\.\\S+')\n",
        "    return url_pattern.sub(r'', text)\n",
        "\n",
        "\n",
        "# Removal of HTML tags\n",
        "def remove_html(text):\n",
        "    html_pattern = re.compile('<.*?>')\n",
        "    return html_pattern.sub(r'', text)\n",
        "\n",
        "\n",
        "# Removal of mentions\n",
        "def remove_mentions(text):\n",
        "    return re.sub(\"@[A-Za-z0-9_]+\",\"\", text)\n",
        "\n",
        "\n",
        "# Removal of stopwords\n",
        "from nltk.corpus import stopwords\n",
        "STOPWORDS = set(stopwords.words('english'))\n",
        "def remove_stopwords(text):\n",
        "    \"\"\"custom function to remove the stopwords\"\"\"\n",
        "    return \" \".join([word for word in str(text).split() if word not in STOPWORDS])\n",
        "\n",
        "\n",
        "# Stemming\n",
        "# nothing\n",
        "\n",
        "\n",
        "# Lemmatization\n",
        "from nltk.stem import WordNetLemmatizer\n",
        "\n",
        "lemmatizer = WordNetLemmatizer()\n",
        "def lemmatize_words(text):\n",
        "    return \" \".join([lemmatizer.lemmatize(word) for word in text.split()])\n",
        "\n",
        "\n",
        "# Removal of Emojis\n",
        "def remove_emoji(text):\n",
        "    emoji_pattern = re.compile(\"[\"\n",
        "                        u\"\\U0001F600-\\U0001F64F\"  # emoticons\n",
        "                        u\"\\U0001F300-\\U0001F5FF\"  # symbols & pictographs\n",
        "                        u\"\\U0001F680-\\U0001F6FF\"  # transport & map symbols\n",
        "                        u\"\\U0001F1E0-\\U0001F1FF\"  # flags (iOS)\n",
        "                        u\"\\U00002702-\\U000027B0\"\n",
        "                        u\"\\U000024C2-\\U0001F251\"\n",
        "                        \"]+\", flags=re.UNICODE)\n",
        "    return emoji_pattern.sub(r'', text)\n",
        "\n",
        "\n",
        "# Removal of emoticons\n",
        "# todo: nothing\n",
        "\n",
        "\n",
        "# Conversion of emoticons to words\n",
        "# todo: nothing\n",
        "\n",
        "\n",
        "# Conversion of emojis to words\n",
        "# todo: nothing\n",
        "\n",
        "\n",
        "# Chat Words Conversion\n",
        "chat_words_str = \"\"\"\n",
        "AFAIK=As Far As I Know\n",
        "AFK=Away From Keyboard\n",
        "ASAP=As Soon As Possible\n",
        "ATK=At The Keyboard\n",
        "ATM=At The Moment\n",
        "A3=Anytime, Anywhere, Anyplace\n",
        "BAK=Back At Keyboard\n",
        "BBL=Be Back Later\n",
        "BBS=Be Back Soon\n",
        "BFN=Bye For Now\n",
        "B4N=Bye For Now\n",
        "BRB=Be Right Back\n",
        "BRT=Be Right There\n",
        "BTW=By The Way\n",
        "B4=Before\n",
        "B4N=Bye For Now\n",
        "CU=See You\n",
        "CUL8R=See You Later\n",
        "CYA=See You\n",
        "FAQ=Frequently Asked Questions\n",
        "FC=Fingers Crossed\n",
        "FWIW=For What It's Worth\n",
        "FYI=For Your Information\n",
        "GAL=Get A Life\n",
        "GG=Good Game\n",
        "GN=Good Night\n",
        "GMTA=Great Minds Think Alike\n",
        "GR8=Great!\n",
        "G9=Genius\n",
        "IC=I See\n",
        "ICQ=I Seek you (also a chat program)\n",
        "ILU=ILU: I Love You\n",
        "IMHO=In My Honest/Humble Opinion\n",
        "IMO=In My Opinion\n",
        "IOW=In Other Words\n",
        "IRL=In Real Life\n",
        "KISS=Keep It Simple, Stupid\n",
        "LDR=Long Distance Relationship\n",
        "LMAO=Laugh My A.. Off\n",
        "LOL=Laughing Out Loud\n",
        "LTNS=Long Time No See\n",
        "L8R=Later\n",
        "MTE=My Thoughts Exactly\n",
        "M8=Mate\n",
        "NRN=No Reply Necessary\n",
        "OIC=Oh I See\n",
        "PITA=Pain In The A..\n",
        "PRT=Party\n",
        "PRW=Parents Are Watching\n",
        "ROFL=Rolling On The Floor Laughing\n",
        "ROFLOL=Rolling On The Floor Laughing Out Loud\n",
        "ROTFLMAO=Rolling On The Floor Laughing My A.. Off\n",
        "SK8=Skate\n",
        "STATS=Your sex and age\n",
        "ASL=Age, Sex, Location\n",
        "THX=Thank You\n",
        "TTFN=Ta-Ta For Now!\n",
        "TTYL=Talk To You Later\n",
        "U=You\n",
        "U2=You Too\n",
        "U4E=Yours For Ever\n",
        "WB=Welcome Back\n",
        "WTF=What The F...\n",
        "WTG=Way To Go!\n",
        "WUF=Where Are You From?\n",
        "W8=Wait...\n",
        "7K=Sick:-D Laugher\n",
        "\"\"\"\n",
        "\n",
        "chat_words_map_dict = {}\n",
        "chat_words_list = []\n",
        "for line in chat_words_str.split(\"\\n\"):\n",
        "    if line != \"\":\n",
        "        cw = line.split(\"=\")[0]\n",
        "        cw_expanded = line.split(\"=\")[1]\n",
        "        chat_words_list.append(cw)\n",
        "        chat_words_map_dict[cw] = cw_expanded\n",
        "chat_words_list = set(chat_words_list)\n",
        "\n",
        "def chat_words_conversion(text):\n",
        "    new_text = []\n",
        "    for w in text.split():\n",
        "        if w.upper() in chat_words_list:\n",
        "            new_text.append(chat_words_map_dict[w.upper()])\n",
        "        else:\n",
        "            new_text.append(w)\n",
        "    return \" \".join(new_text)\n",
        "\n",
        "\n",
        "# Spelling Correction\n",
        "from spellchecker import SpellChecker\n",
        "\n",
        "spell = SpellChecker()\n",
        "def correct_spellings(text):\n",
        "    \"\"\" its norving method \"\"\"\n",
        "    corrected_text = []\n",
        "    misspelled_words = spell.unknown(text.split())\n",
        "    for word in text.split():\n",
        "        if word in misspelled_words:\n",
        "            corrected_text.append(spell.correction(word))\n",
        "        else:\n",
        "            corrected_text.append(word)\n",
        "    return \" \".join(corrected_text)\n",
        "\n",
        "\n",
        "# Removal of numbers \n",
        "def remove_number(text):\n",
        "    return re.sub(\"[0-9]+\", \"\", text)\n",
        "\n",
        "\n",
        "# Removal of Punctuations\n",
        "PUNCT_TO_REMOVE = string.punctuation\n",
        "def remove_punctuation(text):\n",
        "    return text.translate(str.maketrans('', '', PUNCT_TO_REMOVE))\n",
        "\n",
        "\n",
        "# remove over spaces\n",
        "def remove_over_spaces(text):\n",
        "    return re.sub('\\s{2,}', \" \", text)\n"
      ]
    },
    {
      "cell_type": "code",
      "execution_count": null,
      "metadata": {
        "id": "pxKtDE6SwIuV"
      },
      "outputs": [],
      "source": [
        "# symspell method for spell correction that is fast but is not so good\n",
        "# in some case it make words incorrect\n",
        "\n",
        "# import pkg_resources\n",
        "# from symspellpy import SymSpell\n",
        "\n",
        "# sym_spell = SymSpell(max_dictionary_edit_distance=2, prefix_length=7)\n",
        "# dictionary_path = pkg_resources.resource_filename(\n",
        "#     \"symspellpy\", \"frequency_dictionary_en_82_765.txt\"\n",
        "# )\n",
        "# bigram_path = pkg_resources.resource_filename(\n",
        "#     \"symspellpy\", \"frequency_bigramdictionary_en_243_342.txt\"\n",
        "# )\n",
        "\n",
        "# # term_index is the column of the term and count_index is the\n",
        "# # column of the term frequency\n",
        "# sym_spell.load_dictionary(dictionary_path, term_index=0, count_index=1)\n",
        "# sym_spell.load_bigram_dictionary(bigram_path, term_index=0, count_index=2)\n",
        "\n",
        "# def correct_spellings_symspell(text):\n",
        "#     # max edit distance per lookup (per single word, not per whole input string)\n",
        "#     suggestions = sym_spell.lookup_compound(text, max_edit_distance=2)\n",
        "#     # display suggestion term, edit distance, and term frequency\n",
        "    \n",
        "#     return suggestions[0].term\n",
        "\n",
        "# x = correct_spellings_symspell(\"my haert noooooo\")\n",
        "# print(x)"
      ]
    },
    {
      "cell_type": "markdown",
      "metadata": {
        "id": "kowQfsAfWpq8"
      },
      "source": [
        "preprocess on raw data"
      ]
    },
    {
      "cell_type": "code",
      "execution_count": null,
      "metadata": {
        "id": "PjjNV9Z3QJL6"
      },
      "outputs": [],
      "source": [
        "def preprocess(\n",
        "    raw_data_df,\n",
        "    save_csv=False,\n",
        "    save_path=None,\n",
        "    urls=True,\n",
        "    htmls=True,\n",
        "    mentions=True,\n",
        "    stop_words=True,\n",
        "    lemmatize=True,\n",
        "    emoji=True,\n",
        "    chat_abbreviations=True,\n",
        "    spell_correction=True,\n",
        "    numbers=True,\n",
        "    punctuations=True,\n",
        "    over_space=True):\n",
        "    '''\n",
        "    preprocess raw data that is in dataframe form\n",
        "    there are some flags to determine preprocess actions\n",
        "    '''\n",
        "    clean_tweets = raw_data_df['decoded_tweet']\n",
        "    clean_tweets = clean_tweets.str.lower()  # lower casing\n",
        "\n",
        "    if urls: \n",
        "        print(\"-> urls\"); clean_tweets = clean_tweets.apply(lambda text: remove_urls(text))\n",
        "\n",
        "    if htmls: \n",
        "        print(\"-> htmls\"); clean_tweets = clean_tweets.apply(lambda text: remove_html(text))\n",
        "\n",
        "    if mentions:\n",
        "        print(\"-> mentions\"); clean_tweets = clean_tweets.apply(lambda text: remove_mentions(text))\n",
        "\n",
        "    if stop_words:\n",
        "        print(\"-> stop words\"); clean_tweets = clean_tweets.apply(lambda text: remove_stopwords(text))\n",
        "\n",
        "    if lemmatize:\n",
        "        print(\"-> lemmatize\"); clean_tweets = clean_tweets.apply(lambda text: lemmatize_words(text))\n",
        "\n",
        "    if emoji: \n",
        "        print(\"-> emoji\"); clean_tweets = clean_tweets.apply(lambda text: remove_emoji(text))\n",
        "\n",
        "    if chat_abbreviations: \n",
        "        print(\"-> chat abbreviations\"); clean_tweets = clean_tweets.apply(lambda text: chat_words_conversion(text))\n",
        "    \n",
        "    if spell_correction: \n",
        "        print(\"-> spell correciton\"); clean_tweets = clean_tweets.apply(lambda text: correct_spellings(text))\n",
        "    \n",
        "    if numbers: \n",
        "        print(\"-> numbers\"); clean_tweets = clean_tweets.apply(lambda text: remove_number(text))\n",
        "    \n",
        "    if punctuations: \n",
        "        print(\"-> punctuations\"); clean_tweets = clean_tweets.apply(lambda text: remove_punctuation(text))\n",
        "    clean_tweets = clean_tweets.str.lower()\n",
        "    \n",
        "    if over_space: \n",
        "        print(\"-> over space\"); clean_tweets = clean_tweets.apply(lambda text: remove_over_spaces(text))\n",
        "\n",
        "    raw_data_df['clean_tweet'] = clean_tweets\n",
        "\n",
        "    # save preprocessed data to drive in csv format\n",
        "    if save_csv:\n",
        "        raw_data_df.to_csv(save_path, index=False)\n",
        "\n",
        "    return raw_data_df"
      ]
    },
    {
      "cell_type": "code",
      "execution_count": null,
      "metadata": {
        "colab": {
          "base_uri": "https://localhost:8080/"
        },
        "id": "UHcvIu-2HrAG",
        "outputId": "27e30fa0-0514-49fb-887b-732eeb6dc788"
      },
      "outputs": [
        {
          "name": "stdout",
          "output_type": "stream",
          "text": [
            "-> urls\n",
            "-> htmls\n",
            "-> mentions\n",
            "-> stop words\n",
            "-> lemmatize\n",
            "-> emoji\n",
            "-> chat abbreviations\n",
            "-> spell correciton\n",
            "-> numbers\n",
            "-> punctuations\n",
            "-> over space\n"
          ]
        }
      ],
      "source": [
        "pproc_data = preprocess(small_raw_data, save_csv=True, save_path=\"data_3000_pproc_yesSpell.csv\")"
      ]
    },
    {
      "cell_type": "code",
      "execution_count": null,
      "metadata": {
        "colab": {
          "base_uri": "https://localhost:8080/"
        },
        "id": "CjjJTS-TKGOt",
        "outputId": "ec7a2e58-a471-45a3-ac55-e41ffe44cf1c"
      },
      "outputs": [
        {
          "name": "stdout",
          "output_type": "stream",
          "text": [
            "-> urls\n",
            "-> htmls\n",
            "-> mentions\n",
            "-> stop words\n",
            "-> lemmatize\n",
            "-> emoji\n",
            "-> chat abbreviations\n",
            "-> numbers\n",
            "-> punctuations\n",
            "-> over space\n"
          ]
        }
      ],
      "source": [
        "pproc_data = preprocess(\n",
        "    data, save_csv=True, spell_correction=False, save_path=\"crawled_data_pproc_noSpell.csv\"\n",
        ")"
      ]
    },
    {
      "cell_type": "markdown",
      "metadata": {
        "id": "zghLsgkqpm_j"
      },
      "source": [
        "# Preparation of preprocessed dataset and embedding layer"
      ]
    },
    {
      "cell_type": "markdown",
      "metadata": {
        "id": "LuTs2Olxp1XE"
      },
      "source": [
        "## load preprocessed data"
      ]
    },
    {
      "cell_type": "code",
      "execution_count": null,
      "metadata": {
        "colab": {
          "base_uri": "https://localhost:8080/"
        },
        "id": "aTyJtW0B3XJK",
        "outputId": "11ac97f6-4eb2-4a21-f4aa-aa714585b301"
      },
      "outputs": [
        {
          "name": "stdout",
          "output_type": "stream",
          "text": [
            "btc.csv\t\t\t\t    logs\n",
            "btc_tweets.csv\t\t\t    models\n",
            "change_label_11K_pproc_noSpell.csv  undersample_1500_pproc_noSpell.csv\n",
            "crawled_data_pproc_noSpell.csv\t    without_neu_1600_pproc_noSpell.csv\n",
            "glove.twitter.27B.200d.txt\t    without_neu_7500_pproc_noSpell.csv\n"
          ]
        }
      ],
      "source": [
        "!ls"
      ]
    },
    {
      "cell_type": "code",
      "execution_count": null,
      "metadata": {
        "colab": {
          "base_uri": "https://localhost:8080/",
          "height": 424
        },
        "id": "NxGEifacp7pV",
        "outputId": "9616fb3f-e9f9-4f38-a285-68926c244469"
      },
      "outputs": [
        {
          "data": {
            "text/html": [
              "\n",
              "  <div id=\"df-59d36f18-360b-4858-95ff-431577bb3801\">\n",
              "    <div class=\"colab-df-container\">\n",
              "      <div>\n",
              "<style scoped>\n",
              "    .dataframe tbody tr th:only-of-type {\n",
              "        vertical-align: middle;\n",
              "    }\n",
              "\n",
              "    .dataframe tbody tr th {\n",
              "        vertical-align: top;\n",
              "    }\n",
              "\n",
              "    .dataframe thead th {\n",
              "        text-align: right;\n",
              "    }\n",
              "</style>\n",
              "<table border=\"1\" class=\"dataframe\">\n",
              "  <thead>\n",
              "    <tr style=\"text-align: right;\">\n",
              "      <th></th>\n",
              "      <th>compound</th>\n",
              "      <th>clean_tweet</th>\n",
              "      <th>neg</th>\n",
              "      <th>neu</th>\n",
              "      <th>pos</th>\n",
              "    </tr>\n",
              "  </thead>\n",
              "  <tbody>\n",
              "    <tr>\n",
              "      <th>0</th>\n",
              "      <td>-0.5428</td>\n",
              "      <td>hes warning inflation societal collapse lot th...</td>\n",
              "      <td>1.0</td>\n",
              "      <td>0.0</td>\n",
              "      <td>0.0</td>\n",
              "    </tr>\n",
              "    <tr>\n",
              "      <th>1</th>\n",
              "      <td>-0.8176</td>\n",
              "      <td>tether blow month court order bitcoin also im ...</td>\n",
              "      <td>1.0</td>\n",
              "      <td>0.0</td>\n",
              "      <td>0.0</td>\n",
              "    </tr>\n",
              "    <tr>\n",
              "      <th>2</th>\n",
              "      <td>-0.5661</td>\n",
              "      <td>warned stock bitcoin could go down massive inf...</td>\n",
              "      <td>1.0</td>\n",
              "      <td>0.0</td>\n",
              "      <td>0.0</td>\n",
              "    </tr>\n",
              "    <tr>\n",
              "      <th>3</th>\n",
              "      <td>-0.5106</td>\n",
              "      <td>real max pain crypto ogs selling btc k watchin...</td>\n",
              "      <td>1.0</td>\n",
              "      <td>0.0</td>\n",
              "      <td>0.0</td>\n",
              "    </tr>\n",
              "    <tr>\n",
              "      <th>4</th>\n",
              "      <td>-0.7476</td>\n",
              "      <td>word square’s cash app policies severely throt...</td>\n",
              "      <td>1.0</td>\n",
              "      <td>0.0</td>\n",
              "      <td>0.0</td>\n",
              "    </tr>\n",
              "    <tr>\n",
              "      <th>...</th>\n",
              "      <td>...</td>\n",
              "      <td>...</td>\n",
              "      <td>...</td>\n",
              "      <td>...</td>\n",
              "      <td>...</td>\n",
              "    </tr>\n",
              "    <tr>\n",
              "      <th>8659</th>\n",
              "      <td>0.5859</td>\n",
              "      <td>if gamestop turn store introduction crypto mak...</td>\n",
              "      <td>0.0</td>\n",
              "      <td>0.0</td>\n",
              "      <td>1.0</td>\n",
              "    </tr>\n",
              "    <tr>\n",
              "      <th>8660</th>\n",
              "      <td>0.5994</td>\n",
              "      <td>welcome you fact it net worth bitcoin next ste...</td>\n",
              "      <td>0.0</td>\n",
              "      <td>0.0</td>\n",
              "      <td>1.0</td>\n",
              "    </tr>\n",
              "    <tr>\n",
              "      <th>8661</th>\n",
              "      <td>0.5423</td>\n",
              "      <td>fascinating part bank starting flex early rese...</td>\n",
              "      <td>0.0</td>\n",
              "      <td>0.0</td>\n",
              "      <td>1.0</td>\n",
              "    </tr>\n",
              "    <tr>\n",
              "      <th>8662</th>\n",
              "      <td>0.7506</td>\n",
              "      <td>indian accustomed saving investing store value...</td>\n",
              "      <td>0.0</td>\n",
              "      <td>0.0</td>\n",
              "      <td>1.0</td>\n",
              "    </tr>\n",
              "    <tr>\n",
              "      <th>8663</th>\n",
              "      <td>0.8074</td>\n",
              "      <td>new month new ath bitcoin 🥰</td>\n",
              "      <td>0.0</td>\n",
              "      <td>0.0</td>\n",
              "      <td>1.0</td>\n",
              "    </tr>\n",
              "  </tbody>\n",
              "</table>\n",
              "<p>8664 rows × 5 columns</p>\n",
              "</div>\n",
              "      <button class=\"colab-df-convert\" onclick=\"convertToInteractive('df-59d36f18-360b-4858-95ff-431577bb3801')\"\n",
              "              title=\"Convert this dataframe to an interactive table.\"\n",
              "              style=\"display:none;\">\n",
              "        \n",
              "  <svg xmlns=\"http://www.w3.org/2000/svg\" height=\"24px\"viewBox=\"0 0 24 24\"\n",
              "       width=\"24px\">\n",
              "    <path d=\"M0 0h24v24H0V0z\" fill=\"none\"/>\n",
              "    <path d=\"M18.56 5.44l.94 2.06.94-2.06 2.06-.94-2.06-.94-.94-2.06-.94 2.06-2.06.94zm-11 1L8.5 8.5l.94-2.06 2.06-.94-2.06-.94L8.5 2.5l-.94 2.06-2.06.94zm10 10l.94 2.06.94-2.06 2.06-.94-2.06-.94-.94-2.06-.94 2.06-2.06.94z\"/><path d=\"M17.41 7.96l-1.37-1.37c-.4-.4-.92-.59-1.43-.59-.52 0-1.04.2-1.43.59L10.3 9.45l-7.72 7.72c-.78.78-.78 2.05 0 2.83L4 21.41c.39.39.9.59 1.41.59.51 0 1.02-.2 1.41-.59l7.78-7.78 2.81-2.81c.8-.78.8-2.07 0-2.86zM5.41 20L4 18.59l7.72-7.72 1.47 1.35L5.41 20z\"/>\n",
              "  </svg>\n",
              "      </button>\n",
              "      \n",
              "  <style>\n",
              "    .colab-df-container {\n",
              "      display:flex;\n",
              "      flex-wrap:wrap;\n",
              "      gap: 12px;\n",
              "    }\n",
              "\n",
              "    .colab-df-convert {\n",
              "      background-color: #E8F0FE;\n",
              "      border: none;\n",
              "      border-radius: 50%;\n",
              "      cursor: pointer;\n",
              "      display: none;\n",
              "      fill: #1967D2;\n",
              "      height: 32px;\n",
              "      padding: 0 0 0 0;\n",
              "      width: 32px;\n",
              "    }\n",
              "\n",
              "    .colab-df-convert:hover {\n",
              "      background-color: #E2EBFA;\n",
              "      box-shadow: 0px 1px 2px rgba(60, 64, 67, 0.3), 0px 1px 3px 1px rgba(60, 64, 67, 0.15);\n",
              "      fill: #174EA6;\n",
              "    }\n",
              "\n",
              "    [theme=dark] .colab-df-convert {\n",
              "      background-color: #3B4455;\n",
              "      fill: #D2E3FC;\n",
              "    }\n",
              "\n",
              "    [theme=dark] .colab-df-convert:hover {\n",
              "      background-color: #434B5C;\n",
              "      box-shadow: 0px 1px 3px 1px rgba(0, 0, 0, 0.15);\n",
              "      filter: drop-shadow(0px 1px 2px rgba(0, 0, 0, 0.3));\n",
              "      fill: #FFFFFF;\n",
              "    }\n",
              "  </style>\n",
              "\n",
              "      <script>\n",
              "        const buttonEl =\n",
              "          document.querySelector('#df-59d36f18-360b-4858-95ff-431577bb3801 button.colab-df-convert');\n",
              "        buttonEl.style.display =\n",
              "          google.colab.kernel.accessAllowed ? 'block' : 'none';\n",
              "\n",
              "        async function convertToInteractive(key) {\n",
              "          const element = document.querySelector('#df-59d36f18-360b-4858-95ff-431577bb3801');\n",
              "          const dataTable =\n",
              "            await google.colab.kernel.invokeFunction('convertToInteractive',\n",
              "                                                     [key], {});\n",
              "          if (!dataTable) return;\n",
              "\n",
              "          const docLinkHtml = 'Like what you see? Visit the ' +\n",
              "            '<a target=\"_blank\" href=https://colab.research.google.com/notebooks/data_table.ipynb>data table notebook</a>'\n",
              "            + ' to learn more about interactive tables.';\n",
              "          element.innerHTML = '';\n",
              "          dataTable['output_type'] = 'display_data';\n",
              "          await google.colab.output.renderOutput(dataTable, element);\n",
              "          const docLink = document.createElement('div');\n",
              "          docLink.innerHTML = docLinkHtml;\n",
              "          element.appendChild(docLink);\n",
              "        }\n",
              "      </script>\n",
              "    </div>\n",
              "  </div>\n",
              "  "
            ],
            "text/plain": [
              "      compound                                        clean_tweet  neg  neu  \\\n",
              "0      -0.5428  hes warning inflation societal collapse lot th...  1.0  0.0   \n",
              "1      -0.8176  tether blow month court order bitcoin also im ...  1.0  0.0   \n",
              "2      -0.5661  warned stock bitcoin could go down massive inf...  1.0  0.0   \n",
              "3      -0.5106  real max pain crypto ogs selling btc k watchin...  1.0  0.0   \n",
              "4      -0.7476  word square’s cash app policies severely throt...  1.0  0.0   \n",
              "...        ...                                                ...  ...  ...   \n",
              "8659    0.5859  if gamestop turn store introduction crypto mak...  0.0  0.0   \n",
              "8660    0.5994  welcome you fact it net worth bitcoin next ste...  0.0  0.0   \n",
              "8661    0.5423  fascinating part bank starting flex early rese...  0.0  0.0   \n",
              "8662    0.7506  indian accustomed saving investing store value...  0.0  0.0   \n",
              "8663    0.8074                        new month new ath bitcoin 🥰  0.0  0.0   \n",
              "\n",
              "      pos  \n",
              "0     0.0  \n",
              "1     0.0  \n",
              "2     0.0  \n",
              "3     0.0  \n",
              "4     0.0  \n",
              "...   ...  \n",
              "8659  1.0  \n",
              "8660  1.0  \n",
              "8661  1.0  \n",
              "8662  1.0  \n",
              "8663  1.0  \n",
              "\n",
              "[8664 rows x 5 columns]"
            ]
          },
          "metadata": {},
          "output_type": "display_data"
        }
      ],
      "source": [
        "def load_preprocessed_data(path, label_type='default', from_compound=False):\n",
        "    \"\"\"\n",
        "    label_type: 'default' or 'regression' or 'one-hot'\n",
        "    \"\"\"\n",
        "    df = pd.read_csv(path)\n",
        "    if from_compound:\n",
        "        df = df[['compound', 'clean_tweet']]\n",
        "        df = df.astype({'compound': 'float', 'clean_tweet': 'str'})\n",
        "    else:\n",
        "        df = df[['neg', 'neu', 'pos', 'clean_tweet']]\n",
        "        df = df.astype({'neg': 'float', 'neu': 'float', 'pos': 'float', 'clean_tweet': 'str'})\n",
        "\n",
        "    if label_type == 'one-hot':\n",
        "        df = convert_labels_to_one_hot(df, from_compound)\n",
        "    elif label_type == 'regression':\n",
        "        df = create_regression_label(df, from_compound)\n",
        "\n",
        "    return df\n",
        "\n",
        "\n",
        "df = load_preprocessed_data(\n",
        "    path=f'{project_directory}/crawled_data_pproc_noSpell.csv',\n",
        "    label_type='one-hot',\n",
        "    from_compound=True\n",
        ")\n",
        "display(df)"
      ]
    },
    {
      "cell_type": "markdown",
      "metadata": {
        "id": "87vCyqyTq4T8"
      },
      "source": [
        "## Constants Definition"
      ]
    },
    {
      "cell_type": "code",
      "execution_count": null,
      "metadata": {
        "colab": {
          "base_uri": "https://localhost:8080/",
          "height": 265
        },
        "id": "yWSMYg7DZt4m",
        "outputId": "376e208a-8cdc-4aba-df97-d9979c976468"
      },
      "outputs": [
        {
          "data": {
            "image/png": "[encoded data removed]",
            "text/plain": [
              "<Figure size 432x288 with 1 Axes>"
            ]
          },
          "metadata": {},
          "output_type": "display_data"
        }
      ],
      "source": [
        "lengths = df['clean_tweet'].apply(lambda tweet: len(tweet.split()))\n",
        "lengths.hist()\n",
        "plt.show()"
      ]
    },
    {
      "cell_type": "code",
      "execution_count": null,
      "metadata": {
        "id": "JkVvYFPvZe04"
      },
      "outputs": [],
      "source": [
        "# Dimensions of the embeddings\n",
        "# notice: this variable use for load glove pretrianed word embedding\n",
        "N_EMB = 200\n",
        "\n",
        "# Fraction of samples to be used for training set\n",
        "N_TRAIN = 0.8\n",
        "\n",
        "# Size of each sequence to be embedded:\n",
        "N_SEQ = 128 # Chosen based on the histogram of the lengths\n",
        "\n",
        "# Size of vocabulary\n",
        "N_vocab = None  # This will be valued later in code"
      ]
    },
    {
      "cell_type": "markdown",
      "metadata": {
        "id": "hfhXiBbPrJjm"
      },
      "source": [
        "## Split Dataset"
      ]
    },
    {
      "cell_type": "code",
      "execution_count": null,
      "metadata": {
        "id": "rKgeIR5GbXgL"
      },
      "outputs": [],
      "source": [
        "from sklearn.model_selection import train_test_split as tts\n",
        "\n",
        "df_train, df_val = tts(df, train_size=N_TRAIN, shuffle=True, random_state=42)"
      ]
    },
    {
      "cell_type": "code",
      "execution_count": null,
      "metadata": {
        "colab": {
          "base_uri": "https://localhost:8080/"
        },
        "id": "gp77_Vmkohik",
        "outputId": "1c291288-de74-48ab-ede2-2d479095ecc3"
      },
      "outputs": [
        {
          "name": "stdout",
          "output_type": "stream",
          "text": [
            "<class 'pandas.core.frame.DataFrame'>\n",
            "Int64Index: 6931 entries, 6205 to 7270\n",
            "Data columns (total 5 columns):\n",
            " #   Column       Non-Null Count  Dtype  \n",
            "---  ------       --------------  -----  \n",
            " 0   compound     6931 non-null   float64\n",
            " 1   clean_tweet  6931 non-null   object \n",
            " 2   neg          6931 non-null   float64\n",
            " 3   neu          6931 non-null   float64\n",
            " 4   pos          6931 non-null   float64\n",
            "dtypes: float64(4), object(1)\n",
            "memory usage: 324.9+ KB\n"
          ]
        }
      ],
      "source": [
        "df_train.info()"
      ]
    },
    {
      "cell_type": "markdown",
      "metadata": {
        "id": "f6jQQUF5uKff"
      },
      "source": [
        "## Word index like a vocabulary"
      ]
    },
    {
      "cell_type": "code",
      "execution_count": null,
      "metadata": {
        "colab": {
          "base_uri": "https://localhost:8080/"
        },
        "id": "oOPILjaskZIy",
        "outputId": "9b1e4cd5-1966-4cce-df74-d495fc753cac"
      },
      "outputs": [
        {
          "name": "stdout",
          "output_type": "stream",
          "text": [
            "15682\n"
          ]
        }
      ],
      "source": [
        "from keras.preprocessing.text import Tokenizer\n",
        "\n",
        "tok = Tokenizer()\n",
        "tok.fit_on_texts(df[\"clean_tweet\"])  # to create word_index\n",
        "word_index = tok.word_index\n",
        "N_vocab = len(tok.word_index) + 1\n",
        "print(N_vocab)"
      ]
    },
    {
      "cell_type": "code",
      "execution_count": null,
      "metadata": {
        "colab": {
          "base_uri": "https://localhost:8080/"
        },
        "id": "v14MmSfy0PDF",
        "outputId": "6b7e2e0a-a5ec-4a2d-a3cd-111a3ed3a359"
      },
      "outputs": [
        {
          "name": "stdout",
          "output_type": "stream",
          "text": [
            "x_train:  (6931, 128)\n",
            "y_train:  (6931, 3)\n",
            "x_val:  (1733, 128)\n",
            "y_val:  (1733, 3)\n"
          ]
        }
      ],
      "source": [
        "from keras.preprocessing.sequence import pad_sequences\n",
        "\n",
        "\n",
        "def create_dataset(regression_mode=False):\n",
        "    x_train = pad_sequences(\n",
        "        tok.texts_to_sequences(df_train[\"clean_tweet\"]), maxlen=N_SEQ, padding='post', truncating='post', dtype=int\n",
        "    )\n",
        "    x_val   = pad_sequences(\n",
        "        tok.texts_to_sequences(df_val[\"clean_tweet\"]), maxlen=N_SEQ, padding='post', truncating='post', dtype=int\n",
        "    )\n",
        "\n",
        "    if not regression_mode:\n",
        "        y_train = df_train[['neg','neu', 'pos']].to_numpy(dtype=float)\n",
        "        y_val = df_val[['neg','neu', 'pos']].to_numpy(dtype=float)\n",
        "    else:\n",
        "        y_train = df_train[['regression_label']].to_numpy(dtype=float)\n",
        "        y_val = df_val[['regression_label']].to_numpy(dtype=float)\n",
        "\n",
        "    return (x_train, y_train), (x_val, y_val)\n",
        "\n",
        "\n",
        "(x_train, y_train), (x_val, y_val) = create_dataset(regression_mode=False)\n",
        "\n",
        "print(\"x_train: \", x_train.shape)\n",
        "print(\"y_train: \", y_train.shape)\n",
        "print(\"x_val: \", x_val.shape)\n",
        "print(\"y_val: \", y_val.shape)"
      ]
    },
    {
      "cell_type": "code",
      "execution_count": null,
      "metadata": {
        "colab": {
          "base_uri": "https://localhost:8080/"
        },
        "id": "un6nvBPD291x",
        "outputId": "139e79ea-2f05-42af-e0ed-a366a7c3b700"
      },
      "outputs": [
        {
          "name": "stdout",
          "output_type": "stream",
          "text": [
            "[ 2369 13018   749  6504   916  1091  1084     2   122   902   213   192\n",
            "   128 13019   475     0     0     0     0     0     0     0     0     0\n",
            "     0     0     0     0     0     0     0     0     0     0     0     0\n",
            "     0     0     0     0     0     0     0     0     0     0     0     0\n",
            "     0     0     0     0     0     0     0     0     0     0     0     0\n",
            "     0     0     0     0     0     0     0     0     0     0     0     0\n",
            "     0     0     0     0     0     0     0     0     0     0     0     0\n",
            "     0     0     0     0     0     0     0     0     0     0     0     0\n",
            "     0     0     0     0     0     0     0     0     0     0     0     0\n",
            "     0     0     0     0     0     0     0     0     0     0     0     0\n",
            "     0     0     0     0     0     0     0     0]\n",
            "[0. 0. 1.]\n"
          ]
        }
      ],
      "source": [
        "print(x_train[0])\n",
        "print(y_train[0])"
      ]
    },
    {
      "cell_type": "markdown",
      "metadata": {
        "id": "CYtUB8IH21Q5"
      },
      "source": [
        "## Preparing the Embedding layer"
      ]
    },
    {
      "cell_type": "code",
      "execution_count": null,
      "metadata": {
        "colab": {
          "base_uri": "https://localhost:8080/"
        },
        "id": "nQ4mp_MHqWyf",
        "outputId": "6d738f5e-ca35-45a3-b9aa-168e1f3a3fec"
      },
      "outputs": [
        {
          "name": "stdout",
          "output_type": "stream",
          "text": [
            "change_label_11K_pproc_noSpell.csv\n"
          ]
        }
      ],
      "source": [
        "!ls"
      ]
    },
    {
      "cell_type": "code",
      "execution_count": null,
      "metadata": {
        "colab": {
          "base_uri": "https://localhost:8080/"
        },
        "id": "HVGgXjhdp0Qj",
        "outputId": "c095a8f0-492f-48e3-9e60-3c2a944e3d65"
      },
      "outputs": [
        {
          "name": "stdout",
          "output_type": "stream",
          "text": [
            "--2022-07-11 09:14:51--  https://nlp.stanford.edu/data/glove.twitter.27B.zip\n",
            "Resolving nlp.stanford.edu (nlp.stanford.edu)... 171.64.67.140\n",
            "Connecting to nlp.stanford.edu (nlp.stanford.edu)|171.64.67.140|:443... connected.\n",
            "HTTP request sent, awaiting response... 301 Moved Permanently\n",
            "Location: https://downloads.cs.stanford.edu/nlp/data/glove.twitter.27B.zip [following]\n",
            "--2022-07-11 09:14:52--  https://downloads.cs.stanford.edu/nlp/data/glove.twitter.27B.zip\n",
            "Resolving downloads.cs.stanford.edu (downloads.cs.stanford.edu)... 171.64.64.22\n",
            "Connecting to downloads.cs.stanford.edu (downloads.cs.stanford.edu)|171.64.64.22|:443... connected.\n",
            "HTTP request sent, awaiting response... 200 OK\n",
            "Length: 1520408563 (1.4G) [application/zip]\n",
            "Saving to: ‘glove.twitter.27B.zip’\n",
            "\n",
            "glove.twitter.27B.z 100%[===================>]   1.42G  5.08MB/s    in 4m 45s  \n",
            "\n",
            "2022-07-11 09:19:37 (5.09 MB/s) - ‘glove.twitter.27B.zip’ saved [1520408563/1520408563]\n",
            "\n",
            "Archive:  glove.twitter.27B.zip\n",
            "  inflating: glove.twitter.27B.25d.txt  \n",
            "  inflating: glove.twitter.27B.50d.txt  \n",
            "  inflating: glove.twitter.27B.100d.txt  \n",
            "  inflating: glove.twitter.27B.200d.txt  \n"
          ]
        }
      ],
      "source": [
        "!wget https://nlp.stanford.edu/data/glove.twitter.27B.zip\n",
        "!unzip glove.twitter.27B.zip"
      ]
    },
    {
      "cell_type": "code",
      "execution_count": null,
      "metadata": {
        "id": "fty9L-O323X2"
      },
      "outputs": [],
      "source": [
        "embedding_path = f\"./glove.twitter.27B.{N_EMB}d.txt\"\n",
        "\n",
        "def get_word2vec(file_path):\n",
        "    with open(file_path, \"r\") as f:\n",
        "        word2vec = dict()\n",
        "        for line in f:\n",
        "            word, coefs = line.split(maxsplit=1)\n",
        "            coefs = np.fromstring(coefs, \"f\", sep=\" \")\n",
        "            word2vec[word] = coefs\n",
        "    \n",
        "    return (word2vec)\n",
        "\n",
        "w2v = get_word2vec(embedding_path)"
      ]
    },
    {
      "cell_type": "code",
      "execution_count": null,
      "metadata": {
        "id": "SJzDCJw1qknr"
      },
      "outputs": [],
      "source": [
        "embedding_matrix = np.zeros((N_vocab, N_EMB))\n",
        "for word, i in word_index.items():\n",
        "    embedding_vector = w2v.get(word)\n",
        "    if embedding_vector is not None:\n",
        "        embedding_matrix[i] = embedding_vector"
      ]
    },
    {
      "cell_type": "markdown",
      "metadata": {
        "id": "bTE5E5F6HbiQ"
      },
      "source": [
        "# Model"
      ]
    },
    {
      "cell_type": "code",
      "execution_count": null,
      "metadata": {
        "id": "oEftE4NzHj0v"
      },
      "outputs": [],
      "source": [
        "from keras.models import Sequential, load_model\n",
        "from keras import layers\n",
        "from keras import initializers\n",
        "from keras import regularizers\n",
        "from keras import backend as K\n",
        "from keras.callbacks import ModelCheckpoint\n",
        "from tensorflow.keras import optimizers\n",
        "from keras import losses\n",
        "from keras import metrics\n",
        "import sklearn"
      ]
    },
    {
      "cell_type": "code",
      "execution_count": null,
      "metadata": {
        "id": "-RTHyDxqaRi5"
      },
      "outputs": [],
      "source": [
        "N_BATCH = 32\n",
        "N_EPOCHS = 40"
      ]
    },
    {
      "cell_type": "markdown",
      "metadata": {
        "id": "4rcspPund1Kw"
      },
      "source": [
        "## Simple Model (model_2l)\n",
        "- 2 BiLSTM layer"
      ]
    },
    {
      "cell_type": "code",
      "execution_count": null,
      "metadata": {
        "id": "Bcjzs2nwERJn"
      },
      "outputs": [],
      "source": [
        "def build_model_2l(optimizer, loss, checkpoint_filepath, metrics, regression_mode=False):\n",
        "    model = Sequential()\n",
        "    model.add(layers.Embedding(\n",
        "        input_dim=N_vocab,\n",
        "        output_dim=N_EMB,\n",
        "        embeddings_initializer=initializers.Constant(embedding_matrix),\n",
        "        input_length=N_SEQ,\n",
        "        trainable=True))\n",
        "    model.add(layers.Bidirectional(layers.LSTM(60, return_sequences=True)))\n",
        "    model.add(layers.Bidirectional(layers.LSTM(20)))\n",
        "    if not regression_mode:\n",
        "        model.add(layers.Dense(3, activation='softmax'))\n",
        "    else:\n",
        "        model.add(layers.Dense(1, activation='tanh'))\n",
        "\n",
        "    model.compile(\n",
        "        optimizer=optimizer,\n",
        "        loss=loss,\n",
        "        metrics=metrics\n",
        "    )\n",
        "\n",
        "    checkpoint = ModelCheckpoint(\n",
        "        filepath=checkpoint_filepath, monitor='val_mean_absolute_error', verbose=1,\n",
        "        save_best_only=True, mode='auto', save_freq=\"epoch\", save_weights_only=True\n",
        "    )\n",
        "\n",
        "    early_stopping = tf.keras.callbacks.EarlyStopping(\n",
        "        monitor='val_mean_absolute_error', mode='min', verbose=1, patience=6\n",
        "    )\n",
        "\n",
        "    return model, checkpoint, early_stopping\n"
      ]
    },
    {
      "cell_type": "markdown",
      "metadata": {
        "id": "Rlqlj4lQdkoI"
      },
      "source": [
        "build and train simple model"
      ]
    },
    {
      "cell_type": "code",
      "execution_count": null,
      "metadata": {
        "colab": {
          "base_uri": "https://localhost:8080/"
        },
        "id": "juas1F0WAKAd",
        "outputId": "92224012-2687-4e88-800a-b1209512f124"
      },
      "outputs": [
        {
          "name": "stdout",
          "output_type": "stream",
          "text": [
            "Model: \"sequential_5\"\n",
            "_________________________________________________________________\n",
            " Layer (type)                Output Shape              Param #   \n",
            "=================================================================\n",
            " embedding_5 (Embedding)     (None, 128, 200)          3136400   \n",
            "                                                                 \n",
            " bidirectional_22 (Bidirecti  (None, 128, 120)         125280    \n",
            " onal)                                                           \n",
            "                                                                 \n",
            " bidirectional_23 (Bidirecti  (None, 40)               22560     \n",
            " onal)                                                           \n",
            "                                                                 \n",
            " dense_5 (Dense)             (None, 3)                 123       \n",
            "                                                                 \n",
            "=================================================================\n",
            "Total params: 3,284,363\n",
            "Trainable params: 3,284,363\n",
            "Non-trainable params: 0\n",
            "_________________________________________________________________\n"
          ]
        }
      ],
      "source": [
        "model_2l, checkpoint, early_stopping = build_model_2l(\n",
        "    optimizer=optimizers.Adam(learning_rate=2e-5),\n",
        "    loss=losses.CategoricalCrossentropy(),  # losses.MeanAbsoluteError() - losses.CategoricalCrossentropy()\n",
        "    checkpoint_filepath=\"model.hdf5\",\n",
        "    metrics=[metrics.CategoricalAccuracy()],\n",
        "    regression_mode=False\n",
        ")\n",
        "model_2l.summary()"
      ]
    },
    {
      "cell_type": "code",
      "execution_count": null,
      "metadata": {
        "colab": {
          "base_uri": "https://localhost:8080/"
        },
        "id": "z8c__Ij_k7l3",
        "outputId": "2cc14496-67d9-4e22-9061-d4778c0eccd3"
      },
      "outputs": [
        {
          "name": "stdout",
          "output_type": "stream",
          "text": [
            "Epoch 1/40\n",
            "217/217 [==============================] - 12s 32ms/step - loss: 1.0887 - categorical_accuracy: 0.4085 - val_loss: 1.0799 - val_categorical_accuracy: 0.4426\n",
            "Epoch 2/40\n",
            "217/217 [==============================] - 6s 26ms/step - loss: 1.0680 - categorical_accuracy: 0.4660 - val_loss: 1.0605 - val_categorical_accuracy: 0.4743\n",
            "Epoch 3/40\n",
            "217/217 [==============================] - 5s 25ms/step - loss: 1.0437 - categorical_accuracy: 0.5077 - val_loss: 1.0349 - val_categorical_accuracy: 0.5014\n",
            "Epoch 4/40\n",
            "217/217 [==============================] - 6s 26ms/step - loss: 1.0101 - categorical_accuracy: 0.5344 - val_loss: 1.0004 - val_categorical_accuracy: 0.5326\n",
            "Epoch 5/40\n",
            "217/217 [==============================] - 6s 26ms/step - loss: 0.9640 - categorical_accuracy: 0.5734 - val_loss: 0.9544 - val_categorical_accuracy: 0.5684\n",
            "Epoch 6/40\n",
            "217/217 [==============================] - 6s 26ms/step - loss: 0.9087 - categorical_accuracy: 0.6070 - val_loss: 0.9112 - val_categorical_accuracy: 0.5938\n",
            "Epoch 7/40\n",
            "217/217 [==============================] - 6s 26ms/step - loss: 0.8619 - categorical_accuracy: 0.6330 - val_loss: 0.8787 - val_categorical_accuracy: 0.6093\n",
            "Epoch 8/40\n",
            "217/217 [==============================] - 6s 25ms/step - loss: 0.8296 - categorical_accuracy: 0.6478 - val_loss: 0.8630 - val_categorical_accuracy: 0.6140\n",
            "Epoch 9/40\n",
            "217/217 [==============================] - 6s 26ms/step - loss: 0.8035 - categorical_accuracy: 0.6638 - val_loss: 0.8472 - val_categorical_accuracy: 0.6255\n",
            "Epoch 10/40\n",
            "217/217 [==============================] - 5s 25ms/step - loss: 0.7808 - categorical_accuracy: 0.6752 - val_loss: 0.8358 - val_categorical_accuracy: 0.6319\n",
            "Epoch 11/40\n",
            "217/217 [==============================] - 6s 26ms/step - loss: 0.7605 - categorical_accuracy: 0.6859 - val_loss: 0.8225 - val_categorical_accuracy: 0.6376\n",
            "Epoch 12/40\n",
            "217/217 [==============================] - 5s 25ms/step - loss: 0.7421 - categorical_accuracy: 0.6977 - val_loss: 0.8148 - val_categorical_accuracy: 0.6399\n",
            "Epoch 13/40\n",
            "217/217 [==============================] - 6s 26ms/step - loss: 0.7240 - categorical_accuracy: 0.7047 - val_loss: 0.8099 - val_categorical_accuracy: 0.6451\n",
            "Epoch 14/40\n",
            "217/217 [==============================] - 6s 25ms/step - loss: 0.7070 - categorical_accuracy: 0.7214 - val_loss: 0.7982 - val_categorical_accuracy: 0.6520\n",
            "Epoch 15/40\n",
            "217/217 [==============================] - 6s 25ms/step - loss: 0.6899 - categorical_accuracy: 0.7275 - val_loss: 0.7912 - val_categorical_accuracy: 0.6555\n",
            "Epoch 16/40\n",
            "217/217 [==============================] - 6s 26ms/step - loss: 0.6757 - categorical_accuracy: 0.7370 - val_loss: 0.7858 - val_categorical_accuracy: 0.6590\n",
            "Epoch 17/40\n",
            "217/217 [==============================] - 6s 26ms/step - loss: 0.6600 - categorical_accuracy: 0.7436 - val_loss: 0.7810 - val_categorical_accuracy: 0.6572\n",
            "Epoch 18/40\n",
            "217/217 [==============================] - 6s 26ms/step - loss: 0.6458 - categorical_accuracy: 0.7494 - val_loss: 0.7761 - val_categorical_accuracy: 0.6642\n",
            "Epoch 19/40\n",
            "217/217 [==============================] - 6s 26ms/step - loss: 0.6310 - categorical_accuracy: 0.7585 - val_loss: 0.7733 - val_categorical_accuracy: 0.6665\n",
            "Epoch 20/40\n",
            "217/217 [==============================] - 6s 26ms/step - loss: 0.6171 - categorical_accuracy: 0.7624 - val_loss: 0.7705 - val_categorical_accuracy: 0.6682\n",
            "Epoch 21/40\n",
            "217/217 [==============================] - 6s 26ms/step - loss: 0.6042 - categorical_accuracy: 0.7702 - val_loss: 0.7668 - val_categorical_accuracy: 0.6722\n",
            "Epoch 22/40\n",
            "217/217 [==============================] - 6s 26ms/step - loss: 0.5912 - categorical_accuracy: 0.7772 - val_loss: 0.7739 - val_categorical_accuracy: 0.6728\n",
            "Epoch 23/40\n",
            "217/217 [==============================] - 6s 26ms/step - loss: 0.5785 - categorical_accuracy: 0.7839 - val_loss: 0.7616 - val_categorical_accuracy: 0.6815\n",
            "Epoch 24/40\n",
            "217/217 [==============================] - 6s 26ms/step - loss: 0.5653 - categorical_accuracy: 0.7911 - val_loss: 0.7603 - val_categorical_accuracy: 0.6832\n",
            "Epoch 25/40\n",
            "217/217 [==============================] - 6s 26ms/step - loss: 0.5536 - categorical_accuracy: 0.7953 - val_loss: 0.7610 - val_categorical_accuracy: 0.6792\n",
            "Epoch 26/40\n",
            "217/217 [==============================] - 6s 26ms/step - loss: 0.5424 - categorical_accuracy: 0.8029 - val_loss: 0.7584 - val_categorical_accuracy: 0.6849\n",
            "Epoch 27/40\n",
            "217/217 [==============================] - 6s 25ms/step - loss: 0.5300 - categorical_accuracy: 0.8058 - val_loss: 0.7589 - val_categorical_accuracy: 0.6838\n",
            "Epoch 28/40\n",
            "217/217 [==============================] - 6s 26ms/step - loss: 0.5191 - categorical_accuracy: 0.8123 - val_loss: 0.7671 - val_categorical_accuracy: 0.6832\n",
            "Epoch 29/40\n",
            "217/217 [==============================] - 5s 25ms/step - loss: 0.5084 - categorical_accuracy: 0.8168 - val_loss: 0.7583 - val_categorical_accuracy: 0.6838\n",
            "Epoch 30/40\n",
            "217/217 [==============================] - 5s 25ms/step - loss: 0.4987 - categorical_accuracy: 0.8222 - val_loss: 0.7568 - val_categorical_accuracy: 0.6924\n",
            "Epoch 31/40\n",
            "217/217 [==============================] - 6s 25ms/step - loss: 0.4874 - categorical_accuracy: 0.8260 - val_loss: 0.7675 - val_categorical_accuracy: 0.6803\n",
            "Epoch 32/40\n",
            "217/217 [==============================] - 6s 26ms/step - loss: 0.4768 - categorical_accuracy: 0.8323 - val_loss: 0.7646 - val_categorical_accuracy: 0.6884\n",
            "Epoch 33/40\n",
            "217/217 [==============================] - 6s 26ms/step - loss: 0.4673 - categorical_accuracy: 0.8362 - val_loss: 0.7654 - val_categorical_accuracy: 0.6878\n",
            "Epoch 34/40\n",
            "217/217 [==============================] - 6s 26ms/step - loss: 0.4574 - categorical_accuracy: 0.8410 - val_loss: 0.7615 - val_categorical_accuracy: 0.6896\n",
            "Epoch 35/40\n",
            "217/217 [==============================] - 6s 26ms/step - loss: 0.4488 - categorical_accuracy: 0.8440 - val_loss: 0.7637 - val_categorical_accuracy: 0.6947\n",
            "Epoch 36/40\n",
            "217/217 [==============================] - 6s 25ms/step - loss: 0.4381 - categorical_accuracy: 0.8492 - val_loss: 0.7727 - val_categorical_accuracy: 0.6872\n",
            "Epoch 37/40\n",
            "217/217 [==============================] - 6s 25ms/step - loss: 0.4295 - categorical_accuracy: 0.8520 - val_loss: 0.7728 - val_categorical_accuracy: 0.6896\n",
            "Epoch 38/40\n",
            "217/217 [==============================] - 6s 26ms/step - loss: 0.4206 - categorical_accuracy: 0.8559 - val_loss: 0.7783 - val_categorical_accuracy: 0.6861\n",
            "Epoch 39/40\n",
            "217/217 [==============================] - 6s 26ms/step - loss: 0.4125 - categorical_accuracy: 0.8599 - val_loss: 0.7796 - val_categorical_accuracy: 0.6832\n",
            "Epoch 40/40\n",
            "217/217 [==============================] - 6s 26ms/step - loss: 0.4037 - categorical_accuracy: 0.8647 - val_loss: 0.7860 - val_categorical_accuracy: 0.6896\n"
          ]
        }
      ],
      "source": [
        "tensorboard_callback = tf.keras.callbacks.TensorBoard(log_dir=\"./logs/model2l/crawled/8500\")\n",
        "history = model_2l.fit(\n",
        "    x_train, y_train, epochs=N_EPOCHS, batch_size=N_BATCH, validation_data=(x_val, y_val),\n",
        "    callbacks=[tensorboard_callback]\n",
        ")"
      ]
    },
    {
      "cell_type": "markdown",
      "metadata": {
        "id": "tAWP97YOZldv"
      },
      "source": [
        "## Model (model_4l)\n",
        " \n",
        "*    4 BiLSTM layer\n",
        "*    untis: 128,64,32,20"
      ]
    },
    {
      "cell_type": "code",
      "execution_count": null,
      "metadata": {
        "id": "X1mv-E7GaHC9"
      },
      "outputs": [],
      "source": [
        "def build_model_4l(optimizer, loss, checkpoint_filepath, metrics, regression_mode=False):\n",
        "    model = Sequential()\n",
        "    model.add(layers.Embedding(\n",
        "        input_dim=N_vocab,\n",
        "        output_dim=N_EMB,\n",
        "        embeddings_initializer=initializers.Constant(embedding_matrix),\n",
        "        input_length=N_SEQ,\n",
        "        trainable=True))\n",
        "    # model.add(layers.Bidirectional(layers.LSTM(320, return_sequences=True)))\n",
        "    # model.add(layers.Bidirectional(layers.LSTM(288, return_sequences=True)))  #kernel_regularizer=regularizers.L1()\n",
        "    # model.add(layers.Bidirectional(layers.LSTM(256, return_sequences=True)))\n",
        "    # model.add(layers.Bidirectional(layers.LSTM(224, return_sequences=True)))  #, kernel_regularizer=regularizers.L1()\n",
        "    # model.add(layers.Bidirectional(layers.LSTM(192, return_sequences=True)))\n",
        "    # model.add(layers.Bidirectional(layers.LSTM(160, return_sequences=True)))  #, kernel_regularizer=regularizers.L1()\n",
        "    model.add(layers.Bidirectional(layers.LSTM(128, return_sequences=True)))\n",
        "    model.add(layers.Bidirectional(layers.LSTM(64, return_sequences=True)))\n",
        "    model.add(layers.Bidirectional(layers.LSTM(32, return_sequences=True)))\n",
        "    model.add(layers.Bidirectional(layers.LSTM(20)))\n",
        "    if not regression_mode:\n",
        "        model.add(layers.Dense(3, activation='softmax'))\n",
        "    else:\n",
        "        model.add(layers.Dense(1, activation='tanh'))\n",
        "\n",
        "    model.compile(\n",
        "        optimizer=optimizer,\n",
        "        loss=loss,\n",
        "        metrics=metrics\n",
        "    )\n",
        "\n",
        "    checkpoint = ModelCheckpoint(        \n",
        "        filepath=checkpoint_filepath, monitor='val_mean_absolute_error', verbose=1,\n",
        "        save_best_only=True, mode='auto', save_freq=\"epoch\", save_weights_only=True\n",
        "    )\n",
        "\n",
        "    early_stopping = tf.keras.callbacks.EarlyStopping(\n",
        "        monitor='val_mean_absolute_error', mode='min', verbose=1, patience=4\n",
        "    )\n",
        "\n",
        "    return model, checkpoint, early_stopping"
      ]
    },
    {
      "cell_type": "code",
      "execution_count": null,
      "metadata": {
        "colab": {
          "base_uri": "https://localhost:8080/"
        },
        "id": "t9hmQV-DCItl",
        "outputId": "fda33ce9-72e5-4198-aa7a-8318a336cb44"
      },
      "outputs": [
        {
          "name": "stdout",
          "output_type": "stream",
          "text": [
            "Model: \"sequential_6\"\n",
            "_________________________________________________________________\n",
            " Layer (type)                Output Shape              Param #   \n",
            "=================================================================\n",
            " embedding_6 (Embedding)     (None, 128, 200)          3136400   \n",
            "                                                                 \n",
            " bidirectional_24 (Bidirecti  (None, 128, 256)         336896    \n",
            " onal)                                                           \n",
            "                                                                 \n",
            " bidirectional_25 (Bidirecti  (None, 128, 128)         164352    \n",
            " onal)                                                           \n",
            "                                                                 \n",
            " bidirectional_26 (Bidirecti  (None, 128, 64)          41216     \n",
            " onal)                                                           \n",
            "                                                                 \n",
            " bidirectional_27 (Bidirecti  (None, 40)               13600     \n",
            " onal)                                                           \n",
            "                                                                 \n",
            " dense_6 (Dense)             (None, 3)                 123       \n",
            "                                                                 \n",
            "=================================================================\n",
            "Total params: 3,692,587\n",
            "Trainable params: 3,692,587\n",
            "Non-trainable params: 0\n",
            "_________________________________________________________________\n"
          ]
        }
      ],
      "source": [
        "model_4l, checkpoint, early_stopping = build_model_4l(\n",
        "    optimizer=optimizers.Adam(learning_rate=2e-5),\n",
        "    loss=losses.CategoricalCrossentropy(),  # losses.MeanAbsoluteError() - losses.CategoricalCrossentropy()\n",
        "    checkpoint_filepath=\"model.hdf5\",\n",
        "    metrics=[metrics.CategoricalAccuracy()],\n",
        "    regression_mode=False\n",
        ")\n",
        "model_4l.summary()"
      ]
    },
    {
      "cell_type": "code",
      "execution_count": null,
      "metadata": {
        "colab": {
          "base_uri": "https://localhost:8080/"
        },
        "id": "H81eVxALbQzr",
        "outputId": "ca902572-8121-4561-cee3-c24b2423de0e"
      },
      "outputs": [
        {
          "name": "stdout",
          "output_type": "stream",
          "text": [
            "Epoch 1/40\n",
            "217/217 [==============================] - 25s 63ms/step - loss: 1.0841 - categorical_accuracy: 0.4047 - val_loss: 1.0674 - val_categorical_accuracy: 0.4789\n",
            "Epoch 2/40\n",
            "217/217 [==============================] - 11s 51ms/step - loss: 1.0274 - categorical_accuracy: 0.5441 - val_loss: 0.9850 - val_categorical_accuracy: 0.5713\n",
            "Epoch 3/40\n",
            "217/217 [==============================] - 11s 53ms/step - loss: 0.9323 - categorical_accuracy: 0.6042 - val_loss: 0.9153 - val_categorical_accuracy: 0.6151\n",
            "Epoch 4/40\n",
            "217/217 [==============================] - 12s 53ms/step - loss: 0.8721 - categorical_accuracy: 0.6317 - val_loss: 0.8804 - val_categorical_accuracy: 0.6330\n",
            "Epoch 5/40\n",
            "217/217 [==============================] - 12s 53ms/step - loss: 0.8331 - categorical_accuracy: 0.6510 - val_loss: 0.8543 - val_categorical_accuracy: 0.6411\n",
            "Epoch 6/40\n",
            "217/217 [==============================] - 12s 53ms/step - loss: 0.7991 - categorical_accuracy: 0.6700 - val_loss: 0.8350 - val_categorical_accuracy: 0.6469\n",
            "Epoch 7/40\n",
            "217/217 [==============================] - 12s 55ms/step - loss: 0.7696 - categorical_accuracy: 0.6895 - val_loss: 0.8207 - val_categorical_accuracy: 0.6555\n",
            "Epoch 8/40\n",
            "217/217 [==============================] - 11s 53ms/step - loss: 0.7477 - categorical_accuracy: 0.6999 - val_loss: 0.8082 - val_categorical_accuracy: 0.6538\n",
            "Epoch 9/40\n",
            "217/217 [==============================] - 12s 53ms/step - loss: 0.7247 - categorical_accuracy: 0.7101 - val_loss: 0.7956 - val_categorical_accuracy: 0.6561\n",
            "Epoch 10/40\n",
            "217/217 [==============================] - 11s 53ms/step - loss: 0.7021 - categorical_accuracy: 0.7223 - val_loss: 0.7900 - val_categorical_accuracy: 0.6567\n",
            "Epoch 11/40\n",
            "217/217 [==============================] - 11s 52ms/step - loss: 0.6840 - categorical_accuracy: 0.7272 - val_loss: 0.7779 - val_categorical_accuracy: 0.6665\n",
            "Epoch 12/40\n",
            "217/217 [==============================] - 11s 53ms/step - loss: 0.6602 - categorical_accuracy: 0.7456 - val_loss: 0.7764 - val_categorical_accuracy: 0.6694\n",
            "Epoch 13/40\n",
            "217/217 [==============================] - 11s 52ms/step - loss: 0.6458 - categorical_accuracy: 0.7550 - val_loss: 0.7727 - val_categorical_accuracy: 0.6676\n",
            "Epoch 14/40\n",
            "217/217 [==============================] - 11s 52ms/step - loss: 0.6277 - categorical_accuracy: 0.7605 - val_loss: 0.7626 - val_categorical_accuracy: 0.6774\n",
            "Epoch 15/40\n",
            "217/217 [==============================] - 11s 53ms/step - loss: 0.6098 - categorical_accuracy: 0.7728 - val_loss: 0.7613 - val_categorical_accuracy: 0.6797\n",
            "Epoch 16/40\n",
            "217/217 [==============================] - 11s 52ms/step - loss: 0.5928 - categorical_accuracy: 0.7806 - val_loss: 0.7611 - val_categorical_accuracy: 0.6821\n",
            "Epoch 17/40\n",
            "217/217 [==============================] - 11s 52ms/step - loss: 0.5774 - categorical_accuracy: 0.7888 - val_loss: 0.7608 - val_categorical_accuracy: 0.6826\n",
            "Epoch 18/40\n",
            "217/217 [==============================] - 11s 51ms/step - loss: 0.5621 - categorical_accuracy: 0.7993 - val_loss: 0.7680 - val_categorical_accuracy: 0.6803\n",
            "Epoch 19/40\n",
            "217/217 [==============================] - 11s 52ms/step - loss: 0.5469 - categorical_accuracy: 0.8081 - val_loss: 0.7694 - val_categorical_accuracy: 0.6878\n",
            "Epoch 20/40\n",
            "217/217 [==============================] - 11s 52ms/step - loss: 0.5309 - categorical_accuracy: 0.8150 - val_loss: 0.7669 - val_categorical_accuracy: 0.6878\n",
            "Epoch 21/40\n",
            "217/217 [==============================] - 11s 51ms/step - loss: 0.5173 - categorical_accuracy: 0.8188 - val_loss: 0.7622 - val_categorical_accuracy: 0.6872\n",
            "Epoch 22/40\n",
            "217/217 [==============================] - 11s 52ms/step - loss: 0.5021 - categorical_accuracy: 0.8289 - val_loss: 0.7682 - val_categorical_accuracy: 0.6878\n",
            "Epoch 23/40\n",
            "217/217 [==============================] - 11s 51ms/step - loss: 0.4886 - categorical_accuracy: 0.8336 - val_loss: 0.7898 - val_categorical_accuracy: 0.6855\n",
            "Epoch 24/40\n",
            "217/217 [==============================] - 11s 52ms/step - loss: 0.4764 - categorical_accuracy: 0.8422 - val_loss: 0.7770 - val_categorical_accuracy: 0.6913\n",
            "Epoch 25/40\n",
            "217/217 [==============================] - 12s 53ms/step - loss: 0.4662 - categorical_accuracy: 0.8414 - val_loss: 0.7814 - val_categorical_accuracy: 0.6936\n",
            "Epoch 26/40\n",
            "217/217 [==============================] - 11s 52ms/step - loss: 0.4504 - categorical_accuracy: 0.8530 - val_loss: 0.7809 - val_categorical_accuracy: 0.6982\n",
            "Epoch 27/40\n",
            "217/217 [==============================] - 11s 50ms/step - loss: 0.4401 - categorical_accuracy: 0.8566 - val_loss: 0.7855 - val_categorical_accuracy: 0.7011\n",
            "Epoch 28/40\n",
            "217/217 [==============================] - 11s 53ms/step - loss: 0.4279 - categorical_accuracy: 0.8639 - val_loss: 0.7999 - val_categorical_accuracy: 0.6942\n",
            "Epoch 29/40\n",
            "217/217 [==============================] - 11s 51ms/step - loss: 0.4184 - categorical_accuracy: 0.8697 - val_loss: 0.7913 - val_categorical_accuracy: 0.6994\n",
            "Epoch 30/40\n",
            "217/217 [==============================] - 11s 52ms/step - loss: 0.4050 - categorical_accuracy: 0.8735 - val_loss: 0.8077 - val_categorical_accuracy: 0.6930\n",
            "Epoch 31/40\n",
            "217/217 [==============================] - 11s 52ms/step - loss: 0.3945 - categorical_accuracy: 0.8802 - val_loss: 0.8166 - val_categorical_accuracy: 0.6982\n",
            "Epoch 32/40\n",
            "217/217 [==============================] - 11s 52ms/step - loss: 0.3855 - categorical_accuracy: 0.8837 - val_loss: 0.8174 - val_categorical_accuracy: 0.6953\n",
            "Epoch 33/40\n",
            "217/217 [==============================] - 11s 52ms/step - loss: 0.3729 - categorical_accuracy: 0.8899 - val_loss: 0.8278 - val_categorical_accuracy: 0.6976\n",
            "Epoch 34/40\n",
            "217/217 [==============================] - 11s 52ms/step - loss: 0.3644 - categorical_accuracy: 0.8929 - val_loss: 0.8210 - val_categorical_accuracy: 0.7051\n",
            "Epoch 35/40\n",
            "217/217 [==============================] - 11s 51ms/step - loss: 0.3611 - categorical_accuracy: 0.8925 - val_loss: 0.8331 - val_categorical_accuracy: 0.6982\n",
            "Epoch 36/40\n",
            "217/217 [==============================] - 11s 51ms/step - loss: 0.3485 - categorical_accuracy: 0.8996 - val_loss: 0.8601 - val_categorical_accuracy: 0.6999\n",
            "Epoch 37/40\n",
            "217/217 [==============================] - 11s 51ms/step - loss: 0.3399 - categorical_accuracy: 0.9038 - val_loss: 0.8523 - val_categorical_accuracy: 0.7011\n",
            "Epoch 38/40\n",
            "217/217 [==============================] - 11s 52ms/step - loss: 0.3297 - categorical_accuracy: 0.9077 - val_loss: 0.8678 - val_categorical_accuracy: 0.7011\n",
            "Epoch 39/40\n",
            "217/217 [==============================] - 13s 58ms/step - loss: 0.3234 - categorical_accuracy: 0.9101 - val_loss: 0.8776 - val_categorical_accuracy: 0.6959\n",
            "Epoch 40/40\n",
            "217/217 [==============================] - 11s 52ms/step - loss: 0.3164 - categorical_accuracy: 0.9149 - val_loss: 0.8812 - val_categorical_accuracy: 0.6988\n"
          ]
        }
      ],
      "source": [
        "tensorboard_callback = tf.keras.callbacks.TensorBoard(log_dir=\"./logs/model4l/crawled/8500\")\n",
        "history = model_4l.fit(\n",
        "    x_train, y_train, epochs=N_EPOCHS, batch_size=N_BATCH, validation_data=(x_val, y_val),\n",
        "    callbacks=[tensorboard_callback]\n",
        ")"
      ]
    },
    {
      "cell_type": "markdown",
      "metadata": {
        "id": "LGcB4q3peSMT"
      },
      "source": [
        "## Complex Model (model_10l)"
      ]
    },
    {
      "cell_type": "code",
      "execution_count": null,
      "metadata": {
        "id": "bIC7qLNce00P"
      },
      "outputs": [],
      "source": [
        "def build_model_10l(optimizer, loss, checkpoint_filepath):\n",
        "    model = Sequential()\n",
        "    model.add(layers.Embedding(\n",
        "        input_dim=N_vocab,\n",
        "        output_dim=N_EMB,\n",
        "        embeddings_initializer=initializers.Constant(embedding_matrix),\n",
        "        input_length=N_SEQ,\n",
        "        trainable=True))\n",
        "    model.add(layers.Bidirectional(layers.LSTM(320, return_sequences=True)))\n",
        "    model.add(layers.Bidirectional(layers.LSTM(288, return_sequences=True)))  #kernel_regularizer=regularizers.L1()\n",
        "    model.add(layers.Bidirectional(layers.LSTM(256, return_sequences=True)))\n",
        "    model.add(layers.Bidirectional(layers.LSTM(224, return_sequences=True)))  #, kernel_regularizer=regularizers.L1()\n",
        "    model.add(layers.Bidirectional(layers.LSTM(192, return_sequences=True)))\n",
        "    model.add(layers.Bidirectional(layers.LSTM(160, return_sequences=True)))  #, kernel_regularizer=regularizers.L1()\n",
        "    model.add(layers.Bidirectional(layers.LSTM(128, return_sequences=True)))\n",
        "    model.add(layers.Bidirectional(layers.LSTM(64, return_sequences=True)))  #, kernel_regularizer=regularizers.L1()\n",
        "    model.add(layers.Bidirectional(layers.LSTM(32, return_sequences=True)))\n",
        "    model.add(layers.Bidirectional(layers.LSTM(20)))\n",
        "    model.add(layers.Dense(3,activation='softmax'))\n",
        "\n",
        "    model.compile(\n",
        "        optimizer=optimizer,\n",
        "        loss=loss,\n",
        "        metrics=[metrics.CategoricalAccuracy()]\n",
        "    )\n",
        "\n",
        "    checkpoint = ModelCheckpoint(        \n",
        "        filepath=checkpoint_filepath, monitor='val_mean_absolute_error', verbose=1,\n",
        "        save_best_only=True, mode='auto', save_freq=\"epoch\", save_weights_only=True\n",
        "    )\n",
        "\n",
        "    early_stopping = tf.keras.callbacks.EarlyStopping(\n",
        "        monitor='val_mean_absolute_error', mode='min', verbose=1, patience=4\n",
        "    )\n",
        "\n",
        "    return model, checkpoint, early_stopping\n"
      ]
    },
    {
      "cell_type": "code",
      "execution_count": null,
      "metadata": {
        "colab": {
          "base_uri": "https://localhost:8080/"
        },
        "id": "-lvMjgQmo9Hk",
        "outputId": "58d7df52-6a41-4d1b-f094-2601186af5d0"
      },
      "outputs": [
        {
          "name": "stdout",
          "output_type": "stream",
          "text": [
            "Epoch 1/40\n",
            "217/217 [==============================] - 71s 205ms/step - loss: 0.9851 - categorical_accuracy: 0.5201 - val_loss: 0.8860 - val_categorical_accuracy: 0.6168\n",
            "Epoch 2/40\n",
            "217/217 [==============================] - 37s 170ms/step - loss: 0.8453 - categorical_accuracy: 0.6409 - val_loss: 0.8677 - val_categorical_accuracy: 0.6168\n",
            "Epoch 3/40\n",
            "217/217 [==============================] - 39s 178ms/step - loss: 0.7972 - categorical_accuracy: 0.6674 - val_loss: 0.8274 - val_categorical_accuracy: 0.6365\n",
            "Epoch 4/40\n",
            "217/217 [==============================] - 37s 170ms/step - loss: 0.7592 - categorical_accuracy: 0.6889 - val_loss: 0.8015 - val_categorical_accuracy: 0.6636\n",
            "Epoch 5/40\n",
            "217/217 [==============================] - 39s 178ms/step - loss: 0.7239 - categorical_accuracy: 0.7057 - val_loss: 0.7785 - val_categorical_accuracy: 0.6619\n",
            "Epoch 6/40\n",
            "217/217 [==============================] - 39s 179ms/step - loss: 0.6958 - categorical_accuracy: 0.7253 - val_loss: 0.7704 - val_categorical_accuracy: 0.6728\n",
            "Epoch 7/40\n",
            "217/217 [==============================] - 39s 179ms/step - loss: 0.6785 - categorical_accuracy: 0.7289 - val_loss: 0.7519 - val_categorical_accuracy: 0.6763\n",
            "Epoch 8/40\n",
            "217/217 [==============================] - 39s 178ms/step - loss: 0.6605 - categorical_accuracy: 0.7381 - val_loss: 0.7477 - val_categorical_accuracy: 0.6792\n",
            "Epoch 9/40\n",
            "217/217 [==============================] - 37s 168ms/step - loss: 0.6354 - categorical_accuracy: 0.7544 - val_loss: 0.7576 - val_categorical_accuracy: 0.6797\n",
            "Epoch 10/40\n",
            "217/217 [==============================] - 36s 168ms/step - loss: 0.6250 - categorical_accuracy: 0.7579 - val_loss: 0.7593 - val_categorical_accuracy: 0.6809\n",
            "Epoch 11/40\n",
            "217/217 [==============================] - 36s 168ms/step - loss: 0.6022 - categorical_accuracy: 0.7686 - val_loss: 0.7501 - val_categorical_accuracy: 0.6924\n",
            "Epoch 12/40\n",
            "217/217 [==============================] - 38s 177ms/step - loss: 0.5811 - categorical_accuracy: 0.7820 - val_loss: 0.7780 - val_categorical_accuracy: 0.6786\n",
            "Epoch 13/40\n",
            "217/217 [==============================] - 37s 168ms/step - loss: 0.5634 - categorical_accuracy: 0.7941 - val_loss: 0.8002 - val_categorical_accuracy: 0.6711\n",
            "Epoch 14/40\n",
            "217/217 [==============================] - 36s 168ms/step - loss: 0.5537 - categorical_accuracy: 0.7977 - val_loss: 0.7698 - val_categorical_accuracy: 0.6901\n",
            "Epoch 15/40\n",
            "217/217 [==============================] - 36s 167ms/step - loss: 0.5293 - categorical_accuracy: 0.8119 - val_loss: 0.7606 - val_categorical_accuracy: 0.6959\n",
            "Epoch 16/40\n",
            "217/217 [==============================] - 36s 168ms/step - loss: 0.5198 - categorical_accuracy: 0.8139 - val_loss: 0.7507 - val_categorical_accuracy: 0.6994\n",
            "Epoch 17/40\n",
            "217/217 [==============================] - 36s 168ms/step - loss: 0.4979 - categorical_accuracy: 0.8272 - val_loss: 0.7802 - val_categorical_accuracy: 0.6999\n",
            "Epoch 18/40\n",
            "217/217 [==============================] - 38s 177ms/step - loss: 0.4750 - categorical_accuracy: 0.8370 - val_loss: 0.7819 - val_categorical_accuracy: 0.7011\n",
            "Epoch 19/40\n",
            "217/217 [==============================] - 37s 169ms/step - loss: 0.4630 - categorical_accuracy: 0.8461 - val_loss: 0.8092 - val_categorical_accuracy: 0.6942\n",
            "Epoch 20/40\n",
            "217/217 [==============================] - 38s 177ms/step - loss: 0.4567 - categorical_accuracy: 0.8468 - val_loss: 0.8437 - val_categorical_accuracy: 0.6676\n",
            "Epoch 21/40\n",
            "217/217 [==============================] - 37s 169ms/step - loss: 0.4345 - categorical_accuracy: 0.8589 - val_loss: 0.8470 - val_categorical_accuracy: 0.6855\n",
            "Epoch 22/40\n",
            "217/217 [==============================] - 38s 177ms/step - loss: 0.4189 - categorical_accuracy: 0.8663 - val_loss: 0.7938 - val_categorical_accuracy: 0.7103\n",
            "Epoch 23/40\n",
            "217/217 [==============================] - 37s 168ms/step - loss: 0.4034 - categorical_accuracy: 0.8752 - val_loss: 0.8274 - val_categorical_accuracy: 0.7028\n",
            "Epoch 24/40\n",
            "217/217 [==============================] - 38s 177ms/step - loss: 0.3942 - categorical_accuracy: 0.8777 - val_loss: 0.8304 - val_categorical_accuracy: 0.7023\n",
            "Epoch 25/40\n",
            "217/217 [==============================] - 37s 168ms/step - loss: 0.3878 - categorical_accuracy: 0.8797 - val_loss: 0.8435 - val_categorical_accuracy: 0.7028\n",
            "Epoch 26/40\n",
            "217/217 [==============================] - 38s 177ms/step - loss: 0.3700 - categorical_accuracy: 0.8869 - val_loss: 0.8670 - val_categorical_accuracy: 0.6947\n",
            "Epoch 27/40\n",
            "217/217 [==============================] - 39s 177ms/step - loss: 0.3728 - categorical_accuracy: 0.8841 - val_loss: 0.8715 - val_categorical_accuracy: 0.6855\n",
            "Epoch 28/40\n",
            "217/217 [==============================] - 37s 169ms/step - loss: 0.3499 - categorical_accuracy: 0.8976 - val_loss: 0.9275 - val_categorical_accuracy: 0.6867\n",
            "Epoch 29/40\n",
            "217/217 [==============================] - 38s 177ms/step - loss: 0.3340 - categorical_accuracy: 0.9043 - val_loss: 0.8881 - val_categorical_accuracy: 0.7046\n",
            "Epoch 30/40\n",
            "217/217 [==============================] - 38s 177ms/step - loss: 0.3325 - categorical_accuracy: 0.9058 - val_loss: 0.8833 - val_categorical_accuracy: 0.6930\n",
            "Epoch 31/40\n",
            "217/217 [==============================] - 37s 168ms/step - loss: 0.3305 - categorical_accuracy: 0.9062 - val_loss: 0.8917 - val_categorical_accuracy: 0.7005\n",
            "Epoch 32/40\n",
            "217/217 [==============================] - 38s 177ms/step - loss: 0.3100 - categorical_accuracy: 0.9136 - val_loss: 0.9064 - val_categorical_accuracy: 0.6965\n",
            "Epoch 33/40\n",
            "217/217 [==============================] - 39s 178ms/step - loss: 0.3092 - categorical_accuracy: 0.9130 - val_loss: 1.0040 - val_categorical_accuracy: 0.6844\n",
            "Epoch 34/40\n",
            "217/217 [==============================] - 37s 169ms/step - loss: 0.2928 - categorical_accuracy: 0.9212 - val_loss: 0.9338 - val_categorical_accuracy: 0.7005\n",
            "Epoch 35/40\n",
            "217/217 [==============================] - 37s 169ms/step - loss: 0.2944 - categorical_accuracy: 0.9186 - val_loss: 0.9542 - val_categorical_accuracy: 0.6907\n",
            "Epoch 36/40\n",
            "217/217 [==============================] - 39s 179ms/step - loss: 0.2933 - categorical_accuracy: 0.9198 - val_loss: 0.9775 - val_categorical_accuracy: 0.6838\n",
            "Epoch 37/40\n",
            "217/217 [==============================] - 46s 210ms/step - loss: 0.2934 - categorical_accuracy: 0.9196 - val_loss: 0.9540 - val_categorical_accuracy: 0.6896\n",
            "Epoch 38/40\n",
            "217/217 [==============================] - 37s 171ms/step - loss: 0.2699 - categorical_accuracy: 0.9306 - val_loss: 1.0103 - val_categorical_accuracy: 0.6832\n",
            "Epoch 39/40\n",
            "217/217 [==============================] - 39s 179ms/step - loss: 0.2694 - categorical_accuracy: 0.9281 - val_loss: 0.9688 - val_categorical_accuracy: 0.6942\n",
            "Epoch 40/40\n",
            "217/217 [==============================] - 39s 180ms/step - loss: 0.2588 - categorical_accuracy: 0.9318 - val_loss: 0.9912 - val_categorical_accuracy: 0.6953\n"
          ]
        }
      ],
      "source": [
        "model_10l, checkpoint, early_stopping = build_model_10l(\n",
        "    optimizer=optimizers.Adam(learning_rate=2e-5),\n",
        "    loss=losses.CategoricalCrossentropy(),\n",
        "    checkpoint_filepath=\"model2_balance_30K_noSpell_model.hdf5\"\n",
        ")\n",
        "\n",
        "tensorboard_callback = tf.keras.callbacks.TensorBoard(log_dir=\"./logs/model10l/crawled/8500\")\n",
        "history = model_10l.fit(\n",
        "    x_train, y_train, epochs=N_EPOCHS, batch_size=N_BATCH, validation_data=(x_val, y_val),\n",
        "    callbacks=[tensorboard_callback]\n",
        ")"
      ]
    },
    {
      "cell_type": "markdown",
      "metadata": {
        "id": "05ldn_YFvsLs"
      },
      "source": [
        "# BERT model"
      ]
    },
    {
      "cell_type": "markdown",
      "metadata": {
        "id": "Uv0AJ2jQ59iM"
      },
      "source": [
        "## Install TensorFlow and TensorFlow Model Garden"
      ]
    },
    {
      "cell_type": "code",
      "execution_count": null,
      "metadata": {
        "colab": {
          "base_uri": "https://localhost:8080/"
        },
        "id": "3OL3M_Qw6ROx",
        "outputId": "417b4bf5-522a-4203-a6c7-2329bd9fef93"
      },
      "outputs": [
        {
          "name": "stdout",
          "output_type": "stream",
          "text": [
            "2.8.2\n"
          ]
        }
      ],
      "source": [
        "print(tf.version.VERSION)"
      ]
    },
    {
      "cell_type": "code",
      "execution_count": null,
      "metadata": {
        "colab": {
          "base_uri": "https://localhost:8080/"
        },
        "id": "SSSn0x1A6Qd6",
        "outputId": "6955f3f2-a170-4b26-9598-305e5de17a66"
      },
      "outputs": [
        {
          "name": "stdout",
          "output_type": "stream",
          "text": [
            "fatal: destination path 'models' already exists and is not an empty directory.\n"
          ]
        }
      ],
      "source": [
        "!git clone --depth 1 -b v2.8.0 https://github.com/tensorflow/models.git"
      ]
    },
    {
      "cell_type": "code",
      "execution_count": null,
      "metadata": {
        "colab": {
          "base_uri": "https://localhost:8080/"
        },
        "id": "Tz3EODMY6gNG",
        "outputId": "1006f801-f88e-49aa-dcc4-e2de8096645f"
      },
      "outputs": [
        {
          "name": "stdout",
          "output_type": "stream",
          "text": [
            "\u001b[K     |████████████████████████████████| 9.0 MB 5.1 MB/s \n",
            "\u001b[K     |████████████████████████████████| 281 kB 70.0 MB/s \n",
            "\u001b[K     |████████████████████████████████| 99 kB 9.8 MB/s \n",
            "\u001b[K     |████████████████████████████████| 238 kB 64.4 MB/s \n",
            "\u001b[K     |████████████████████████████████| 1.1 MB 53.0 MB/s \n",
            "\u001b[K     |████████████████████████████████| 352 kB 70.0 MB/s \n",
            "\u001b[K     |████████████████████████████████| 11.2 MB 45.4 MB/s \n",
            "\u001b[K     |████████████████████████████████| 636 kB 68.1 MB/s \n",
            "\u001b[K     |████████████████████████████████| 3.1 MB 55.4 MB/s \n",
            "\u001b[K     |████████████████████████████████| 43 kB 2.3 MB/s \n",
            "\u001b[K     |████████████████████████████████| 1.3 MB 62.1 MB/s \n",
            "\u001b[K     |████████████████████████████████| 116 kB 71.6 MB/s \n",
            "\u001b[K     |████████████████████████████████| 957 kB 67.5 MB/s \n",
            "\u001b[?25h  Building wheel for py-cpuinfo (setup.py) ... \u001b[?25l\u001b[?25hdone\n",
            "  Building wheel for seqeval (setup.py) ... \u001b[?25l\u001b[?25hdone\n",
            "\u001b[31mERROR: pip's dependency resolver does not currently take into account all the packages that are installed. This behaviour is the source of the following dependency conflicts.\n",
            "ipython 7.9.0 requires jedi>=0.10, which is not installed.\n",
            "earthengine-api 0.1.321 requires google-api-python-client<2,>=1.12.1, but you have google-api-python-client 2.58.0 which is incompatible.\u001b[0m\n"
          ]
        }
      ],
      "source": [
        "# install requirements to use tensorflow/models repository\n",
        "!pip install -Uqr models/official/requirements.txt\n",
        "# you may have to restart the runtime afterwards, also ignore any ERRORS popping up at this step"
      ]
    },
    {
      "cell_type": "code",
      "execution_count": null,
      "metadata": {
        "colab": {
          "base_uri": "https://localhost:8080/",
          "height": 1000
        },
        "id": "8a-QQ8_w7Pa0",
        "outputId": "cf9185f0-1157-45cf-dfe5-b5c75e58f888"
      },
      "outputs": [
        {
          "name": "stdout",
          "output_type": "stream",
          "text": [
            "Looking in indexes: https://pypi.org/simple, https://us-python.pkg.dev/colab-wheels/public/simple/\n",
            "Collecting tensorflow-text\n",
            "  Downloading tensorflow_text-2.9.0-cp37-cp37m-manylinux_2_17_x86_64.manylinux2014_x86_64.whl (4.6 MB)\n",
            "\u001b[K     |████████████████████████████████| 4.6 MB 38.0 MB/s \n",
            "\u001b[?25hCollecting tensorflow<2.10,>=2.9.0\n",
            "  Downloading tensorflow-2.9.2-cp37-cp37m-manylinux_2_17_x86_64.manylinux2014_x86_64.whl (511.8 MB)\n",
            "\u001b[K     |████████████████████████████████| 511.8 MB 9.0 kB/s \n",
            "\u001b[?25hRequirement already satisfied: tensorflow-hub>=0.8.0 in /usr/local/lib/python3.7/dist-packages (from tensorflow-text) (0.12.0)\n",
            "Requirement already satisfied: libclang>=13.0.0 in /usr/local/lib/python3.7/dist-packages (from tensorflow<2.10,>=2.9.0->tensorflow-text) (14.0.6)\n",
            "Requirement already satisfied: typing-extensions>=3.6.6 in /usr/local/lib/python3.7/dist-packages (from tensorflow<2.10,>=2.9.0->tensorflow-text) (4.1.1)\n",
            "Collecting flatbuffers<2,>=1.12\n",
            "  Downloading flatbuffers-1.12-py2.py3-none-any.whl (15 kB)\n",
            "Collecting tensorflow-estimator<2.10.0,>=2.9.0rc0\n",
            "  Downloading tensorflow_estimator-2.9.0-py2.py3-none-any.whl (438 kB)\n",
            "\u001b[K     |████████████████████████████████| 438 kB 59.6 MB/s \n",
            "\u001b[?25hRequirement already satisfied: h5py>=2.9.0 in /usr/local/lib/python3.7/dist-packages (from tensorflow<2.10,>=2.9.0->tensorflow-text) (3.1.0)\n",
            "Requirement already satisfied: absl-py>=1.0.0 in /usr/local/lib/python3.7/dist-packages (from tensorflow<2.10,>=2.9.0->tensorflow-text) (1.2.0)\n",
            "Requirement already satisfied: numpy>=1.20 in /usr/local/lib/python3.7/dist-packages (from tensorflow<2.10,>=2.9.0->tensorflow-text) (1.21.6)\n",
            "Requirement already satisfied: packaging in /usr/local/lib/python3.7/dist-packages (from tensorflow<2.10,>=2.9.0->tensorflow-text) (21.3)\n",
            "Requirement already satisfied: setuptools in /usr/local/lib/python3.7/dist-packages (from tensorflow<2.10,>=2.9.0->tensorflow-text) (57.4.0)\n",
            "Requirement already satisfied: tensorflow-io-gcs-filesystem>=0.23.1 in /usr/local/lib/python3.7/dist-packages (from tensorflow<2.10,>=2.9.0->tensorflow-text) (0.26.0)\n",
            "Requirement already satisfied: astunparse>=1.6.0 in /usr/local/lib/python3.7/dist-packages (from tensorflow<2.10,>=2.9.0->tensorflow-text) (1.6.3)\n",
            "Collecting tensorboard<2.10,>=2.9\n",
            "  Downloading tensorboard-2.9.1-py3-none-any.whl (5.8 MB)\n",
            "\u001b[K     |████████████████████████████████| 5.8 MB 55.6 MB/s \n",
            "\u001b[?25hRequirement already satisfied: termcolor>=1.1.0 in /usr/local/lib/python3.7/dist-packages (from tensorflow<2.10,>=2.9.0->tensorflow-text) (1.1.0)\n",
            "Requirement already satisfied: six>=1.12.0 in /usr/local/lib/python3.7/dist-packages (from tensorflow<2.10,>=2.9.0->tensorflow-text) (1.15.0)\n",
            "Collecting keras<2.10.0,>=2.9.0rc0\n",
            "  Downloading keras-2.9.0-py2.py3-none-any.whl (1.6 MB)\n",
            "\u001b[K     |████████████████████████████████| 1.6 MB 52.4 MB/s \n",
            "\u001b[?25hRequirement already satisfied: google-pasta>=0.1.1 in /usr/local/lib/python3.7/dist-packages (from tensorflow<2.10,>=2.9.0->tensorflow-text) (0.2.0)\n",
            "Requirement already satisfied: wrapt>=1.11.0 in /usr/local/lib/python3.7/dist-packages (from tensorflow<2.10,>=2.9.0->tensorflow-text) (1.14.1)\n",
            "Requirement already satisfied: protobuf<3.20,>=3.9.2 in /usr/local/lib/python3.7/dist-packages (from tensorflow<2.10,>=2.9.0->tensorflow-text) (3.17.3)\n",
            "Requirement already satisfied: opt-einsum>=2.3.2 in /usr/local/lib/python3.7/dist-packages (from tensorflow<2.10,>=2.9.0->tensorflow-text) (3.3.0)\n",
            "Requirement already satisfied: keras-preprocessing>=1.1.1 in /usr/local/lib/python3.7/dist-packages (from tensorflow<2.10,>=2.9.0->tensorflow-text) (1.1.2)\n",
            "Collecting gast<=0.4.0,>=0.2.1\n",
            "  Downloading gast-0.4.0-py3-none-any.whl (9.8 kB)\n",
            "Requirement already satisfied: grpcio<2.0,>=1.24.3 in /usr/local/lib/python3.7/dist-packages (from tensorflow<2.10,>=2.9.0->tensorflow-text) (1.47.0)\n",
            "Requirement already satisfied: wheel<1.0,>=0.23.0 in /usr/local/lib/python3.7/dist-packages (from astunparse>=1.6.0->tensorflow<2.10,>=2.9.0->tensorflow-text) (0.37.1)\n",
            "Requirement already satisfied: cached-property in /usr/local/lib/python3.7/dist-packages (from h5py>=2.9.0->tensorflow<2.10,>=2.9.0->tensorflow-text) (1.5.2)\n",
            "Requirement already satisfied: werkzeug>=1.0.1 in /usr/local/lib/python3.7/dist-packages (from tensorboard<2.10,>=2.9->tensorflow<2.10,>=2.9.0->tensorflow-text) (1.0.1)\n",
            "Requirement already satisfied: google-auth-oauthlib<0.5,>=0.4.1 in /usr/local/lib/python3.7/dist-packages (from tensorboard<2.10,>=2.9->tensorflow<2.10,>=2.9.0->tensorflow-text) (0.4.6)\n",
            "Requirement already satisfied: tensorboard-plugin-wit>=1.6.0 in /usr/local/lib/python3.7/dist-packages (from tensorboard<2.10,>=2.9->tensorflow<2.10,>=2.9.0->tensorflow-text) (1.8.1)\n",
            "Requirement already satisfied: google-auth<3,>=1.6.3 in /usr/local/lib/python3.7/dist-packages (from tensorboard<2.10,>=2.9->tensorflow<2.10,>=2.9.0->tensorflow-text) (1.35.0)\n",
            "Requirement already satisfied: markdown>=2.6.8 in /usr/local/lib/python3.7/dist-packages (from tensorboard<2.10,>=2.9->tensorflow<2.10,>=2.9.0->tensorflow-text) (3.4.1)\n",
            "Requirement already satisfied: tensorboard-data-server<0.7.0,>=0.6.0 in /usr/local/lib/python3.7/dist-packages (from tensorboard<2.10,>=2.9->tensorflow<2.10,>=2.9.0->tensorflow-text) (0.6.1)\n",
            "Requirement already satisfied: requests<3,>=2.21.0 in /usr/local/lib/python3.7/dist-packages (from tensorboard<2.10,>=2.9->tensorflow<2.10,>=2.9.0->tensorflow-text) (2.23.0)\n",
            "Requirement already satisfied: pyasn1-modules>=0.2.1 in /usr/local/lib/python3.7/dist-packages (from google-auth<3,>=1.6.3->tensorboard<2.10,>=2.9->tensorflow<2.10,>=2.9.0->tensorflow-text) (0.2.8)\n",
            "Requirement already satisfied: cachetools<5.0,>=2.0.0 in /usr/local/lib/python3.7/dist-packages (from google-auth<3,>=1.6.3->tensorboard<2.10,>=2.9->tensorflow<2.10,>=2.9.0->tensorflow-text) (4.2.4)\n",
            "Requirement already satisfied: rsa<5,>=3.1.4 in /usr/local/lib/python3.7/dist-packages (from google-auth<3,>=1.6.3->tensorboard<2.10,>=2.9->tensorflow<2.10,>=2.9.0->tensorflow-text) (4.9)\n",
            "Requirement already satisfied: requests-oauthlib>=0.7.0 in /usr/local/lib/python3.7/dist-packages (from google-auth-oauthlib<0.5,>=0.4.1->tensorboard<2.10,>=2.9->tensorflow<2.10,>=2.9.0->tensorflow-text) (1.3.1)\n",
            "Requirement already satisfied: importlib-metadata>=4.4 in /usr/local/lib/python3.7/dist-packages (from markdown>=2.6.8->tensorboard<2.10,>=2.9->tensorflow<2.10,>=2.9.0->tensorflow-text) (4.12.0)\n",
            "Requirement already satisfied: zipp>=0.5 in /usr/local/lib/python3.7/dist-packages (from importlib-metadata>=4.4->markdown>=2.6.8->tensorboard<2.10,>=2.9->tensorflow<2.10,>=2.9.0->tensorflow-text) (3.8.1)\n",
            "Requirement already satisfied: pyasn1<0.5.0,>=0.4.6 in /usr/local/lib/python3.7/dist-packages (from pyasn1-modules>=0.2.1->google-auth<3,>=1.6.3->tensorboard<2.10,>=2.9->tensorflow<2.10,>=2.9.0->tensorflow-text) (0.4.8)\n",
            "Requirement already satisfied: chardet<4,>=3.0.2 in /usr/local/lib/python3.7/dist-packages (from requests<3,>=2.21.0->tensorboard<2.10,>=2.9->tensorflow<2.10,>=2.9.0->tensorflow-text) (3.0.4)\n",
            "Requirement already satisfied: idna<3,>=2.5 in /usr/local/lib/python3.7/dist-packages (from requests<3,>=2.21.0->tensorboard<2.10,>=2.9->tensorflow<2.10,>=2.9.0->tensorflow-text) (2.10)\n",
            "Requirement already satisfied: urllib3!=1.25.0,!=1.25.1,<1.26,>=1.21.1 in /usr/local/lib/python3.7/dist-packages (from requests<3,>=2.21.0->tensorboard<2.10,>=2.9->tensorflow<2.10,>=2.9.0->tensorflow-text) (1.24.3)\n",
            "Requirement already satisfied: certifi>=2017.4.17 in /usr/local/lib/python3.7/dist-packages (from requests<3,>=2.21.0->tensorboard<2.10,>=2.9->tensorflow<2.10,>=2.9.0->tensorflow-text) (2022.6.15)\n",
            "Requirement already satisfied: oauthlib>=3.0.0 in /usr/local/lib/python3.7/dist-packages (from requests-oauthlib>=0.7.0->google-auth-oauthlib<0.5,>=0.4.1->tensorboard<2.10,>=2.9->tensorflow<2.10,>=2.9.0->tensorflow-text) (3.2.0)\n",
            "Requirement already satisfied: pyparsing!=3.0.5,>=2.0.2 in /usr/local/lib/python3.7/dist-packages (from packaging->tensorflow<2.10,>=2.9.0->tensorflow-text) (3.0.9)\n",
            "Installing collected packages: tensorflow-estimator, tensorboard, keras, gast, flatbuffers, tensorflow, tensorflow-text\n",
            "  Attempting uninstall: tensorflow-estimator\n",
            "    Found existing installation: tensorflow-estimator 2.8.0\n",
            "    Uninstalling tensorflow-estimator-2.8.0:\n",
            "      Successfully uninstalled tensorflow-estimator-2.8.0\n",
            "  Attempting uninstall: tensorboard\n",
            "    Found existing installation: tensorboard 2.8.0\n",
            "    Uninstalling tensorboard-2.8.0:\n",
            "      Successfully uninstalled tensorboard-2.8.0\n",
            "  Attempting uninstall: keras\n",
            "    Found existing installation: keras 2.8.0\n",
            "    Uninstalling keras-2.8.0:\n",
            "      Successfully uninstalled keras-2.8.0\n",
            "  Attempting uninstall: gast\n",
            "    Found existing installation: gast 0.5.3\n",
            "    Uninstalling gast-0.5.3:\n",
            "      Successfully uninstalled gast-0.5.3\n",
            "  Attempting uninstall: flatbuffers\n",
            "    Found existing installation: flatbuffers 2.0.7\n",
            "    Uninstalling flatbuffers-2.0.7:\n",
            "      Successfully uninstalled flatbuffers-2.0.7\n",
            "  Attempting uninstall: tensorflow\n",
            "    Found existing installation: tensorflow 2.8.2+zzzcolab20220719082949\n",
            "    Uninstalling tensorflow-2.8.2+zzzcolab20220719082949:\n",
            "      Successfully uninstalled tensorflow-2.8.2+zzzcolab20220719082949\n",
            "Successfully installed flatbuffers-1.12 gast-0.4.0 keras-2.9.0 tensorboard-2.9.1 tensorflow-2.9.2 tensorflow-estimator-2.9.0 tensorflow-text-2.9.0\n"
          ]
        },
        {
          "data": {
            "application/vnd.colab-display-data+json": {
              "pip_warning": {
                "packages": [
                  "flatbuffers",
                  "gast",
                  "keras",
                  "tensorboard",
                  "tensorflow"
                ]
              }
            }
          },
          "metadata": {},
          "output_type": "display_data"
        }
      ],
      "source": [
        "!pip install tensorflow-text"
      ]
    },
    {
      "cell_type": "markdown",
      "metadata": {
        "id": "KGAWFlO07b-H"
      },
      "source": [
        "**Restart the Runtime**"
      ]
    },
    {
      "cell_type": "markdown",
      "metadata": {
        "id": "1zUwgvQno1Uv"
      },
      "source": [
        "## imports"
      ]
    },
    {
      "cell_type": "code",
      "execution_count": null,
      "metadata": {
        "id": "vo6ppHGH19EQ"
      },
      "outputs": [],
      "source": [
        "import numpy as np\n",
        "import tensorflow as tf\n",
        "import tensorflow_hub as hub\n",
        "import sys\n",
        "sys.path.append('models')\n",
        "from official.nlp.data import classifier_data_lib\n",
        "from official.nlp.bert import tokenization\n",
        "from official.nlp import optimization\n",
        "import tensorflow_text as text"
      ]
    },
    {
      "cell_type": "code",
      "execution_count": null,
      "metadata": {
        "colab": {
          "base_uri": "https://localhost:8080/"
        },
        "id": "AOweQ-yi81ND",
        "outputId": "b8563b3f-a1f3-4c8a-b100-c9af9437ae95"
      },
      "outputs": [
        {
          "name": "stdout",
          "output_type": "stream",
          "text": [
            "TF Version:  2.9.2\n",
            "Eager mode:  True\n",
            "Hub version:  0.12.0\n",
            "GPU is available\n"
          ]
        }
      ],
      "source": [
        "print(\"TF Version: \", tf.__version__)\n",
        "print(\"Eager mode: \", tf.executing_eagerly())\n",
        "print(\"Hub version: \", hub.__version__)\n",
        "print(\"GPU is\", \"available\" if tf.config.experimental.list_physical_devices(\"GPU\") else \"NOT AVAILABLE\")"
      ]
    },
    {
      "cell_type": "markdown",
      "metadata": {
        "id": "0zvj0ls9pAA3"
      },
      "source": [
        "## config"
      ]
    },
    {
      "cell_type": "code",
      "execution_count": null,
      "metadata": {
        "id": "1F8l440a46ZS"
      },
      "outputs": [],
      "source": [
        "# Fraction of samples to be used for training set\n",
        "N_TRAIN = 0.8\n",
        "\n",
        "N_EPOCHS = 20"
      ]
    },
    {
      "cell_type": "markdown",
      "metadata": {
        "id": "-D5Cqel5Trob"
      },
      "source": [
        "## split and taming the data\n",
        "data split to train and validation and data should be tf.data.Datasets to use in bert model"
      ]
    },
    {
      "cell_type": "code",
      "execution_count": null,
      "metadata": {
        "colab": {
          "base_uri": "https://localhost:8080/"
        },
        "id": "cKrFqBHe8x0r",
        "outputId": "3137abde-8d12-4533-8a7c-767dce752d1c"
      },
      "outputs": [
        {
          "name": "stdout",
          "output_type": "stream",
          "text": [
            "tf.Tensor(b\"$VGX $BQX Quite impressed with today's performance despite $BTC correction.\\n\\nSTRENGTH.\\n\\nRemember to always HOLD a moonbag. In @Ehrls15 we TRUST.\", shape=(), dtype=string)\n",
            "tf.Tensor([0. 0. 1.], shape=(3,), dtype=float64)\n"
          ]
        }
      ],
      "source": [
        "from sklearn.model_selection import train_test_split\n",
        "\n",
        "\n",
        "def create_dataset(data_df, labels_type='default', from_compound=False):\n",
        "    \"\"\"\n",
        "    labels_type: 'default' or 'regression' or 'one-hot'\n",
        "    \"\"\"\n",
        "    if labels_type == 'one-hot':\n",
        "        data_df = convert_labels_to_one_hot(data_df, from_compound)\n",
        "    elif labels_type == 'regression':\n",
        "        data_df = create_regression_label(data_df)\n",
        "    \n",
        "    train_df, val_df = train_test_split(data_df, train_size=N_TRAIN, shuffle=True, random_state=42)\n",
        "    \n",
        "    if labels_type == 'one-hot':\n",
        "        train_data = tf.data.Dataset.from_tensor_slices((train_df['decoded_tweet'].values, train_df[['neg', 'neu', 'pos']].values))\n",
        "        val_data = tf.data.Dataset.from_tensor_slices((val_df['decoded_tweet'].values, val_df[['neg', 'neu', 'pos']].values))\n",
        "    elif labels_type == 'regression':\n",
        "        train_data = tf.data.Dataset.from_tensor_slices((train_df['decoded_tweet'].values, train_df[['regression_label']].values))\n",
        "        val_data = tf.data.Dataset.from_tensor_slices((val_df['decoded_tweet'].values, val_df[['regression_label']].values))\n",
        "\n",
        "    return train_data, val_data\n",
        "\n",
        "\n",
        "train_data, val_data = create_dataset(data, labels_type='one-hot', from_compound=True)\n",
        "\n",
        "\n",
        "# lets look at 1 sample from train set\n",
        "for text,label in train_data.take(1):\n",
        "    print(text)\n",
        "    print(label)"
      ]
    },
    {
      "cell_type": "markdown",
      "metadata": {
        "id": "L2HHQWZP1E_o"
      },
      "source": [
        "## Download pre-trained BERT model from tensorflow hub"
      ]
    },
    {
      "cell_type": "code",
      "execution_count": null,
      "metadata": {
        "id": "FcDM9Xz706Ht"
      },
      "outputs": [],
      "source": [
        "# Get BERT layer and tokenizer\n",
        "bert_layer = 'https://tfhub.dev/tensorflow/bert_en_uncased_L-12_H-768_A-12/4'\n",
        "tokenizer = 'https://tfhub.dev/tensorflow/bert_en_uncased_preprocess/3'"
      ]
    },
    {
      "cell_type": "code",
      "execution_count": null,
      "metadata": {
        "id": "tMSw2ZIW2XAT"
      },
      "outputs": [],
      "source": [
        "with tf.device('/cpu:0'):\n",
        "    # train\n",
        "    train_data = train_data.shuffle(1000).batch(32, drop_remainder = True).prefetch(tf.data.experimental.AUTOTUNE)\n",
        "\n",
        "    # valid\n",
        "    val_data = val_data.batch(32, drop_remainder = True).prefetch(tf.data.experimental.AUTOTUNE)"
      ]
    },
    {
      "cell_type": "code",
      "execution_count": null,
      "metadata": {
        "colab": {
          "base_uri": "https://localhost:8080/"
        },
        "id": "j5KzRHQw3MNl",
        "outputId": "c9ef8252-6de0-403e-abc2-f8774d8259d3"
      },
      "outputs": [
        {
          "data": {
            "text/plain": [
              "(TensorSpec(shape=(32,), dtype=tf.string, name=None),\n",
              " TensorSpec(shape=(32, 3), dtype=tf.float64, name=None))"
            ]
          },
          "execution_count": 28,
          "metadata": {},
          "output_type": "execute_result"
        }
      ],
      "source": [
        "train_data.element_spec"
      ]
    },
    {
      "cell_type": "code",
      "execution_count": null,
      "metadata": {
        "colab": {
          "base_uri": "https://localhost:8080/"
        },
        "id": "NUYxR4jV3OYi",
        "outputId": "c1423a9c-3e3c-4371-f58e-0d985a91a0b6"
      },
      "outputs": [
        {
          "data": {
            "text/plain": [
              "(TensorSpec(shape=(32,), dtype=tf.string, name=None),\n",
              " TensorSpec(shape=(32, 3), dtype=tf.float64, name=None))"
            ]
          },
          "execution_count": 29,
          "metadata": {},
          "output_type": "execute_result"
        }
      ],
      "source": [
        "# valid data spec\n",
        "val_data.element_spec"
      ]
    },
    {
      "cell_type": "code",
      "execution_count": null,
      "metadata": {
        "id": "Ivkh6XwN3O6S"
      },
      "outputs": [],
      "source": [
        "# Building the model\n",
        "def create_model(regression_mode=False):\n",
        "    text_input = tf.keras.layers.Input(shape=(), dtype=tf.string, name='inputs')\n",
        "\n",
        "    # preprocessing\n",
        "    preprocessor = hub.KerasLayer(tokenizer)\n",
        "    encoder_inputs = preprocessor(text_input)\n",
        "\n",
        "    # passing the encoded inputs to bert model\n",
        "    encoder = hub.KerasLayer(bert_layer, trainable=True, name='BERT_Encoder')\n",
        "    outputs = encoder(encoder_inputs)\n",
        "\n",
        "    # get the pooled outputs\n",
        "    pooled_output = outputs['pooled_output']\n",
        "\n",
        "    # add output layer\n",
        "    # batch_norm = tf.keras.layers.BatchNormalization()(pooled_output)\n",
        "    # drop = tf.keras.layers.Dropout(0.4)(batch_norm)\n",
        "    # fc = tf.keras.layers.Dense(128, activation='tanh')(drop)\n",
        "    if not regression_mode:\n",
        "        final_output = tf.keras.layers.Dense(3, activation='softmax', name='classifier')(pooled_output)\n",
        "    else:\n",
        "        final_output = tf.keras.layers.Dense(1, activation='tanh', name='regression')(pooled_output)\n",
        "\n",
        "    return tf.keras.Model(text_input, final_output)"
      ]
    },
    {
      "cell_type": "code",
      "execution_count": null,
      "metadata": {
        "id": "kJEN3B0T99Oi"
      },
      "outputs": [],
      "source": [
        "model = create_model(regression_mode=False)\n",
        "model.compile(\n",
        "    optimizer=tf.keras.optimizers.Adam(learning_rate=2e-5), \n",
        "    loss=tf.keras.losses.CategoricalCrossentropy(),\n",
        "    metrics = [tf.keras.metrics.CategoricalAccuracy()]\n",
        ")"
      ]
    },
    {
      "cell_type": "code",
      "execution_count": null,
      "metadata": {
        "colab": {
          "base_uri": "https://localhost:8080/"
        },
        "id": "mOff2Ets-m87",
        "outputId": "c9e8c36a-d442-43f2-e184-2e32bdab0d5c"
      },
      "outputs": [
        {
          "name": "stdout",
          "output_type": "stream",
          "text": [
            "Model: \"model_1\"\n",
            "__________________________________________________________________________________________________\n",
            " Layer (type)                   Output Shape         Param #     Connected to                     \n",
            "==================================================================================================\n",
            " inputs (InputLayer)            [(None,)]            0           []                               \n",
            "                                                                                                  \n",
            " keras_layer_1 (KerasLayer)     {'input_word_ids':   0           ['inputs[0][0]']                 \n",
            "                                (None, 128),                                                      \n",
            "                                 'input_mask': (Non                                               \n",
            "                                e, 128),                                                          \n",
            "                                 'input_type_ids':                                                \n",
            "                                (None, 128)}                                                      \n",
            "                                                                                                  \n",
            " BERT_Encoder (KerasLayer)      {'pooled_output': (  109482241   ['keras_layer_1[0][0]',          \n",
            "                                None, 768),                       'keras_layer_1[0][1]',          \n",
            "                                 'default': (None,                'keras_layer_1[0][2]']          \n",
            "                                768),                                                             \n",
            "                                 'encoder_outputs':                                               \n",
            "                                 [(None, 128, 768),                                               \n",
            "                                 (None, 128, 768),                                                \n",
            "                                 (None, 128, 768),                                                \n",
            "                                 (None, 128, 768),                                                \n",
            "                                 (None, 128, 768),                                                \n",
            "                                 (None, 128, 768),                                                \n",
            "                                 (None, 128, 768),                                                \n",
            "                                 (None, 128, 768),                                                \n",
            "                                 (None, 128, 768),                                                \n",
            "                                 (None, 128, 768),                                                \n",
            "                                 (None, 128, 768),                                                \n",
            "                                 (None, 128, 768)],                                               \n",
            "                                 'sequence_output':                                               \n",
            "                                 (None, 128, 768)}                                                \n",
            "                                                                                                  \n",
            " classifier (Dense)             (None, 3)            2307        ['BERT_Encoder[0][13]']          \n",
            "                                                                                                  \n",
            "==================================================================================================\n",
            "Total params: 109,484,548\n",
            "Trainable params: 109,484,547\n",
            "Non-trainable params: 1\n",
            "__________________________________________________________________________________________________\n"
          ]
        }
      ],
      "source": [
        "model.summary()"
      ]
    },
    {
      "cell_type": "code",
      "execution_count": null,
      "metadata": {
        "colab": {
          "base_uri": "https://localhost:8080/"
        },
        "id": "vubA8MoH-vbk",
        "outputId": "aba6367e-f0ac-480b-f660-cef8bfdbce86"
      },
      "outputs": [
        {
          "name": "stdout",
          "output_type": "stream",
          "text": [
            "Epoch 1/20\n",
            "216/216 [==============================] - 218s 936ms/step - loss: 0.8097 - categorical_accuracy: 0.6317 - val_loss: 0.6261 - val_categorical_accuracy: 0.7581\n",
            "Epoch 2/20\n",
            "216/216 [==============================] - 203s 939ms/step - loss: 0.4687 - categorical_accuracy: 0.8111 - val_loss: 0.5390 - val_categorical_accuracy: 0.7760\n",
            "Epoch 3/20\n",
            "216/216 [==============================] - 202s 937ms/step - loss: 0.2880 - categorical_accuracy: 0.8861 - val_loss: 0.5777 - val_categorical_accuracy: 0.7963\n",
            "Epoch 4/20\n",
            "216/216 [==============================] - 202s 937ms/step - loss: 0.1762 - categorical_accuracy: 0.9363 - val_loss: 0.6462 - val_categorical_accuracy: 0.7986\n",
            "Epoch 5/20\n",
            "216/216 [==============================] - 203s 938ms/step - loss: 0.1038 - categorical_accuracy: 0.9672 - val_loss: 0.7946 - val_categorical_accuracy: 0.7818\n",
            "Epoch 6/20\n",
            "216/216 [==============================] - 202s 938ms/step - loss: 0.0695 - categorical_accuracy: 0.9771 - val_loss: 0.8491 - val_categorical_accuracy: 0.7986\n",
            "Epoch 7/20\n",
            "216/216 [==============================] - 202s 936ms/step - loss: 0.0546 - categorical_accuracy: 0.9832 - val_loss: 0.9071 - val_categorical_accuracy: 0.7917\n",
            "Epoch 8/20\n",
            "216/216 [==============================] - 202s 937ms/step - loss: 0.0433 - categorical_accuracy: 0.9855 - val_loss: 0.9454 - val_categorical_accuracy: 0.7882\n",
            "Epoch 9/20\n",
            "216/216 [==============================] - 202s 935ms/step - loss: 0.0321 - categorical_accuracy: 0.9890 - val_loss: 1.0619 - val_categorical_accuracy: 0.7830\n",
            "Epoch 10/20\n",
            "216/216 [==============================] - 202s 936ms/step - loss: 0.0352 - categorical_accuracy: 0.9876 - val_loss: 1.0037 - val_categorical_accuracy: 0.7841\n",
            "Epoch 11/20\n",
            "216/216 [==============================] - 202s 935ms/step - loss: 0.0257 - categorical_accuracy: 0.9920 - val_loss: 1.0691 - val_categorical_accuracy: 0.7859\n",
            "Epoch 12/20\n",
            "216/216 [==============================] - 202s 934ms/step - loss: 0.0267 - categorical_accuracy: 0.9902 - val_loss: 1.0543 - val_categorical_accuracy: 0.7865\n",
            "Epoch 13/20\n",
            "216/216 [==============================] - 202s 935ms/step - loss: 0.0212 - categorical_accuracy: 0.9932 - val_loss: 1.0782 - val_categorical_accuracy: 0.7853\n",
            "Epoch 14/20\n",
            "216/216 [==============================] - 202s 935ms/step - loss: 0.0277 - categorical_accuracy: 0.9912 - val_loss: 1.0645 - val_categorical_accuracy: 0.8027\n",
            "Epoch 15/20\n",
            "216/216 [==============================] - 202s 935ms/step - loss: 0.0201 - categorical_accuracy: 0.9944 - val_loss: 1.0966 - val_categorical_accuracy: 0.7998\n",
            "Epoch 16/20\n",
            "124/216 [================>.............] - ETA: 1:18 - loss: 0.0122 - categorical_accuracy: 0.9970"
          ]
        }
      ],
      "source": [
        "tensorboard_callback = tf.keras.callbacks.TensorBoard(log_dir=\"./logs/bert/base/one-hot/crawled/8500\")\n",
        "\n",
        "history = model.fit(\n",
        "    train_data, validation_data=val_data, epochs=N_EPOCHS,\n",
        "    callbacks=[tensorboard_callback]\n",
        ")"
      ]
    },
    {
      "cell_type": "markdown",
      "metadata": {
        "id": "fw6QYkyuXldm"
      },
      "source": [
        "# FinBert model\n",
        "fine-tune finbert model that is bert base and pretrained on financial data"
      ]
    },
    {
      "cell_type": "code",
      "execution_count": null,
      "metadata": {
        "colab": {
          "base_uri": "https://localhost:8080/"
        },
        "id": "8BhUESI4RnZL",
        "outputId": "1d4d7ecd-3032-41b8-b985-8f661dcf607f"
      },
      "outputs": [
        {
          "name": "stdout",
          "output_type": "stream",
          "text": [
            "Looking in indexes: https://pypi.org/simple, https://us-python.pkg.dev/colab-wheels/public/simple/\n",
            "Collecting transformers\n",
            "  Downloading transformers-4.21.3-py3-none-any.whl (4.7 MB)\n",
            "\u001b[K     |████████████████████████████████| 4.7 MB 5.9 MB/s \n",
            "\u001b[?25hRequirement already satisfied: tqdm>=4.27 in /usr/local/lib/python3.7/dist-packages (from transformers) (4.64.0)\n",
            "Requirement already satisfied: numpy>=1.17 in /usr/local/lib/python3.7/dist-packages (from transformers) (1.21.6)\n",
            "Requirement already satisfied: packaging>=20.0 in /usr/local/lib/python3.7/dist-packages (from transformers) (21.3)\n",
            "Collecting huggingface-hub<1.0,>=0.1.0\n",
            "  Downloading huggingface_hub-0.9.1-py3-none-any.whl (120 kB)\n",
            "\u001b[K     |████████████████████████████████| 120 kB 39.1 MB/s \n",
            "\u001b[?25hCollecting tokenizers!=0.11.3,<0.13,>=0.11.1\n",
            "  Downloading tokenizers-0.12.1-cp37-cp37m-manylinux_2_12_x86_64.manylinux2010_x86_64.whl (6.6 MB)\n",
            "\u001b[K     |████████████████████████████████| 6.6 MB 57.6 MB/s \n",
            "\u001b[?25hRequirement already satisfied: filelock in /usr/local/lib/python3.7/dist-packages (from transformers) (3.8.0)\n",
            "Requirement already satisfied: pyyaml>=5.1 in /usr/local/lib/python3.7/dist-packages (from transformers) (6.0)\n",
            "Requirement already satisfied: requests in /usr/local/lib/python3.7/dist-packages (from transformers) (2.23.0)\n",
            "Requirement already satisfied: importlib-metadata in /usr/local/lib/python3.7/dist-packages (from transformers) (4.12.0)\n",
            "Requirement already satisfied: regex!=2019.12.17 in /usr/local/lib/python3.7/dist-packages (from transformers) (2022.6.2)\n",
            "Requirement already satisfied: typing-extensions>=3.7.4.3 in /usr/local/lib/python3.7/dist-packages (from huggingface-hub<1.0,>=0.1.0->transformers) (4.1.1)\n",
            "Requirement already satisfied: pyparsing!=3.0.5,>=2.0.2 in /usr/local/lib/python3.7/dist-packages (from packaging>=20.0->transformers) (3.0.9)\n",
            "Requirement already satisfied: zipp>=0.5 in /usr/local/lib/python3.7/dist-packages (from importlib-metadata->transformers) (3.8.1)\n",
            "Requirement already satisfied: certifi>=2017.4.17 in /usr/local/lib/python3.7/dist-packages (from requests->transformers) (2022.6.15)\n",
            "Requirement already satisfied: urllib3!=1.25.0,!=1.25.1,<1.26,>=1.21.1 in /usr/local/lib/python3.7/dist-packages (from requests->transformers) (1.24.3)\n",
            "Requirement already satisfied: idna<3,>=2.5 in /usr/local/lib/python3.7/dist-packages (from requests->transformers) (2.10)\n",
            "Requirement already satisfied: chardet<4,>=3.0.2 in /usr/local/lib/python3.7/dist-packages (from requests->transformers) (3.0.4)\n",
            "Installing collected packages: tokenizers, huggingface-hub, transformers\n",
            "Successfully installed huggingface-hub-0.9.1 tokenizers-0.12.1 transformers-4.21.3\n"
          ]
        }
      ],
      "source": [
        "!pip install transformers"
      ]
    },
    {
      "cell_type": "code",
      "execution_count": null,
      "metadata": {
        "id": "Iabbmj8HX51r"
      },
      "outputs": [],
      "source": [
        "from transformers import TFBertTokenizer, TFBertForSequenceClassification, TFBertModel\n",
        "from transformers import AutoTokenizer, AutoModelForSequenceClassification\n",
        "from transformers import DataCollatorWithPadding"
      ]
    },
    {
      "cell_type": "code",
      "execution_count": null,
      "metadata": {
        "colab": {
          "base_uri": "https://localhost:8080/",
          "height": 246,
          "referenced_widgets": [
            "7d9ea2163dc147c1b2914c045a8f9d8f",
            "2e129364c7fd44bab466423f2dc86827",
            "ee31d57e27624e06a21f8cdcb800f7e5",
            "e1403fff2b5146148b26eb41806b9da3",
            "68b4df5d16a549ce87f204db3c2532bf",
            "57fa9fba3c9144a58aa475c5a00f1dbf",
            "103e2fc11bd2487bbe512714fe221571",
            "71dfc4688a9d4971aa2da5d0c3283869",
            "3dc5a5dd4a5649ba822b258b6148ca58",
            "1602ecd50c5b4855b5721626d91dfaef",
            "2e5ca0bcf78043469157928294e0187c",
            "3ee998cfaf884a9693d5b75c162f1e6a",
            "550d24a6329d4626b30c1fc0eeb82023",
            "4564d56e1f604223a31ed241eb933462",
            "5fd3cff393684ef59baa00eb9df2d3dc",
            "03ea85d5bf3040fea8bb2aff4cd26897",
            "950bfab769e941f3bceaa7d5ceba2857",
            "ce1cee6ac5944356a05f636a2b744267",
            "ff9c7b8de22a4d629ffd7ba7a0d39ae1",
            "5f4c27b270b6485fa44face3ea3852a8",
            "32feb6a0e4b14dbe823ee197d16248ce",
            "f13a86a3a5b447aca243274f7127a50b",
            "03a1224cf5c34e6d8d56c6fe9369388d",
            "78b81c083b524beda3b92fd34ce6efd6",
            "9435d372b281469cb5b79ee954d5b2a4",
            "56c7acd4ec0a4c16a970016c37e21f87",
            "8535c865effd41bd930c568f65681596",
            "c8109f5869a4410c925dcac92dded029",
            "1405d9d8b81d48f9a29ec6509a30ce2b",
            "6e2eb94ba7c4442b9005bf5cc6f5ba93",
            "c76fdccb74c046fcadf44eb02d2288b2",
            "d07d47d7157c419bba42e47801e687b8",
            "c9086255802947a3a3d4e752012e9422",
            "534d843b4d134325b0e003ed06cc1d85",
            "75f863b1f4de4e0fa2fbf9dc219e306d",
            "f4d8f3c7495f4341ad35df2f59ab448e",
            "7f12293e34b04b6fa9df4a4f1675ca76",
            "6b7f033fac9048a49f31149d808c5f59",
            "92d73f4f1c044fddade2f9f30edf376f",
            "5d93e60a1025428e946c9dd32f1caad4",
            "de713aac151b45b4ac619726db6a5f26",
            "6e2515502b694ce79d545ed766cd5450",
            "3d9c770eddef4e258fa81760020061a0",
            "95463a237aef47c198fdab1710a16f2e",
            "733d3066d7e94ebf98910cfd1cf49415",
            "de610a5d69344462951bc6b84edcddcb",
            "75c2b182bca446cba9abb654153d65b1",
            "a7ec9abd8bfc4e4aad87d5a5470c8039",
            "051a3e8f4527409ca4fac54a2f3b46a3",
            "7af789c8bccc4c86ba137fc0432465c0",
            "50f2510c2f6843708d1133ebcbc66826",
            "e6abe6bb74d444d589ec6a3af9713121",
            "aeba4ea5fbf54581b318d97104060a50",
            "ad451cd5ea724bee96001a29ba118f49",
            "3cbe899e5a0a41d9b7cbcbdb114ca8e9"
          ]
        },
        "id": "JzFqbkJVSOYh",
        "outputId": "967a1c81-0219-4446-e33b-39a08e48dcc0"
      },
      "outputs": [
        {
          "data": {
            "application/vnd.jupyter.widget-view+json": {
              "model_id": "7d9ea2163dc147c1b2914c045a8f9d8f",
              "version_major": 2,
              "version_minor": 0
            },
            "text/plain": [
              "Downloading vocab.txt:   0%|          | 0.00/226k [00:00<?, ?B/s]"
            ]
          },
          "metadata": {},
          "output_type": "display_data"
        },
        {
          "data": {
            "application/vnd.jupyter.widget-view+json": {
              "model_id": "3ee998cfaf884a9693d5b75c162f1e6a",
              "version_major": 2,
              "version_minor": 0
            },
            "text/plain": [
              "Downloading special_tokens_map.json:   0%|          | 0.00/112 [00:00<?, ?B/s]"
            ]
          },
          "metadata": {},
          "output_type": "display_data"
        },
        {
          "data": {
            "application/vnd.jupyter.widget-view+json": {
              "model_id": "03a1224cf5c34e6d8d56c6fe9369388d",
              "version_major": 2,
              "version_minor": 0
            },
            "text/plain": [
              "Downloading tokenizer_config.json:   0%|          | 0.00/252 [00:00<?, ?B/s]"
            ]
          },
          "metadata": {},
          "output_type": "display_data"
        },
        {
          "data": {
            "application/vnd.jupyter.widget-view+json": {
              "model_id": "534d843b4d134325b0e003ed06cc1d85",
              "version_major": 2,
              "version_minor": 0
            },
            "text/plain": [
              "Downloading config.json:   0%|          | 0.00/758 [00:00<?, ?B/s]"
            ]
          },
          "metadata": {},
          "output_type": "display_data"
        },
        {
          "data": {
            "application/vnd.jupyter.widget-view+json": {
              "model_id": "733d3066d7e94ebf98910cfd1cf49415",
              "version_major": 2,
              "version_minor": 0
            },
            "text/plain": [
              "Downloading tf_model.h5:   0%|          | 0.00/418M [00:00<?, ?B/s]"
            ]
          },
          "metadata": {},
          "output_type": "display_data"
        },
        {
          "name": "stderr",
          "output_type": "stream",
          "text": [
            "All model checkpoint layers were used when initializing TFBertModel.\n",
            "\n",
            "All the layers of TFBertModel were initialized from the model checkpoint at ProsusAI/finbert.\n",
            "If your task is similar to the task the model of the checkpoint was trained on, you can already use TFBertModel for predictions without further training.\n"
          ]
        }
      ],
      "source": [
        "tokenizer = TFBertTokenizer.from_pretrained('ProsusAI/finbert')   # yiyanghkust/finbert-tone  -  ProsusAI/finbert - yiyanghkust/finbert-pretrain\n",
        "finbert = TFBertModel.from_pretrained('ProsusAI/finbert')\n",
        "\n",
        "# bert-base-uncased 256 -> 90,89\n",
        "# bert-base-uncased 128 -> 92\n",
        "\n",
        "# ProsusAI/finbert 256 -> 91\n",
        "# ProsusAI/finbert 128 -> 90\n",
        "\n",
        "# yiyanghkust/finbert-pretrain -> acc=86%\n",
        "# yiyanghkust/finbert-tone -> 86\n",
        "\n",
        "# tokenizer = AutoTokenizer.from_pretrained(\"ProsusAI/finbert\")\n",
        "# model = AutoModelForSequenceClassification.from_pretrained(\"ProsusAI/finbert\", num_labels=3)"
      ]
    },
    {
      "cell_type": "code",
      "execution_count": null,
      "metadata": {
        "id": "35FNYquaelOA"
      },
      "outputs": [],
      "source": [
        "N_TRAIN = 0.8\n",
        "N_EPOCHS = 20\n",
        "N_SEQ = 128\n",
        "N_BATCH = 32"
      ]
    },
    {
      "cell_type": "code",
      "execution_count": null,
      "metadata": {
        "id": "RQ3EEwDKdsWR"
      },
      "outputs": [],
      "source": [
        "from sklearn.model_selection import train_test_split\n",
        "\n",
        "def create_transformers_bert_base_dataset(data_df, from_compound):\n",
        "    data_df = convert_labels_to_one_hot(data_df, from_compound)\n",
        "    \n",
        "    train_df, val_df = train_test_split(data_df, train_size=N_TRAIN, shuffle=True, random_state=42)\n",
        "\n",
        "    x_train = tokenizer(\n",
        "        text=train_df.decoded_tweet.tolist(),\n",
        "        truncation=True,\n",
        "        max_length=N_SEQ,\n",
        "        padding='max_length')\n",
        "\n",
        "    x_val = tokenizer(\n",
        "        text=val_df.decoded_tweet.tolist(),\n",
        "        truncation=True,\n",
        "        max_length=N_SEQ,\n",
        "        padding='max_length')\n",
        "\n",
        "    y_train = train_df[['neg', 'neu', 'pos']].to_numpy()\n",
        "    y_val = val_df[['neg', 'neu', 'pos']].to_numpy()\n",
        "\n",
        "    train_data = tf.data.Dataset.from_tensor_slices((\n",
        "        dict({\"attention_mask\": x_train['attention_mask'], \"input_ids\": x_train[\"input_ids\"]}),\n",
        "        y_train\n",
        "    ))\n",
        "    val_data = tf.data.Dataset.from_tensor_slices((\n",
        "        dict({\"attention_mask\": x_val['attention_mask'], \"input_ids\": x_val[\"input_ids\"]}),\n",
        "        y_val\n",
        "    ))\n",
        "\n",
        "    train_data = train_data.shuffle(1000).batch(N_BATCH, drop_remainder = True).prefetch(tf.data.experimental.AUTOTUNE)\n",
        "    val_data = val_data.batch(N_BATCH, drop_remainder = True).prefetch(tf.data.experimental.AUTOTUNE)\n",
        "\n",
        "    return train_data, val_data\n",
        "\n",
        "train_data, val_data = create_transformers_bert_base_dataset(data, from_compound=True)"
      ]
    },
    {
      "cell_type": "code",
      "execution_count": null,
      "metadata": {
        "id": "js8oz1XXY2ee"
      },
      "outputs": [],
      "source": [
        "def create_model(regression_mode=False):\n",
        "    input_ids = tf.keras.layers.Input(shape=(N_SEQ,), dtype=tf.int32, name=\"input_ids\")\n",
        "    input_mask = tf.keras.layers.Input(shape=(N_SEQ,), dtype=tf.int32, name=\"attention_mask\")\n",
        "    embeddings = finbert(input_ids,attention_mask=input_mask)\n",
        "    pooled_output = embeddings[1]\n",
        "    # batch_norm = tf.keras.layers.BatchNormalization()(pooled_output)\n",
        "    # drop = tf.keras.layers.Dropout(0.4)(batch_norm)\n",
        "    # fc = tf.keras.layers.Dense(128, activation='relu')(drop)\n",
        "    \n",
        "    if not regression_mode:\n",
        "        final_output = tf.keras.layers.Dense(3, activation='softmax', name='classifier')(pooled_output)\n",
        "    else:\n",
        "        final_output = tf.keras.layers.Dense(1, activation='tanh', name='regression')(pooled_output)\n",
        "\n",
        "    model = tf.keras.Model(inputs=[input_ids, input_mask], outputs=final_output)\n",
        "\n",
        "    return model"
      ]
    },
    {
      "cell_type": "code",
      "execution_count": null,
      "metadata": {
        "colab": {
          "base_uri": "https://localhost:8080/"
        },
        "id": "rJb17mq5ZNQ1",
        "outputId": "e22e3836-f9eb-4256-c97d-e7f786507524"
      },
      "outputs": [
        {
          "name": "stdout",
          "output_type": "stream",
          "text": [
            "Model: \"model\"\n",
            "__________________________________________________________________________________________________\n",
            " Layer (type)                   Output Shape         Param #     Connected to                     \n",
            "==================================================================================================\n",
            " input_ids (InputLayer)         [(None, 128)]        0           []                               \n",
            "                                                                                                  \n",
            " attention_mask (InputLayer)    [(None, 128)]        0           []                               \n",
            "                                                                                                  \n",
            " tf_bert_model (TFBertModel)    TFBaseModelOutputWi  109482240   ['input_ids[0][0]',              \n",
            "                                thPoolingAndCrossAt               'attention_mask[0][0]']         \n",
            "                                tentions(last_hidde                                               \n",
            "                                n_state=(None, 128,                                               \n",
            "                                 768),                                                            \n",
            "                                 pooler_output=(Non                                               \n",
            "                                e, 768),                                                          \n",
            "                                 past_key_values=No                                               \n",
            "                                ne, hidden_states=N                                               \n",
            "                                one, attentions=Non                                               \n",
            "                                e, cross_attentions                                               \n",
            "                                =None)                                                            \n",
            "                                                                                                  \n",
            " classifier (Dense)             (None, 3)            2307        ['tf_bert_model[0][1]']          \n",
            "                                                                                                  \n",
            "==================================================================================================\n",
            "Total params: 109,484,547\n",
            "Trainable params: 109,484,547\n",
            "Non-trainable params: 0\n",
            "__________________________________________________________________________________________________\n"
          ]
        }
      ],
      "source": [
        "model = create_model(regression_mode=False)\n",
        "model.compile(\n",
        "    optimizer=tf.keras.optimizers.Adam(learning_rate=2e-5),\n",
        "    loss=tf.keras.losses.CategoricalCrossentropy(),\n",
        "    metrics = [tf.keras.metrics.CategoricalAccuracy()]\n",
        ")\n",
        "model.summary()"
      ]
    },
    {
      "cell_type": "code",
      "execution_count": null,
      "metadata": {
        "colab": {
          "base_uri": "https://localhost:8080/"
        },
        "id": "KA8Q4J30ZSuB",
        "outputId": "f3260ab2-a36e-48be-fe03-cffbf1faf070"
      },
      "outputs": [
        {
          "name": "stdout",
          "output_type": "stream",
          "text": [
            "Epoch 1/20\n",
            "216/216 [==============================] - 186s 816ms/step - loss: 0.8158 - categorical_accuracy: 0.6172 - val_loss: 0.5720 - val_categorical_accuracy: 0.7645\n",
            "Epoch 2/20\n",
            "216/216 [==============================] - 181s 837ms/step - loss: 0.4727 - categorical_accuracy: 0.8102 - val_loss: 0.5415 - val_categorical_accuracy: 0.7876\n",
            "Epoch 3/20\n",
            "216/216 [==============================] - 183s 848ms/step - loss: 0.2875 - categorical_accuracy: 0.8957 - val_loss: 0.6279 - val_categorical_accuracy: 0.7911\n",
            "Epoch 4/20\n",
            "216/216 [==============================] - 183s 848ms/step - loss: 0.1797 - categorical_accuracy: 0.9378 - val_loss: 0.7133 - val_categorical_accuracy: 0.7784\n",
            "Epoch 5/20\n",
            "216/216 [==============================] - 183s 849ms/step - loss: 0.1247 - categorical_accuracy: 0.9566 - val_loss: 0.7531 - val_categorical_accuracy: 0.7841\n",
            "Epoch 6/20\n",
            "216/216 [==============================] - 183s 849ms/step - loss: 0.0829 - categorical_accuracy: 0.9725 - val_loss: 0.8140 - val_categorical_accuracy: 0.7824\n",
            "Epoch 7/20\n",
            "216/216 [==============================] - 183s 848ms/step - loss: 0.0487 - categorical_accuracy: 0.9838 - val_loss: 0.9204 - val_categorical_accuracy: 0.7882\n",
            "Epoch 8/20\n",
            "216/216 [==============================] - 183s 847ms/step - loss: 0.0435 - categorical_accuracy: 0.9854 - val_loss: 1.1133 - val_categorical_accuracy: 0.7784\n",
            "Epoch 9/20\n",
            "216/216 [==============================] - 182s 845ms/step - loss: 0.0328 - categorical_accuracy: 0.9896 - val_loss: 1.0934 - val_categorical_accuracy: 0.7830\n",
            "Epoch 10/20\n",
            "216/216 [==============================] - 183s 847ms/step - loss: 0.0370 - categorical_accuracy: 0.9864 - val_loss: 1.0436 - val_categorical_accuracy: 0.7894\n",
            "Epoch 11/20\n",
            "216/216 [==============================] - 183s 846ms/step - loss: 0.0250 - categorical_accuracy: 0.9931 - val_loss: 1.1572 - val_categorical_accuracy: 0.7766\n",
            "Epoch 12/20\n",
            "216/216 [==============================] - 183s 848ms/step - loss: 0.0215 - categorical_accuracy: 0.9931 - val_loss: 1.1938 - val_categorical_accuracy: 0.7807\n",
            "Epoch 13/20\n",
            "216/216 [==============================] - 183s 849ms/step - loss: 0.0204 - categorical_accuracy: 0.9938 - val_loss: 1.2151 - val_categorical_accuracy: 0.7726\n",
            "Epoch 14/20\n",
            "216/216 [==============================] - 183s 847ms/step - loss: 0.0203 - categorical_accuracy: 0.9938 - val_loss: 1.1254 - val_categorical_accuracy: 0.7766\n",
            "Epoch 15/20\n",
            "216/216 [==============================] - 183s 846ms/step - loss: 0.0256 - categorical_accuracy: 0.9919 - val_loss: 1.0619 - val_categorical_accuracy: 0.7824\n",
            "Epoch 16/20\n",
            "216/216 [==============================] - 183s 848ms/step - loss: 0.0156 - categorical_accuracy: 0.9954 - val_loss: 1.2294 - val_categorical_accuracy: 0.7847\n",
            "Epoch 17/20\n",
            "216/216 [==============================] - 183s 847ms/step - loss: 0.0106 - categorical_accuracy: 0.9975 - val_loss: 1.1998 - val_categorical_accuracy: 0.7911\n",
            "Epoch 18/20\n",
            "216/216 [==============================] - 183s 847ms/step - loss: 0.0099 - categorical_accuracy: 0.9973 - val_loss: 1.2461 - val_categorical_accuracy: 0.7778\n",
            "Epoch 19/20\n",
            "216/216 [==============================] - 183s 846ms/step - loss: 0.0163 - categorical_accuracy: 0.9955 - val_loss: 1.2419 - val_categorical_accuracy: 0.7847\n",
            "Epoch 20/20\n",
            "216/216 [==============================] - 183s 848ms/step - loss: 0.0117 - categorical_accuracy: 0.9967 - val_loss: 1.2777 - val_categorical_accuracy: 0.7812\n"
          ]
        },
        {
          "data": {
            "text/plain": [
              "<keras.callbacks.History at 0x7f476253f3d0>"
            ]
          },
          "execution_count": 20,
          "metadata": {},
          "output_type": "execute_result"
        }
      ],
      "source": [
        "tensorboard_callback = tf.keras.callbacks.TensorBoard(log_dir=\"./logs/finbert/one-hot/crawled/8500\")\n",
        "\n",
        "model.fit(train_data, validation_data=val_data, epochs=N_EPOCHS, callbacks=[tensorboard_callback])"
      ]
    },
    {
      "cell_type": "markdown",
      "metadata": {
        "id": "Epl2Td6keid7"
      },
      "source": [
        "# Load and evaluate trained models"
      ]
    },
    {
      "cell_type": "code",
      "execution_count": null,
      "metadata": {
        "id": "AS2ypHu90YrZ"
      },
      "outputs": [],
      "source": [
        "# load model\n",
        "# s_model = load_model(\"./model2_balance_98K_noSpell_model.hdf5\")\n",
        "model, checkpoint, early_stopping = build_model_2(\n",
        "    optimizer=optimizers.Adam(),\n",
        "    loss=losses.MeanAbsoluteError(),\n",
        "    checkpoint_filepath=\"model2_balance_98K_noSpell_model.hdf5\"\n",
        ")\n",
        "\n",
        "model.load_weights(\"model2_balance_98K_noSpell_model.hdf5\")"
      ]
    },
    {
      "cell_type": "code",
      "execution_count": null,
      "metadata": {
        "colab": {
          "base_uri": "https://localhost:8080/"
        },
        "id": "-vV00NbMIfBC",
        "outputId": "aba9dc6a-d195-4a5b-acb8-a3a0ace083da"
      },
      "outputs": [
        {
          "name": "stdout",
          "output_type": "stream",
          "text": [
            "307/307 [==============================] - 6s 12ms/step - loss: 0.0288 - mean_absolute_error: 0.0288 - mean_squared_error: 0.0030\n"
          ]
        }
      ],
      "source": [
        "result = model.evaluate(x_val,y_val,batch_size=N_BATCH,return_dict=True)"
      ]
    },
    {
      "cell_type": "code",
      "execution_count": null,
      "metadata": {
        "colab": {
          "base_uri": "https://localhost:8080/"
        },
        "id": "adjKRjabQrM6",
        "outputId": "919d3da6-68c5-45a6-c8d9-5c811120c5c2"
      },
      "outputs": [
        {
          "name": "stdout",
          "output_type": "stream",
          "text": [
            "71/71 [==============================] - 18s 234ms/step\n"
          ]
        }
      ],
      "source": [
        "y_predicted = model.predict(val_data, verbose=1)"
      ]
    },
    {
      "cell_type": "code",
      "execution_count": null,
      "metadata": {
        "id": "zg4Sq8J3aEMg"
      },
      "outputs": [],
      "source": [
        "# for finbert model prediction \n",
        "y_predicted = tf.nn.softmax(y_predicted.logits)"
      ]
    },
    {
      "cell_type": "code",
      "execution_count": null,
      "metadata": {
        "id": "ft1Lg0jbHoo2"
      },
      "outputs": [],
      "source": [
        "y_val = []\n",
        "for batch in val_data.as_numpy_iterator():\n",
        "    y_val += list(batch[1])\n",
        "\n",
        "y_val = np.array(y_val)"
      ]
    },
    {
      "cell_type": "code",
      "execution_count": null,
      "metadata": {
        "id": "nimC35Y8m9QO"
      },
      "outputs": [],
      "source": [
        "from sklearn.metrics import confusion_matrix, ConfusionMatrixDisplay\n",
        "from sklearn.metrics import classification_report\n",
        "\n",
        "def evaluation_report(y_val, y_predicted):\n",
        "    # convert labels to categorical form\n",
        "    y_val_categorical = np.argmax(y_val, axis=-1).reshape(-1, 1)\n",
        "    y_predicted_categorical = np.argmax(y_predicted, axis=-1).reshape(-1, 1)\n",
        "    labels = ['neg', 'neu', 'pos']\n",
        "    \n",
        "    # classification report\n",
        "    print(classification_report(y_val_categorical, y_predicted_categorical, labels=[0,1,2], target_names=labels))\n",
        "    \n",
        "    # confusion matrix\n",
        "    cm = confusion_matrix(y_val_categorical, y_predicted_categorical, labels=[0,1,2])\n",
        "    disp = ConfusionMatrixDisplay(confusion_matrix=cm, display_labels=labels)\n",
        "    disp.plot(cmap=plt.cm.Blues)\n",
        "    plt.show()"
      ]
    },
    {
      "cell_type": "code",
      "execution_count": null,
      "metadata": {
        "colab": {
          "base_uri": "https://localhost:8080/",
          "height": 455
        },
        "id": "WuPRA6XR4w7D",
        "outputId": "5438ac20-d4b5-4a5c-f4fc-e21325d66d37"
      },
      "outputs": [
        {
          "name": "stdout",
          "output_type": "stream",
          "text": [
            "              precision    recall  f1-score   support\n",
            "\n",
            "         neg       0.90      0.86      0.88       696\n",
            "         neu       0.88      0.79      0.83       812\n",
            "         pos       0.81      0.93      0.87       764\n",
            "\n",
            "    accuracy                           0.86      2272\n",
            "   macro avg       0.86      0.86      0.86      2272\n",
            "weighted avg       0.86      0.86      0.86      2272\n",
            "\n"
          ]
        },
        {
          "data": {
            "image/png": "[encoded data removed]",
            "text/plain": [
              "<Figure size 432x288 with 2 Axes>"
            ]
          },
          "metadata": {},
          "output_type": "display_data"
        }
      ],
      "source": [
        "import warnings\n",
        "warnings.filterwarnings('ignore')\n",
        "\n",
        "evaluation_report(y_val, y_predicted)"
      ]
    },
    {
      "cell_type": "code",
      "execution_count": null,
      "metadata": {
        "id": "EhjZQYzFkJrc"
      },
      "outputs": [],
      "source": [
        "index_word = {0: \"\"}\n",
        "for w, i in word_index.items():\n",
        "    index_word[i] = w"
      ]
    },
    {
      "cell_type": "code",
      "execution_count": null,
      "metadata": {
        "colab": {
          "base_uri": "https://localhost:8080/"
        },
        "id": "uy4fQ-VsKk7n",
        "outputId": "f2e6bf22-ab92-4d1c-c737-d36e0efba332"
      },
      "outputs": [
        {
          "name": "stdout",
          "output_type": "stream",
          "text": [
            "bitcoin btc v pump save day price forced opposite direction supposed drop drop harder drop                         \n",
            "label: [0.47444699 0.47139588 0.05415713] \tpredict: [0.064 0.425 0.511] \n",
            "\n",
            "struggling imagine canadas worst bitcoin exchange look like                                \n",
            "label: [0.56795422 0.32904149 0.10300429] \tpredict: [0.477 0.438 0.085] \n",
            "\n",
            "bitcoin buy xrp                                     \n",
            "label: [0.59451862 0.40548138 0.        ] \tpredict: [0.561 0.439 0.   ] \n",
            "\n",
            "damn forget bitcoin look xrp                                   \n",
            "label: [0.44479005 0.43468118 0.12052877] \tpredict: [0.511 0.488 0.   ] \n",
            "\n",
            "destroys bitcoin one minor criticism                                   \n",
            "label: [0.61878453 0.38121547 0.        ] \tpredict: [0.665 0.261 0.074] \n",
            "\n",
            "laughing out loud house little value bought bitcoin                                \n",
            "label: [0.         0.46412884 0.53587116] \tpredict: [0.   0.35 0.65] \n",
            "\n",
            "love bitcoin                                      \n",
            "label: [0.         0.32714001 0.67285999] \tpredict: [0.    0.252 0.748] \n",
            "\n",
            "bitcoin giveaway crypto cryptogiveaway giveaway btc win wow enter simply follow like retweet comment bitcoin giveaway winner randomly chosen hour tweet good luck                 \n",
            "label: [0.         0.45985401 0.54014599] \tpredict: [0.    0.458 0.541] \n",
            "\n",
            "happy stackingsats saturday buy bitcoin                                   \n",
            "label: [0.         0.33422282 0.66577718] \tpredict: [0.    0.297 0.702] \n",
            "\n",
            "bitcoin giveaway follow like retweet tag least canadian friend canadian friends get free signup airdrop btc                        \n",
            "label: [0.         0.49588631 0.50411369] \tpredict: [0.    0.445 0.555] \n",
            "\n"
          ]
        }
      ],
      "source": [
        "def print_samples(samples_num, category_id):\n",
        "    idxs = np.argmax(y_val, axis=1)==category_id\n",
        "    for n in range(min(len(idxs), samples_num)):\n",
        "        sent_num = x_val[idxs][n]\n",
        "        # print(x_val[idxs][n])\n",
        "        print(\" \".join([index_word[sn] for sn in sent_num]))\n",
        "        print(\"label:\", y_val[idxs][n], \"\\tpredict:\", np.round(y_predicted[idxs][n],3), \"\\n\")\n",
        "\n",
        "print_samples(5,0)\n",
        "# print_samples(5,1)\n",
        "print_samples(5,2)"
      ]
    },
    {
      "cell_type": "markdown",
      "metadata": {
        "id": "m3ieGT5Feo7c"
      },
      "source": [
        "# TensorBoard"
      ]
    },
    {
      "cell_type": "code",
      "execution_count": null,
      "metadata": {
        "id": "xav7cMbFAS4k"
      },
      "outputs": [],
      "source": [
        "%load_ext tensorboard"
      ]
    },
    {
      "cell_type": "code",
      "execution_count": null,
      "metadata": {
        "id": "6gmAApR88Lz0"
      },
      "outputs": [],
      "source": [
        "%tensorboard --logdir='/content/drive/MyDrive/CryptoSentimentAnalysis/logs'"
      ]
    }
  ],
  "metadata": {
    "colab": {
      "collapsed_sections": [
        "xddaaa_OVcIH",
        "n9RJXdqstV_L",
        "koOE0H1WJwOE",
        "myrdWYTWOgFs",
        "IHHkL7THG34c",
        "_NWZW2uMFlHU",
        "zghLsgkqpm_j",
        "bTE5E5F6HbiQ",
        "05ldn_YFvsLs",
        "1zUwgvQno1Uv",
        "0zvj0ls9pAA3",
        "-D5Cqel5Trob",
        "Epl2Td6keid7"
      ],
      "provenance": []
    },
    "gpuClass": "standard",
    "kernelspec": {
      "display_name": "Python 3",
      "name": "python3"
    },
    "language_info": {
      "name": "python"
    },
    "widgets": {
      "application/vnd.jupyter.widget-state+json": {
        "03a1224cf5c34e6d8d56c6fe9369388d": {
          "model_module": "@jupyter-widgets/controls",
          "model_module_version": "1.5.0",
          "model_name": "HBoxModel",
          "state": {
            "_dom_classes": [],
            "_model_module": "@jupyter-widgets/controls",
            "_model_module_version": "1.5.0",
            "_model_name": "HBoxModel",
            "_view_count": null,
            "_view_module": "@jupyter-widgets/controls",
            "_view_module_version": "1.5.0",
            "_view_name": "HBoxView",
            "box_style": "",
            "children": [
              "IPY_MODEL_78b81c083b524beda3b92fd34ce6efd6",
              "IPY_MODEL_9435d372b281469cb5b79ee954d5b2a4",
              "IPY_MODEL_56c7acd4ec0a4c16a970016c37e21f87"
            ],
            "layout": "IPY_MODEL_8535c865effd41bd930c568f65681596"
          }
        },
        "03ea85d5bf3040fea8bb2aff4cd26897": {
          "model_module": "@jupyter-widgets/base",
          "model_module_version": "1.2.0",
          "model_name": "LayoutModel",
          "state": {
            "_model_module": "@jupyter-widgets/base",
            "_model_module_version": "1.2.0",
            "_model_name": "LayoutModel",
            "_view_count": null,
            "_view_module": "@jupyter-widgets/base",
            "_view_module_version": "1.2.0",
            "_view_name": "LayoutView",
            "align_content": null,
            "align_items": null,
            "align_self": null,
            "border": null,
            "bottom": null,
            "display": null,
            "flex": null,
            "flex_flow": null,
            "grid_area": null,
            "grid_auto_columns": null,
            "grid_auto_flow": null,
            "grid_auto_rows": null,
            "grid_column": null,
            "grid_gap": null,
            "grid_row": null,
            "grid_template_areas": null,
            "grid_template_columns": null,
            "grid_template_rows": null,
            "height": null,
            "justify_content": null,
            "justify_items": null,
            "left": null,
            "margin": null,
            "max_height": null,
            "max_width": null,
            "min_height": null,
            "min_width": null,
            "object_fit": null,
            "object_position": null,
            "order": null,
            "overflow": null,
            "overflow_x": null,
            "overflow_y": null,
            "padding": null,
            "right": null,
            "top": null,
            "visibility": null,
            "width": null
          }
        },
        "051a3e8f4527409ca4fac54a2f3b46a3": {
          "model_module": "@jupyter-widgets/base",
          "model_module_version": "1.2.0",
          "model_name": "LayoutModel",
          "state": {
            "_model_module": "@jupyter-widgets/base",
            "_model_module_version": "1.2.0",
            "_model_name": "LayoutModel",
            "_view_count": null,
            "_view_module": "@jupyter-widgets/base",
            "_view_module_version": "1.2.0",
            "_view_name": "LayoutView",
            "align_content": null,
            "align_items": null,
            "align_self": null,
            "border": null,
            "bottom": null,
            "display": null,
            "flex": null,
            "flex_flow": null,
            "grid_area": null,
            "grid_auto_columns": null,
            "grid_auto_flow": null,
            "grid_auto_rows": null,
            "grid_column": null,
            "grid_gap": null,
            "grid_row": null,
            "grid_template_areas": null,
            "grid_template_columns": null,
            "grid_template_rows": null,
            "height": null,
            "justify_content": null,
            "justify_items": null,
            "left": null,
            "margin": null,
            "max_height": null,
            "max_width": null,
            "min_height": null,
            "min_width": null,
            "object_fit": null,
            "object_position": null,
            "order": null,
            "overflow": null,
            "overflow_x": null,
            "overflow_y": null,
            "padding": null,
            "right": null,
            "top": null,
            "visibility": null,
            "width": null
          }
        },
        "103e2fc11bd2487bbe512714fe221571": {
          "model_module": "@jupyter-widgets/controls",
          "model_module_version": "1.5.0",
          "model_name": "DescriptionStyleModel",
          "state": {
            "_model_module": "@jupyter-widgets/controls",
            "_model_module_version": "1.5.0",
            "_model_name": "DescriptionStyleModel",
            "_view_count": null,
            "_view_module": "@jupyter-widgets/base",
            "_view_module_version": "1.2.0",
            "_view_name": "StyleView",
            "description_width": ""
          }
        },
        "1405d9d8b81d48f9a29ec6509a30ce2b": {
          "model_module": "@jupyter-widgets/controls",
          "model_module_version": "1.5.0",
          "model_name": "DescriptionStyleModel",
          "state": {
            "_model_module": "@jupyter-widgets/controls",
            "_model_module_version": "1.5.0",
            "_model_name": "DescriptionStyleModel",
            "_view_count": null,
            "_view_module": "@jupyter-widgets/base",
            "_view_module_version": "1.2.0",
            "_view_name": "StyleView",
            "description_width": ""
          }
        },
        "1602ecd50c5b4855b5721626d91dfaef": {
          "model_module": "@jupyter-widgets/base",
          "model_module_version": "1.2.0",
          "model_name": "LayoutModel",
          "state": {
            "_model_module": "@jupyter-widgets/base",
            "_model_module_version": "1.2.0",
            "_model_name": "LayoutModel",
            "_view_count": null,
            "_view_module": "@jupyter-widgets/base",
            "_view_module_version": "1.2.0",
            "_view_name": "LayoutView",
            "align_content": null,
            "align_items": null,
            "align_self": null,
            "border": null,
            "bottom": null,
            "display": null,
            "flex": null,
            "flex_flow": null,
            "grid_area": null,
            "grid_auto_columns": null,
            "grid_auto_flow": null,
            "grid_auto_rows": null,
            "grid_column": null,
            "grid_gap": null,
            "grid_row": null,
            "grid_template_areas": null,
            "grid_template_columns": null,
            "grid_template_rows": null,
            "height": null,
            "justify_content": null,
            "justify_items": null,
            "left": null,
            "margin": null,
            "max_height": null,
            "max_width": null,
            "min_height": null,
            "min_width": null,
            "object_fit": null,
            "object_position": null,
            "order": null,
            "overflow": null,
            "overflow_x": null,
            "overflow_y": null,
            "padding": null,
            "right": null,
            "top": null,
            "visibility": null,
            "width": null
          }
        },
        "2e129364c7fd44bab466423f2dc86827": {
          "model_module": "@jupyter-widgets/controls",
          "model_module_version": "1.5.0",
          "model_name": "HTMLModel",
          "state": {
            "_dom_classes": [],
            "_model_module": "@jupyter-widgets/controls",
            "_model_module_version": "1.5.0",
            "_model_name": "HTMLModel",
            "_view_count": null,
            "_view_module": "@jupyter-widgets/controls",
            "_view_module_version": "1.5.0",
            "_view_name": "HTMLView",
            "description": "",
            "description_tooltip": null,
            "layout": "IPY_MODEL_57fa9fba3c9144a58aa475c5a00f1dbf",
            "placeholder": "​",
            "style": "IPY_MODEL_103e2fc11bd2487bbe512714fe221571",
            "value": "Downloading vocab.txt: 100%"
          }
        },
        "2e5ca0bcf78043469157928294e0187c": {
          "model_module": "@jupyter-widgets/controls",
          "model_module_version": "1.5.0",
          "model_name": "DescriptionStyleModel",
          "state": {
            "_model_module": "@jupyter-widgets/controls",
            "_model_module_version": "1.5.0",
            "_model_name": "DescriptionStyleModel",
            "_view_count": null,
            "_view_module": "@jupyter-widgets/base",
            "_view_module_version": "1.2.0",
            "_view_name": "StyleView",
            "description_width": ""
          }
        },
        "32feb6a0e4b14dbe823ee197d16248ce": {
          "model_module": "@jupyter-widgets/base",
          "model_module_version": "1.2.0",
          "model_name": "LayoutModel",
          "state": {
            "_model_module": "@jupyter-widgets/base",
            "_model_module_version": "1.2.0",
            "_model_name": "LayoutModel",
            "_view_count": null,
            "_view_module": "@jupyter-widgets/base",
            "_view_module_version": "1.2.0",
            "_view_name": "LayoutView",
            "align_content": null,
            "align_items": null,
            "align_self": null,
            "border": null,
            "bottom": null,
            "display": null,
            "flex": null,
            "flex_flow": null,
            "grid_area": null,
            "grid_auto_columns": null,
            "grid_auto_flow": null,
            "grid_auto_rows": null,
            "grid_column": null,
            "grid_gap": null,
            "grid_row": null,
            "grid_template_areas": null,
            "grid_template_columns": null,
            "grid_template_rows": null,
            "height": null,
            "justify_content": null,
            "justify_items": null,
            "left": null,
            "margin": null,
            "max_height": null,
            "max_width": null,
            "min_height": null,
            "min_width": null,
            "object_fit": null,
            "object_position": null,
            "order": null,
            "overflow": null,
            "overflow_x": null,
            "overflow_y": null,
            "padding": null,
            "right": null,
            "top": null,
            "visibility": null,
            "width": null
          }
        },
        "3cbe899e5a0a41d9b7cbcbdb114ca8e9": {
          "model_module": "@jupyter-widgets/controls",
          "model_module_version": "1.5.0",
          "model_name": "DescriptionStyleModel",
          "state": {
            "_model_module": "@jupyter-widgets/controls",
            "_model_module_version": "1.5.0",
            "_model_name": "DescriptionStyleModel",
            "_view_count": null,
            "_view_module": "@jupyter-widgets/base",
            "_view_module_version": "1.2.0",
            "_view_name": "StyleView",
            "description_width": ""
          }
        },
        "3d9c770eddef4e258fa81760020061a0": {
          "model_module": "@jupyter-widgets/base",
          "model_module_version": "1.2.0",
          "model_name": "LayoutModel",
          "state": {
            "_model_module": "@jupyter-widgets/base",
            "_model_module_version": "1.2.0",
            "_model_name": "LayoutModel",
            "_view_count": null,
            "_view_module": "@jupyter-widgets/base",
            "_view_module_version": "1.2.0",
            "_view_name": "LayoutView",
            "align_content": null,
            "align_items": null,
            "align_self": null,
            "border": null,
            "bottom": null,
            "display": null,
            "flex": null,
            "flex_flow": null,
            "grid_area": null,
            "grid_auto_columns": null,
            "grid_auto_flow": null,
            "grid_auto_rows": null,
            "grid_column": null,
            "grid_gap": null,
            "grid_row": null,
            "grid_template_areas": null,
            "grid_template_columns": null,
            "grid_template_rows": null,
            "height": null,
            "justify_content": null,
            "justify_items": null,
            "left": null,
            "margin": null,
            "max_height": null,
            "max_width": null,
            "min_height": null,
            "min_width": null,
            "object_fit": null,
            "object_position": null,
            "order": null,
            "overflow": null,
            "overflow_x": null,
            "overflow_y": null,
            "padding": null,
            "right": null,
            "top": null,
            "visibility": null,
            "width": null
          }
        },
        "3dc5a5dd4a5649ba822b258b6148ca58": {
          "model_module": "@jupyter-widgets/controls",
          "model_module_version": "1.5.0",
          "model_name": "ProgressStyleModel",
          "state": {
            "_model_module": "@jupyter-widgets/controls",
            "_model_module_version": "1.5.0",
            "_model_name": "ProgressStyleModel",
            "_view_count": null,
            "_view_module": "@jupyter-widgets/base",
            "_view_module_version": "1.2.0",
            "_view_name": "StyleView",
            "bar_color": null,
            "description_width": ""
          }
        },
        "3ee998cfaf884a9693d5b75c162f1e6a": {
          "model_module": "@jupyter-widgets/controls",
          "model_module_version": "1.5.0",
          "model_name": "HBoxModel",
          "state": {
            "_dom_classes": [],
            "_model_module": "@jupyter-widgets/controls",
            "_model_module_version": "1.5.0",
            "_model_name": "HBoxModel",
            "_view_count": null,
            "_view_module": "@jupyter-widgets/controls",
            "_view_module_version": "1.5.0",
            "_view_name": "HBoxView",
            "box_style": "",
            "children": [
              "IPY_MODEL_550d24a6329d4626b30c1fc0eeb82023",
              "IPY_MODEL_4564d56e1f604223a31ed241eb933462",
              "IPY_MODEL_5fd3cff393684ef59baa00eb9df2d3dc"
            ],
            "layout": "IPY_MODEL_03ea85d5bf3040fea8bb2aff4cd26897"
          }
        },
        "4564d56e1f604223a31ed241eb933462": {
          "model_module": "@jupyter-widgets/controls",
          "model_module_version": "1.5.0",
          "model_name": "FloatProgressModel",
          "state": {
            "_dom_classes": [],
            "_model_module": "@jupyter-widgets/controls",
            "_model_module_version": "1.5.0",
            "_model_name": "FloatProgressModel",
            "_view_count": null,
            "_view_module": "@jupyter-widgets/controls",
            "_view_module_version": "1.5.0",
            "_view_name": "ProgressView",
            "bar_style": "success",
            "description": "",
            "description_tooltip": null,
            "layout": "IPY_MODEL_ff9c7b8de22a4d629ffd7ba7a0d39ae1",
            "max": 112,
            "min": 0,
            "orientation": "horizontal",
            "style": "IPY_MODEL_5f4c27b270b6485fa44face3ea3852a8",
            "value": 112
          }
        },
        "50f2510c2f6843708d1133ebcbc66826": {
          "model_module": "@jupyter-widgets/controls",
          "model_module_version": "1.5.0",
          "model_name": "DescriptionStyleModel",
          "state": {
            "_model_module": "@jupyter-widgets/controls",
            "_model_module_version": "1.5.0",
            "_model_name": "DescriptionStyleModel",
            "_view_count": null,
            "_view_module": "@jupyter-widgets/base",
            "_view_module_version": "1.2.0",
            "_view_name": "StyleView",
            "description_width": ""
          }
        },
        "534d843b4d134325b0e003ed06cc1d85": {
          "model_module": "@jupyter-widgets/controls",
          "model_module_version": "1.5.0",
          "model_name": "HBoxModel",
          "state": {
            "_dom_classes": [],
            "_model_module": "@jupyter-widgets/controls",
            "_model_module_version": "1.5.0",
            "_model_name": "HBoxModel",
            "_view_count": null,
            "_view_module": "@jupyter-widgets/controls",
            "_view_module_version": "1.5.0",
            "_view_name": "HBoxView",
            "box_style": "",
            "children": [
              "IPY_MODEL_75f863b1f4de4e0fa2fbf9dc219e306d",
              "IPY_MODEL_f4d8f3c7495f4341ad35df2f59ab448e",
              "IPY_MODEL_7f12293e34b04b6fa9df4a4f1675ca76"
            ],
            "layout": "IPY_MODEL_6b7f033fac9048a49f31149d808c5f59"
          }
        },
        "550d24a6329d4626b30c1fc0eeb82023": {
          "model_module": "@jupyter-widgets/controls",
          "model_module_version": "1.5.0",
          "model_name": "HTMLModel",
          "state": {
            "_dom_classes": [],
            "_model_module": "@jupyter-widgets/controls",
            "_model_module_version": "1.5.0",
            "_model_name": "HTMLModel",
            "_view_count": null,
            "_view_module": "@jupyter-widgets/controls",
            "_view_module_version": "1.5.0",
            "_view_name": "HTMLView",
            "description": "",
            "description_tooltip": null,
            "layout": "IPY_MODEL_950bfab769e941f3bceaa7d5ceba2857",
            "placeholder": "​",
            "style": "IPY_MODEL_ce1cee6ac5944356a05f636a2b744267",
            "value": "Downloading special_tokens_map.json: 100%"
          }
        },
        "56c7acd4ec0a4c16a970016c37e21f87": {
          "model_module": "@jupyter-widgets/controls",
          "model_module_version": "1.5.0",
          "model_name": "HTMLModel",
          "state": {
            "_dom_classes": [],
            "_model_module": "@jupyter-widgets/controls",
            "_model_module_version": "1.5.0",
            "_model_name": "HTMLModel",
            "_view_count": null,
            "_view_module": "@jupyter-widgets/controls",
            "_view_module_version": "1.5.0",
            "_view_name": "HTMLView",
            "description": "",
            "description_tooltip": null,
            "layout": "IPY_MODEL_d07d47d7157c419bba42e47801e687b8",
            "placeholder": "​",
            "style": "IPY_MODEL_c9086255802947a3a3d4e752012e9422",
            "value": " 252/252 [00:00&lt;00:00, 5.73kB/s]"
          }
        },
        "57fa9fba3c9144a58aa475c5a00f1dbf": {
          "model_module": "@jupyter-widgets/base",
          "model_module_version": "1.2.0",
          "model_name": "LayoutModel",
          "state": {
            "_model_module": "@jupyter-widgets/base",
            "_model_module_version": "1.2.0",
            "_model_name": "LayoutModel",
            "_view_count": null,
            "_view_module": "@jupyter-widgets/base",
            "_view_module_version": "1.2.0",
            "_view_name": "LayoutView",
            "align_content": null,
            "align_items": null,
            "align_self": null,
            "border": null,
            "bottom": null,
            "display": null,
            "flex": null,
            "flex_flow": null,
            "grid_area": null,
            "grid_auto_columns": null,
            "grid_auto_flow": null,
            "grid_auto_rows": null,
            "grid_column": null,
            "grid_gap": null,
            "grid_row": null,
            "grid_template_areas": null,
            "grid_template_columns": null,
            "grid_template_rows": null,
            "height": null,
            "justify_content": null,
            "justify_items": null,
            "left": null,
            "margin": null,
            "max_height": null,
            "max_width": null,
            "min_height": null,
            "min_width": null,
            "object_fit": null,
            "object_position": null,
            "order": null,
            "overflow": null,
            "overflow_x": null,
            "overflow_y": null,
            "padding": null,
            "right": null,
            "top": null,
            "visibility": null,
            "width": null
          }
        },
        "5d93e60a1025428e946c9dd32f1caad4": {
          "model_module": "@jupyter-widgets/controls",
          "model_module_version": "1.5.0",
          "model_name": "DescriptionStyleModel",
          "state": {
            "_model_module": "@jupyter-widgets/controls",
            "_model_module_version": "1.5.0",
            "_model_name": "DescriptionStyleModel",
            "_view_count": null,
            "_view_module": "@jupyter-widgets/base",
            "_view_module_version": "1.2.0",
            "_view_name": "StyleView",
            "description_width": ""
          }
        },
        "5f4c27b270b6485fa44face3ea3852a8": {
          "model_module": "@jupyter-widgets/controls",
          "model_module_version": "1.5.0",
          "model_name": "ProgressStyleModel",
          "state": {
            "_model_module": "@jupyter-widgets/controls",
            "_model_module_version": "1.5.0",
            "_model_name": "ProgressStyleModel",
            "_view_count": null,
            "_view_module": "@jupyter-widgets/base",
            "_view_module_version": "1.2.0",
            "_view_name": "StyleView",
            "bar_color": null,
            "description_width": ""
          }
        },
        "5fd3cff393684ef59baa00eb9df2d3dc": {
          "model_module": "@jupyter-widgets/controls",
          "model_module_version": "1.5.0",
          "model_name": "HTMLModel",
          "state": {
            "_dom_classes": [],
            "_model_module": "@jupyter-widgets/controls",
            "_model_module_version": "1.5.0",
            "_model_name": "HTMLModel",
            "_view_count": null,
            "_view_module": "@jupyter-widgets/controls",
            "_view_module_version": "1.5.0",
            "_view_name": "HTMLView",
            "description": "",
            "description_tooltip": null,
            "layout": "IPY_MODEL_32feb6a0e4b14dbe823ee197d16248ce",
            "placeholder": "​",
            "style": "IPY_MODEL_f13a86a3a5b447aca243274f7127a50b",
            "value": " 112/112 [00:00&lt;00:00, 3.52kB/s]"
          }
        },
        "68b4df5d16a549ce87f204db3c2532bf": {
          "model_module": "@jupyter-widgets/base",
          "model_module_version": "1.2.0",
          "model_name": "LayoutModel",
          "state": {
            "_model_module": "@jupyter-widgets/base",
            "_model_module_version": "1.2.0",
            "_model_name": "LayoutModel",
            "_view_count": null,
            "_view_module": "@jupyter-widgets/base",
            "_view_module_version": "1.2.0",
            "_view_name": "LayoutView",
            "align_content": null,
            "align_items": null,
            "align_self": null,
            "border": null,
            "bottom": null,
            "display": null,
            "flex": null,
            "flex_flow": null,
            "grid_area": null,
            "grid_auto_columns": null,
            "grid_auto_flow": null,
            "grid_auto_rows": null,
            "grid_column": null,
            "grid_gap": null,
            "grid_row": null,
            "grid_template_areas": null,
            "grid_template_columns": null,
            "grid_template_rows": null,
            "height": null,
            "justify_content": null,
            "justify_items": null,
            "left": null,
            "margin": null,
            "max_height": null,
            "max_width": null,
            "min_height": null,
            "min_width": null,
            "object_fit": null,
            "object_position": null,
            "order": null,
            "overflow": null,
            "overflow_x": null,
            "overflow_y": null,
            "padding": null,
            "right": null,
            "top": null,
            "visibility": null,
            "width": null
          }
        },
        "6b7f033fac9048a49f31149d808c5f59": {
          "model_module": "@jupyter-widgets/base",
          "model_module_version": "1.2.0",
          "model_name": "LayoutModel",
          "state": {
            "_model_module": "@jupyter-widgets/base",
            "_model_module_version": "1.2.0",
            "_model_name": "LayoutModel",
            "_view_count": null,
            "_view_module": "@jupyter-widgets/base",
            "_view_module_version": "1.2.0",
            "_view_name": "LayoutView",
            "align_content": null,
            "align_items": null,
            "align_self": null,
            "border": null,
            "bottom": null,
            "display": null,
            "flex": null,
            "flex_flow": null,
            "grid_area": null,
            "grid_auto_columns": null,
            "grid_auto_flow": null,
            "grid_auto_rows": null,
            "grid_column": null,
            "grid_gap": null,
            "grid_row": null,
            "grid_template_areas": null,
            "grid_template_columns": null,
            "grid_template_rows": null,
            "height": null,
            "justify_content": null,
            "justify_items": null,
            "left": null,
            "margin": null,
            "max_height": null,
            "max_width": null,
            "min_height": null,
            "min_width": null,
            "object_fit": null,
            "object_position": null,
            "order": null,
            "overflow": null,
            "overflow_x": null,
            "overflow_y": null,
            "padding": null,
            "right": null,
            "top": null,
            "visibility": null,
            "width": null
          }
        },
        "6e2515502b694ce79d545ed766cd5450": {
          "model_module": "@jupyter-widgets/controls",
          "model_module_version": "1.5.0",
          "model_name": "ProgressStyleModel",
          "state": {
            "_model_module": "@jupyter-widgets/controls",
            "_model_module_version": "1.5.0",
            "_model_name": "ProgressStyleModel",
            "_view_count": null,
            "_view_module": "@jupyter-widgets/base",
            "_view_module_version": "1.2.0",
            "_view_name": "StyleView",
            "bar_color": null,
            "description_width": ""
          }
        },
        "6e2eb94ba7c4442b9005bf5cc6f5ba93": {
          "model_module": "@jupyter-widgets/base",
          "model_module_version": "1.2.0",
          "model_name": "LayoutModel",
          "state": {
            "_model_module": "@jupyter-widgets/base",
            "_model_module_version": "1.2.0",
            "_model_name": "LayoutModel",
            "_view_count": null,
            "_view_module": "@jupyter-widgets/base",
            "_view_module_version": "1.2.0",
            "_view_name": "LayoutView",
            "align_content": null,
            "align_items": null,
            "align_self": null,
            "border": null,
            "bottom": null,
            "display": null,
            "flex": null,
            "flex_flow": null,
            "grid_area": null,
            "grid_auto_columns": null,
            "grid_auto_flow": null,
            "grid_auto_rows": null,
            "grid_column": null,
            "grid_gap": null,
            "grid_row": null,
            "grid_template_areas": null,
            "grid_template_columns": null,
            "grid_template_rows": null,
            "height": null,
            "justify_content": null,
            "justify_items": null,
            "left": null,
            "margin": null,
            "max_height": null,
            "max_width": null,
            "min_height": null,
            "min_width": null,
            "object_fit": null,
            "object_position": null,
            "order": null,
            "overflow": null,
            "overflow_x": null,
            "overflow_y": null,
            "padding": null,
            "right": null,
            "top": null,
            "visibility": null,
            "width": null
          }
        },
        "71dfc4688a9d4971aa2da5d0c3283869": {
          "model_module": "@jupyter-widgets/base",
          "model_module_version": "1.2.0",
          "model_name": "LayoutModel",
          "state": {
            "_model_module": "@jupyter-widgets/base",
            "_model_module_version": "1.2.0",
            "_model_name": "LayoutModel",
            "_view_count": null,
            "_view_module": "@jupyter-widgets/base",
            "_view_module_version": "1.2.0",
            "_view_name": "LayoutView",
            "align_content": null,
            "align_items": null,
            "align_self": null,
            "border": null,
            "bottom": null,
            "display": null,
            "flex": null,
            "flex_flow": null,
            "grid_area": null,
            "grid_auto_columns": null,
            "grid_auto_flow": null,
            "grid_auto_rows": null,
            "grid_column": null,
            "grid_gap": null,
            "grid_row": null,
            "grid_template_areas": null,
            "grid_template_columns": null,
            "grid_template_rows": null,
            "height": null,
            "justify_content": null,
            "justify_items": null,
            "left": null,
            "margin": null,
            "max_height": null,
            "max_width": null,
            "min_height": null,
            "min_width": null,
            "object_fit": null,
            "object_position": null,
            "order": null,
            "overflow": null,
            "overflow_x": null,
            "overflow_y": null,
            "padding": null,
            "right": null,
            "top": null,
            "visibility": null,
            "width": null
          }
        },
        "733d3066d7e94ebf98910cfd1cf49415": {
          "model_module": "@jupyter-widgets/controls",
          "model_module_version": "1.5.0",
          "model_name": "HBoxModel",
          "state": {
            "_dom_classes": [],
            "_model_module": "@jupyter-widgets/controls",
            "_model_module_version": "1.5.0",
            "_model_name": "HBoxModel",
            "_view_count": null,
            "_view_module": "@jupyter-widgets/controls",
            "_view_module_version": "1.5.0",
            "_view_name": "HBoxView",
            "box_style": "",
            "children": [
              "IPY_MODEL_de610a5d69344462951bc6b84edcddcb",
              "IPY_MODEL_75c2b182bca446cba9abb654153d65b1",
              "IPY_MODEL_a7ec9abd8bfc4e4aad87d5a5470c8039"
            ],
            "layout": "IPY_MODEL_051a3e8f4527409ca4fac54a2f3b46a3"
          }
        },
        "75c2b182bca446cba9abb654153d65b1": {
          "model_module": "@jupyter-widgets/controls",
          "model_module_version": "1.5.0",
          "model_name": "FloatProgressModel",
          "state": {
            "_dom_classes": [],
            "_model_module": "@jupyter-widgets/controls",
            "_model_module_version": "1.5.0",
            "_model_name": "FloatProgressModel",
            "_view_count": null,
            "_view_module": "@jupyter-widgets/controls",
            "_view_module_version": "1.5.0",
            "_view_name": "ProgressView",
            "bar_style": "success",
            "description": "",
            "description_tooltip": null,
            "layout": "IPY_MODEL_e6abe6bb74d444d589ec6a3af9713121",
            "max": 438196200,
            "min": 0,
            "orientation": "horizontal",
            "style": "IPY_MODEL_aeba4ea5fbf54581b318d97104060a50",
            "value": 438196200
          }
        },
        "75f863b1f4de4e0fa2fbf9dc219e306d": {
          "model_module": "@jupyter-widgets/controls",
          "model_module_version": "1.5.0",
          "model_name": "HTMLModel",
          "state": {
            "_dom_classes": [],
            "_model_module": "@jupyter-widgets/controls",
            "_model_module_version": "1.5.0",
            "_model_name": "HTMLModel",
            "_view_count": null,
            "_view_module": "@jupyter-widgets/controls",
            "_view_module_version": "1.5.0",
            "_view_name": "HTMLView",
            "description": "",
            "description_tooltip": null,
            "layout": "IPY_MODEL_92d73f4f1c044fddade2f9f30edf376f",
            "placeholder": "​",
            "style": "IPY_MODEL_5d93e60a1025428e946c9dd32f1caad4",
            "value": "Downloading config.json: 100%"
          }
        },
        "78b81c083b524beda3b92fd34ce6efd6": {
          "model_module": "@jupyter-widgets/controls",
          "model_module_version": "1.5.0",
          "model_name": "HTMLModel",
          "state": {
            "_dom_classes": [],
            "_model_module": "@jupyter-widgets/controls",
            "_model_module_version": "1.5.0",
            "_model_name": "HTMLModel",
            "_view_count": null,
            "_view_module": "@jupyter-widgets/controls",
            "_view_module_version": "1.5.0",
            "_view_name": "HTMLView",
            "description": "",
            "description_tooltip": null,
            "layout": "IPY_MODEL_c8109f5869a4410c925dcac92dded029",
            "placeholder": "​",
            "style": "IPY_MODEL_1405d9d8b81d48f9a29ec6509a30ce2b",
            "value": "Downloading tokenizer_config.json: 100%"
          }
        },
        "7af789c8bccc4c86ba137fc0432465c0": {
          "model_module": "@jupyter-widgets/base",
          "model_module_version": "1.2.0",
          "model_name": "LayoutModel",
          "state": {
            "_model_module": "@jupyter-widgets/base",
            "_model_module_version": "1.2.0",
            "_model_name": "LayoutModel",
            "_view_count": null,
            "_view_module": "@jupyter-widgets/base",
            "_view_module_version": "1.2.0",
            "_view_name": "LayoutView",
            "align_content": null,
            "align_items": null,
            "align_self": null,
            "border": null,
            "bottom": null,
            "display": null,
            "flex": null,
            "flex_flow": null,
            "grid_area": null,
            "grid_auto_columns": null,
            "grid_auto_flow": null,
            "grid_auto_rows": null,
            "grid_column": null,
            "grid_gap": null,
            "grid_row": null,
            "grid_template_areas": null,
            "grid_template_columns": null,
            "grid_template_rows": null,
            "height": null,
            "justify_content": null,
            "justify_items": null,
            "left": null,
            "margin": null,
            "max_height": null,
            "max_width": null,
            "min_height": null,
            "min_width": null,
            "object_fit": null,
            "object_position": null,
            "order": null,
            "overflow": null,
            "overflow_x": null,
            "overflow_y": null,
            "padding": null,
            "right": null,
            "top": null,
            "visibility": null,
            "width": null
          }
        },
        "7d9ea2163dc147c1b2914c045a8f9d8f": {
          "model_module": "@jupyter-widgets/controls",
          "model_module_version": "1.5.0",
          "model_name": "HBoxModel",
          "state": {
            "_dom_classes": [],
            "_model_module": "@jupyter-widgets/controls",
            "_model_module_version": "1.5.0",
            "_model_name": "HBoxModel",
            "_view_count": null,
            "_view_module": "@jupyter-widgets/controls",
            "_view_module_version": "1.5.0",
            "_view_name": "HBoxView",
            "box_style": "",
            "children": [
              "IPY_MODEL_2e129364c7fd44bab466423f2dc86827",
              "IPY_MODEL_ee31d57e27624e06a21f8cdcb800f7e5",
              "IPY_MODEL_e1403fff2b5146148b26eb41806b9da3"
            ],
            "layout": "IPY_MODEL_68b4df5d16a549ce87f204db3c2532bf"
          }
        },
        "7f12293e34b04b6fa9df4a4f1675ca76": {
          "model_module": "@jupyter-widgets/controls",
          "model_module_version": "1.5.0",
          "model_name": "HTMLModel",
          "state": {
            "_dom_classes": [],
            "_model_module": "@jupyter-widgets/controls",
            "_model_module_version": "1.5.0",
            "_model_name": "HTMLModel",
            "_view_count": null,
            "_view_module": "@jupyter-widgets/controls",
            "_view_module_version": "1.5.0",
            "_view_name": "HTMLView",
            "description": "",
            "description_tooltip": null,
            "layout": "IPY_MODEL_3d9c770eddef4e258fa81760020061a0",
            "placeholder": "​",
            "style": "IPY_MODEL_95463a237aef47c198fdab1710a16f2e",
            "value": " 758/758 [00:00&lt;00:00, 24.8kB/s]"
          }
        },
        "8535c865effd41bd930c568f65681596": {
          "model_module": "@jupyter-widgets/base",
          "model_module_version": "1.2.0",
          "model_name": "LayoutModel",
          "state": {
            "_model_module": "@jupyter-widgets/base",
            "_model_module_version": "1.2.0",
            "_model_name": "LayoutModel",
            "_view_count": null,
            "_view_module": "@jupyter-widgets/base",
            "_view_module_version": "1.2.0",
            "_view_name": "LayoutView",
            "align_content": null,
            "align_items": null,
            "align_self": null,
            "border": null,
            "bottom": null,
            "display": null,
            "flex": null,
            "flex_flow": null,
            "grid_area": null,
            "grid_auto_columns": null,
            "grid_auto_flow": null,
            "grid_auto_rows": null,
            "grid_column": null,
            "grid_gap": null,
            "grid_row": null,
            "grid_template_areas": null,
            "grid_template_columns": null,
            "grid_template_rows": null,
            "height": null,
            "justify_content": null,
            "justify_items": null,
            "left": null,
            "margin": null,
            "max_height": null,
            "max_width": null,
            "min_height": null,
            "min_width": null,
            "object_fit": null,
            "object_position": null,
            "order": null,
            "overflow": null,
            "overflow_x": null,
            "overflow_y": null,
            "padding": null,
            "right": null,
            "top": null,
            "visibility": null,
            "width": null
          }
        },
        "92d73f4f1c044fddade2f9f30edf376f": {
          "model_module": "@jupyter-widgets/base",
          "model_module_version": "1.2.0",
          "model_name": "LayoutModel",
          "state": {
            "_model_module": "@jupyter-widgets/base",
            "_model_module_version": "1.2.0",
            "_model_name": "LayoutModel",
            "_view_count": null,
            "_view_module": "@jupyter-widgets/base",
            "_view_module_version": "1.2.0",
            "_view_name": "LayoutView",
            "align_content": null,
            "align_items": null,
            "align_self": null,
            "border": null,
            "bottom": null,
            "display": null,
            "flex": null,
            "flex_flow": null,
            "grid_area": null,
            "grid_auto_columns": null,
            "grid_auto_flow": null,
            "grid_auto_rows": null,
            "grid_column": null,
            "grid_gap": null,
            "grid_row": null,
            "grid_template_areas": null,
            "grid_template_columns": null,
            "grid_template_rows": null,
            "height": null,
            "justify_content": null,
            "justify_items": null,
            "left": null,
            "margin": null,
            "max_height": null,
            "max_width": null,
            "min_height": null,
            "min_width": null,
            "object_fit": null,
            "object_position": null,
            "order": null,
            "overflow": null,
            "overflow_x": null,
            "overflow_y": null,
            "padding": null,
            "right": null,
            "top": null,
            "visibility": null,
            "width": null
          }
        },
        "9435d372b281469cb5b79ee954d5b2a4": {
          "model_module": "@jupyter-widgets/controls",
          "model_module_version": "1.5.0",
          "model_name": "FloatProgressModel",
          "state": {
            "_dom_classes": [],
            "_model_module": "@jupyter-widgets/controls",
            "_model_module_version": "1.5.0",
            "_model_name": "FloatProgressModel",
            "_view_count": null,
            "_view_module": "@jupyter-widgets/controls",
            "_view_module_version": "1.5.0",
            "_view_name": "ProgressView",
            "bar_style": "success",
            "description": "",
            "description_tooltip": null,
            "layout": "IPY_MODEL_6e2eb94ba7c4442b9005bf5cc6f5ba93",
            "max": 252,
            "min": 0,
            "orientation": "horizontal",
            "style": "IPY_MODEL_c76fdccb74c046fcadf44eb02d2288b2",
            "value": 252
          }
        },
        "950bfab769e941f3bceaa7d5ceba2857": {
          "model_module": "@jupyter-widgets/base",
          "model_module_version": "1.2.0",
          "model_name": "LayoutModel",
          "state": {
            "_model_module": "@jupyter-widgets/base",
            "_model_module_version": "1.2.0",
            "_model_name": "LayoutModel",
            "_view_count": null,
            "_view_module": "@jupyter-widgets/base",
            "_view_module_version": "1.2.0",
            "_view_name": "LayoutView",
            "align_content": null,
            "align_items": null,
            "align_self": null,
            "border": null,
            "bottom": null,
            "display": null,
            "flex": null,
            "flex_flow": null,
            "grid_area": null,
            "grid_auto_columns": null,
            "grid_auto_flow": null,
            "grid_auto_rows": null,
            "grid_column": null,
            "grid_gap": null,
            "grid_row": null,
            "grid_template_areas": null,
            "grid_template_columns": null,
            "grid_template_rows": null,
            "height": null,
            "justify_content": null,
            "justify_items": null,
            "left": null,
            "margin": null,
            "max_height": null,
            "max_width": null,
            "min_height": null,
            "min_width": null,
            "object_fit": null,
            "object_position": null,
            "order": null,
            "overflow": null,
            "overflow_x": null,
            "overflow_y": null,
            "padding": null,
            "right": null,
            "top": null,
            "visibility": null,
            "width": null
          }
        },
        "95463a237aef47c198fdab1710a16f2e": {
          "model_module": "@jupyter-widgets/controls",
          "model_module_version": "1.5.0",
          "model_name": "DescriptionStyleModel",
          "state": {
            "_model_module": "@jupyter-widgets/controls",
            "_model_module_version": "1.5.0",
            "_model_name": "DescriptionStyleModel",
            "_view_count": null,
            "_view_module": "@jupyter-widgets/base",
            "_view_module_version": "1.2.0",
            "_view_name": "StyleView",
            "description_width": ""
          }
        },
        "a7ec9abd8bfc4e4aad87d5a5470c8039": {
          "model_module": "@jupyter-widgets/controls",
          "model_module_version": "1.5.0",
          "model_name": "HTMLModel",
          "state": {
            "_dom_classes": [],
            "_model_module": "@jupyter-widgets/controls",
            "_model_module_version": "1.5.0",
            "_model_name": "HTMLModel",
            "_view_count": null,
            "_view_module": "@jupyter-widgets/controls",
            "_view_module_version": "1.5.0",
            "_view_name": "HTMLView",
            "description": "",
            "description_tooltip": null,
            "layout": "IPY_MODEL_ad451cd5ea724bee96001a29ba118f49",
            "placeholder": "​",
            "style": "IPY_MODEL_3cbe899e5a0a41d9b7cbcbdb114ca8e9",
            "value": " 418M/418M [00:25&lt;00:00, 18.0MB/s]"
          }
        },
        "ad451cd5ea724bee96001a29ba118f49": {
          "model_module": "@jupyter-widgets/base",
          "model_module_version": "1.2.0",
          "model_name": "LayoutModel",
          "state": {
            "_model_module": "@jupyter-widgets/base",
            "_model_module_version": "1.2.0",
            "_model_name": "LayoutModel",
            "_view_count": null,
            "_view_module": "@jupyter-widgets/base",
            "_view_module_version": "1.2.0",
            "_view_name": "LayoutView",
            "align_content": null,
            "align_items": null,
            "align_self": null,
            "border": null,
            "bottom": null,
            "display": null,
            "flex": null,
            "flex_flow": null,
            "grid_area": null,
            "grid_auto_columns": null,
            "grid_auto_flow": null,
            "grid_auto_rows": null,
            "grid_column": null,
            "grid_gap": null,
            "grid_row": null,
            "grid_template_areas": null,
            "grid_template_columns": null,
            "grid_template_rows": null,
            "height": null,
            "justify_content": null,
            "justify_items": null,
            "left": null,
            "margin": null,
            "max_height": null,
            "max_width": null,
            "min_height": null,
            "min_width": null,
            "object_fit": null,
            "object_position": null,
            "order": null,
            "overflow": null,
            "overflow_x": null,
            "overflow_y": null,
            "padding": null,
            "right": null,
            "top": null,
            "visibility": null,
            "width": null
          }
        },
        "aeba4ea5fbf54581b318d97104060a50": {
          "model_module": "@jupyter-widgets/controls",
          "model_module_version": "1.5.0",
          "model_name": "ProgressStyleModel",
          "state": {
            "_model_module": "@jupyter-widgets/controls",
            "_model_module_version": "1.5.0",
            "_model_name": "ProgressStyleModel",
            "_view_count": null,
            "_view_module": "@jupyter-widgets/base",
            "_view_module_version": "1.2.0",
            "_view_name": "StyleView",
            "bar_color": null,
            "description_width": ""
          }
        },
        "c76fdccb74c046fcadf44eb02d2288b2": {
          "model_module": "@jupyter-widgets/controls",
          "model_module_version": "1.5.0",
          "model_name": "ProgressStyleModel",
          "state": {
            "_model_module": "@jupyter-widgets/controls",
            "_model_module_version": "1.5.0",
            "_model_name": "ProgressStyleModel",
            "_view_count": null,
            "_view_module": "@jupyter-widgets/base",
            "_view_module_version": "1.2.0",
            "_view_name": "StyleView",
            "bar_color": null,
            "description_width": ""
          }
        },
        "c8109f5869a4410c925dcac92dded029": {
          "model_module": "@jupyter-widgets/base",
          "model_module_version": "1.2.0",
          "model_name": "LayoutModel",
          "state": {
            "_model_module": "@jupyter-widgets/base",
            "_model_module_version": "1.2.0",
            "_model_name": "LayoutModel",
            "_view_count": null,
            "_view_module": "@jupyter-widgets/base",
            "_view_module_version": "1.2.0",
            "_view_name": "LayoutView",
            "align_content": null,
            "align_items": null,
            "align_self": null,
            "border": null,
            "bottom": null,
            "display": null,
            "flex": null,
            "flex_flow": null,
            "grid_area": null,
            "grid_auto_columns": null,
            "grid_auto_flow": null,
            "grid_auto_rows": null,
            "grid_column": null,
            "grid_gap": null,
            "grid_row": null,
            "grid_template_areas": null,
            "grid_template_columns": null,
            "grid_template_rows": null,
            "height": null,
            "justify_content": null,
            "justify_items": null,
            "left": null,
            "margin": null,
            "max_height": null,
            "max_width": null,
            "min_height": null,
            "min_width": null,
            "object_fit": null,
            "object_position": null,
            "order": null,
            "overflow": null,
            "overflow_x": null,
            "overflow_y": null,
            "padding": null,
            "right": null,
            "top": null,
            "visibility": null,
            "width": null
          }
        },
        "c9086255802947a3a3d4e752012e9422": {
          "model_module": "@jupyter-widgets/controls",
          "model_module_version": "1.5.0",
          "model_name": "DescriptionStyleModel",
          "state": {
            "_model_module": "@jupyter-widgets/controls",
            "_model_module_version": "1.5.0",
            "_model_name": "DescriptionStyleModel",
            "_view_count": null,
            "_view_module": "@jupyter-widgets/base",
            "_view_module_version": "1.2.0",
            "_view_name": "StyleView",
            "description_width": ""
          }
        },
        "ce1cee6ac5944356a05f636a2b744267": {
          "model_module": "@jupyter-widgets/controls",
          "model_module_version": "1.5.0",
          "model_name": "DescriptionStyleModel",
          "state": {
            "_model_module": "@jupyter-widgets/controls",
            "_model_module_version": "1.5.0",
            "_model_name": "DescriptionStyleModel",
            "_view_count": null,
            "_view_module": "@jupyter-widgets/base",
            "_view_module_version": "1.2.0",
            "_view_name": "StyleView",
            "description_width": ""
          }
        },
        "d07d47d7157c419bba42e47801e687b8": {
          "model_module": "@jupyter-widgets/base",
          "model_module_version": "1.2.0",
          "model_name": "LayoutModel",
          "state": {
            "_model_module": "@jupyter-widgets/base",
            "_model_module_version": "1.2.0",
            "_model_name": "LayoutModel",
            "_view_count": null,
            "_view_module": "@jupyter-widgets/base",
            "_view_module_version": "1.2.0",
            "_view_name": "LayoutView",
            "align_content": null,
            "align_items": null,
            "align_self": null,
            "border": null,
            "bottom": null,
            "display": null,
            "flex": null,
            "flex_flow": null,
            "grid_area": null,
            "grid_auto_columns": null,
            "grid_auto_flow": null,
            "grid_auto_rows": null,
            "grid_column": null,
            "grid_gap": null,
            "grid_row": null,
            "grid_template_areas": null,
            "grid_template_columns": null,
            "grid_template_rows": null,
            "height": null,
            "justify_content": null,
            "justify_items": null,
            "left": null,
            "margin": null,
            "max_height": null,
            "max_width": null,
            "min_height": null,
            "min_width": null,
            "object_fit": null,
            "object_position": null,
            "order": null,
            "overflow": null,
            "overflow_x": null,
            "overflow_y": null,
            "padding": null,
            "right": null,
            "top": null,
            "visibility": null,
            "width": null
          }
        },
        "de610a5d69344462951bc6b84edcddcb": {
          "model_module": "@jupyter-widgets/controls",
          "model_module_version": "1.5.0",
          "model_name": "HTMLModel",
          "state": {
            "_dom_classes": [],
            "_model_module": "@jupyter-widgets/controls",
            "_model_module_version": "1.5.0",
            "_model_name": "HTMLModel",
            "_view_count": null,
            "_view_module": "@jupyter-widgets/controls",
            "_view_module_version": "1.5.0",
            "_view_name": "HTMLView",
            "description": "",
            "description_tooltip": null,
            "layout": "IPY_MODEL_7af789c8bccc4c86ba137fc0432465c0",
            "placeholder": "​",
            "style": "IPY_MODEL_50f2510c2f6843708d1133ebcbc66826",
            "value": "Downloading tf_model.h5: 100%"
          }
        },
        "de713aac151b45b4ac619726db6a5f26": {
          "model_module": "@jupyter-widgets/base",
          "model_module_version": "1.2.0",
          "model_name": "LayoutModel",
          "state": {
            "_model_module": "@jupyter-widgets/base",
            "_model_module_version": "1.2.0",
            "_model_name": "LayoutModel",
            "_view_count": null,
            "_view_module": "@jupyter-widgets/base",
            "_view_module_version": "1.2.0",
            "_view_name": "LayoutView",
            "align_content": null,
            "align_items": null,
            "align_self": null,
            "border": null,
            "bottom": null,
            "display": null,
            "flex": null,
            "flex_flow": null,
            "grid_area": null,
            "grid_auto_columns": null,
            "grid_auto_flow": null,
            "grid_auto_rows": null,
            "grid_column": null,
            "grid_gap": null,
            "grid_row": null,
            "grid_template_areas": null,
            "grid_template_columns": null,
            "grid_template_rows": null,
            "height": null,
            "justify_content": null,
            "justify_items": null,
            "left": null,
            "margin": null,
            "max_height": null,
            "max_width": null,
            "min_height": null,
            "min_width": null,
            "object_fit": null,
            "object_position": null,
            "order": null,
            "overflow": null,
            "overflow_x": null,
            "overflow_y": null,
            "padding": null,
            "right": null,
            "top": null,
            "visibility": null,
            "width": null
          }
        },
        "e1403fff2b5146148b26eb41806b9da3": {
          "model_module": "@jupyter-widgets/controls",
          "model_module_version": "1.5.0",
          "model_name": "HTMLModel",
          "state": {
            "_dom_classes": [],
            "_model_module": "@jupyter-widgets/controls",
            "_model_module_version": "1.5.0",
            "_model_name": "HTMLModel",
            "_view_count": null,
            "_view_module": "@jupyter-widgets/controls",
            "_view_module_version": "1.5.0",
            "_view_name": "HTMLView",
            "description": "",
            "description_tooltip": null,
            "layout": "IPY_MODEL_1602ecd50c5b4855b5721626d91dfaef",
            "placeholder": "​",
            "style": "IPY_MODEL_2e5ca0bcf78043469157928294e0187c",
            "value": " 226k/226k [00:00&lt;00:00, 195kB/s]"
          }
        },
        "e6abe6bb74d444d589ec6a3af9713121": {
          "model_module": "@jupyter-widgets/base",
          "model_module_version": "1.2.0",
          "model_name": "LayoutModel",
          "state": {
            "_model_module": "@jupyter-widgets/base",
            "_model_module_version": "1.2.0",
            "_model_name": "LayoutModel",
            "_view_count": null,
            "_view_module": "@jupyter-widgets/base",
            "_view_module_version": "1.2.0",
            "_view_name": "LayoutView",
            "align_content": null,
            "align_items": null,
            "align_self": null,
            "border": null,
            "bottom": null,
            "display": null,
            "flex": null,
            "flex_flow": null,
            "grid_area": null,
            "grid_auto_columns": null,
            "grid_auto_flow": null,
            "grid_auto_rows": null,
            "grid_column": null,
            "grid_gap": null,
            "grid_row": null,
            "grid_template_areas": null,
            "grid_template_columns": null,
            "grid_template_rows": null,
            "height": null,
            "justify_content": null,
            "justify_items": null,
            "left": null,
            "margin": null,
            "max_height": null,
            "max_width": null,
            "min_height": null,
            "min_width": null,
            "object_fit": null,
            "object_position": null,
            "order": null,
            "overflow": null,
            "overflow_x": null,
            "overflow_y": null,
            "padding": null,
            "right": null,
            "top": null,
            "visibility": null,
            "width": null
          }
        },
        "ee31d57e27624e06a21f8cdcb800f7e5": {
          "model_module": "@jupyter-widgets/controls",
          "model_module_version": "1.5.0",
          "model_name": "FloatProgressModel",
          "state": {
            "_dom_classes": [],
            "_model_module": "@jupyter-widgets/controls",
            "_model_module_version": "1.5.0",
            "_model_name": "FloatProgressModel",
            "_view_count": null,
            "_view_module": "@jupyter-widgets/controls",
            "_view_module_version": "1.5.0",
            "_view_name": "ProgressView",
            "bar_style": "success",
            "description": "",
            "description_tooltip": null,
            "layout": "IPY_MODEL_71dfc4688a9d4971aa2da5d0c3283869",
            "max": 231508,
            "min": 0,
            "orientation": "horizontal",
            "style": "IPY_MODEL_3dc5a5dd4a5649ba822b258b6148ca58",
            "value": 231508
          }
        },
        "f13a86a3a5b447aca243274f7127a50b": {
          "model_module": "@jupyter-widgets/controls",
          "model_module_version": "1.5.0",
          "model_name": "DescriptionStyleModel",
          "state": {
            "_model_module": "@jupyter-widgets/controls",
            "_model_module_version": "1.5.0",
            "_model_name": "DescriptionStyleModel",
            "_view_count": null,
            "_view_module": "@jupyter-widgets/base",
            "_view_module_version": "1.2.0",
            "_view_name": "StyleView",
            "description_width": ""
          }
        },
        "f4d8f3c7495f4341ad35df2f59ab448e": {
          "model_module": "@jupyter-widgets/controls",
          "model_module_version": "1.5.0",
          "model_name": "FloatProgressModel",
          "state": {
            "_dom_classes": [],
            "_model_module": "@jupyter-widgets/controls",
            "_model_module_version": "1.5.0",
            "_model_name": "FloatProgressModel",
            "_view_count": null,
            "_view_module": "@jupyter-widgets/controls",
            "_view_module_version": "1.5.0",
            "_view_name": "ProgressView",
            "bar_style": "success",
            "description": "",
            "description_tooltip": null,
            "layout": "IPY_MODEL_de713aac151b45b4ac619726db6a5f26",
            "max": 758,
            "min": 0,
            "orientation": "horizontal",
            "style": "IPY_MODEL_6e2515502b694ce79d545ed766cd5450",
            "value": 758
          }
        },
        "ff9c7b8de22a4d629ffd7ba7a0d39ae1": {
          "model_module": "@jupyter-widgets/base",
          "model_module_version": "1.2.0",
          "model_name": "LayoutModel",
          "state": {
            "_model_module": "@jupyter-widgets/base",
            "_model_module_version": "1.2.0",
            "_model_name": "LayoutModel",
            "_view_count": null,
            "_view_module": "@jupyter-widgets/base",
            "_view_module_version": "1.2.0",
            "_view_name": "LayoutView",
            "align_content": null,
            "align_items": null,
            "align_self": null,
            "border": null,
            "bottom": null,
            "display": null,
            "flex": null,
            "flex_flow": null,
            "grid_area": null,
            "grid_auto_columns": null,
            "grid_auto_flow": null,
            "grid_auto_rows": null,
            "grid_column": null,
            "grid_gap": null,
            "grid_row": null,
            "grid_template_areas": null,
            "grid_template_columns": null,
            "grid_template_rows": null,
            "height": null,
            "justify_content": null,
            "justify_items": null,
            "left": null,
            "margin": null,
            "max_height": null,
            "max_width": null,
            "min_height": null,
            "min_width": null,
            "object_fit": null,
            "object_position": null,
            "order": null,
            "overflow": null,
            "overflow_x": null,
            "overflow_y": null,
            "padding": null,
            "right": null,
            "top": null,
            "visibility": null,
            "width": null
          }
        }
      }
    }
  },
  "nbformat": 4,
  "nbformat_minor": 0
}